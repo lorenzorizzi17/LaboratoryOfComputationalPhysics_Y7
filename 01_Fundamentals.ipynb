{
 "cells": [
  {
   "cell_type": "markdown",
   "metadata": {},
   "source": [
    "# Modules/packages/libraries\n",
    "\n",
    "Definitions:\n",
    "\n",
    "  * Modules:\n",
    "  A module is a file which contains python functions, global variables etc. It is nothing but .py file which has python executable code / statement.\n",
    "\n",
    "  * Packages:\n",
    "  A package is a namespace which contains multiple package/modules. It is a directory which contains a special file `__init__.py`\n",
    "  \n",
    "  * Libraries:\n",
    "  A library is a collection of various packages. There is no difference between package and python library conceptually.\n",
    "  \n",
    "Modules/packages/libraries can be easily \"imported\" and made functional in your python code. A set of libriaries comes with every python installation. Others can be installed locally and then imported. Your own code sitting somewhere else in your local computer can be imported too.\n",
    "\n",
    "Further details (very important!) on packages and how to create them can be found online. We may find the need of creating our own during the course."
   ]
  },
  {
   "cell_type": "code",
   "execution_count": 1,
   "metadata": {},
   "outputs": [
    {
     "name": "stdout",
     "output_type": "stream",
     "text": [
      "3.141592653589793\n",
      "3.141592653589793\n",
      "3.141592653589793\n",
      "2.6457513110645907\n"
     ]
    }
   ],
   "source": [
    "###### all the \"stuff\" that is in the math library can be used\n",
    "import math\n",
    "print(math.pi)\n",
    "\n",
    "# you can give math a label for convenience\n",
    "import math as m\n",
    "print (m.pi)\n",
    "\n",
    "# alternatively you can import only a given \"thing\" from the library\n",
    "from math import pi    #you can add several libraries at once, just list them separated by a \", \"\n",
    "print (pi)\n",
    "\n",
    "# or just get everything (very dangerous!!!) DON'T DO-::::::::\n",
    "from math import *\n",
    "print (sqrt(7))\n",
    "\n",
    "import numpy"
   ]
  },
  {
   "cell_type": "markdown",
   "metadata": {},
   "source": [
    "To know which modules are there for you to use just type:"
   ]
  },
  {
   "cell_type": "code",
   "execution_count": 2,
   "metadata": {},
   "outputs": [
    {
     "name": "stdout",
     "output_type": "stream",
     "text": [
      "\n",
      "Please wait a moment while I gather a list of all available modules...\n",
      "\n"
     ]
    },
    {
     "name": "stderr",
     "output_type": "stream",
     "text": [
      "/home/lrizzi17/anaconda3/envs/envLabComp/lib/python3.9/pkgutil.py:93: UserWarning: The numpy.array_api submodule is still experimental. See NEP 47.\n",
      "  __import__(info.name)\n",
      "/home/lrizzi17/anaconda3/envs/envLabComp/lib/python3.9/site-packages/_distutils_hack/__init__.py:31: UserWarning: Setuptools is replacing distutils. Support for replacing an already imported distutils is deprecated. In the future, this condition will fail. Register concerns at https://github.com/pypa/setuptools/issues/new?template=distutils-deprecation.yml\n",
      "  warnings.warn(\n",
      "/home/lrizzi17/anaconda3/envs/envLabComp/lib/python3.9/pkgutil.py:93: DeprecationWarning: `torch.distributed._shard.checkpoint` will be deprecated, use `torch.distributed.checkpoint` instead\n",
      "  __import__(info.name)\n",
      "/home/lrizzi17/anaconda3/envs/envLabComp/lib/python3.9/pkgutil.py:93: DeprecationWarning: `torch.distributed._sharded_tensor` will be deprecated, use `torch.distributed._shard.sharded_tensor` instead\n",
      "  __import__(info.name)\n",
      "/home/lrizzi17/anaconda3/envs/envLabComp/lib/python3.9/pkgutil.py:93: DeprecationWarning: `torch.distributed._sharding_spec` will be deprecated, use `torch.distributed._shard.sharding_spec` instead\n",
      "  __import__(info.name)\n",
      "/home/lrizzi17/anaconda3/envs/envLabComp/lib/python3.9/site-packages/torch/distributed/algorithms/_optimizer_overlap/optimizer_overlap.py:9: DeprecationWarning: `TorchScript` support for functional optimizers is deprecated and will be removed in a future PyTorch release. Consider using the `torch.compile` optimizer instead.\n",
      "  from torch.distributed.optim import as_functional_optim\n"
     ]
    },
    {
     "name": "stdout",
     "output_type": "stream",
     "text": [
      "DistRDF             concurrent          libRGL              plistlib\n",
      "IPython             configparser        libRHTTP            ply\n",
      "JupyROOT            contextlib          libRHTTPSniff       poplib\n",
      "PIL                 contextvars         libRIO              posix\n",
      "PyQt5               contourpy           libRMySQL           posixpath\n",
      "ROOT                copy                libROOTBranchBrowseProvider pprint\n",
      "__future__          copyreg             libROOTBrowsable    profile\n",
      "_abc                cppyy               libROOTBrowserGeomWidget prometheus_client\n",
      "_aix_support        cppyy_backend       libROOTBrowserRCanvasWidget prompt_toolkit\n",
      "_argon2_cffi_bindings crypt               libROOTBrowserTCanvasWidget pstats\n",
      "_ast                csv                 libROOTBrowserTreeWidget psutil\n",
      "_asyncio            ctypes              libROOTBrowserWidgets pty\n",
      "_bisect             curses              libROOTBrowserv7    ptyprocess\n",
      "_blake2             cycler              libROOTCanvasPainter pure_eval\n",
      "_bootlocale         dataclasses         libROOTDataFrame    pwd\n",
      "_bootsubprocess     datetime            libROOTEve          py_compile\n",
      "_brotli             dateutil            libROOTFitPanelv7   pyclbr\n",
      "_bz2                dbm                 libROOTGeoBrowseProvider pycparser\n",
      "_cffi_backend       debugpy             libROOTGeomViewer   pydoc\n",
      "_codecs             decimal             libROOTGpadv7       pydoc_data\n",
      "_codecs_cn          decorator           libROOTGraphicsPrimitives pyexpat\n",
      "_codecs_hk          defusedxml          libROOTHist         pygments\n",
      "_codecs_iso2022     difflib             libROOTHistDraw     pylab\n",
      "_codecs_jp          dis                 libROOTHistDrawProvider pyparsing\n",
      "_codecs_kr          distutils           libROOTLeafDraw6Provider pythonjsonlogger\n",
      "_codecs_tw          doctest             libROOTLeafDraw7Provider pytz\n",
      "_collections        email               libROOTNTuple       qtconsole\n",
      "_collections_abc    encodings           libROOTNTupleBrowseProvider qtpy\n",
      "_compat_pickle      ensurepip           libROOTNTupleDraw6Provider queue\n",
      "_compression        enum                libROOTNTupleDraw7Provider quopri\n",
      "_contextvars        errno               libROOTNTupleUtil   random\n",
      "_crypt              exceptiongroup      libROOTObjectDraw6Provider re\n",
      "_csv                executing           libROOTObjectDraw7Provider readline\n",
      "_ctypes             fastjsonschema      libROOTPythonizations referencing\n",
      "_ctypes_test        faulthandler        libROOTTMVASofie    reprlib\n",
      "_curses             fcntl               libROOTTPython      requests\n",
      "_curses_panel       filecmp             libROOTTreeViewer   resource\n",
      "_datetime           fileinput           libROOTVecOps       rfc3339_validator\n",
      "_decimal            filelock            libROOTWebDisplay   rfc3986_validator\n",
      "_distutils_hack     fnmatch             libRSQLite          rlcompleter\n",
      "_elementtree        fontTools           libRecorder         rpds\n",
      "_functools          formatter           libRint             runpy\n",
      "_hashlib            fractions           libRooBatchCompute  sched\n",
      "_heapq              ftplib              libRooBatchCompute_AVX scipy\n",
      "_imp                function            libRooBatchCompute_AVX2 seaborn\n",
      "_io                 functools           libRooBatchCompute_AVX512 secrets\n",
      "_json               functorch           libRooBatchCompute_GENERIC select\n",
      "_locale             gc                  libRooFit           selectors\n",
      "_lsprof             genericpath         libRooFitCore       send2trash\n",
      "_lzma               getopt              libRooFitHS3        setuptools\n",
      "_markupbase         getpass             libRooFitJSONInterface shelve\n",
      "_md5                gettext             libRooFitMore       shlex\n",
      "_multibytecodec     glob                libRooFitMultiProcess shutil\n",
      "_multiprocessing    gmpy2               libRooFitRDataFrameHelpers signal\n",
      "_opcode             graphlib            libRooFitXRooFit    sipbuild\n",
      "_operator           grp                 libRooFitZMQ        site\n",
      "_osx_support        gzip                libRooStats         six\n",
      "_peg_parser         h11                 libRootAuth         smtpd\n",
      "_pickle             hashlib             libSPlot            smtplib\n",
      "_posixshmem         heapq               libSQLIO            sndhdr\n",
      "_posixsubprocess    hmac                libSmatrix          sniffio\n",
      "_py_abc             html                libSpectrum         socket\n",
      "_pydecimal          http                libSpectrumPainter  socketserver\n",
      "_pyio               httpcore            libSrvAuth          socks\n",
      "_queue              httpx               libTMVA             sockshandler\n",
      "_random             idlelib             libTMVAGui          soupsieve\n",
      "_remote_module_non_scriptable idna                libTMVAUtils        spwd\n",
      "_sha1               imaplib             libThread           sqlite3\n",
      "_sha256             imghdr              libTree             sre_compile\n",
      "_sha3               imp                 libTreePlayer       sre_constants\n",
      "_sha512             importlib           libTreeViewer       sre_parse\n",
      "_signal             importlib_metadata  libUnfold           ssl\n",
      "_sitebuiltins       importlib_resources libUnuran           stack_data\n",
      "_socket             inflect             libWebGui6          stat\n",
      "_sqlite3            inspect             libX3d              statistics\n",
      "_sre                io                  libXMLIO            string\n",
      "_ssl                ipaddress           libXMLParser        stringprep\n",
      "_stat               ipykernel           libcomplexDict      struct\n",
      "_statistics         ipykernel_launcher  libcppyy            subprocess\n",
      "_string             ipywidgets          libcppyy_backend    sunau\n",
      "_strptime           isympy              libdequeDict        symbol\n",
      "_struct             itertools           libforward_listDict sympy\n",
      "_symtable           jedi                liblistDict         symtable\n",
      "_sysconfigdata__linux_x86_64-linux-gnu jinja2              libmap2Dict         sys\n",
      "_sysconfigdata_x86_64_conda_cos6_linux_gnu json                libmapDict          sysconfig\n",
      "_sysconfigdata_x86_64_conda_cos7_linux_gnu json5               libmultimap2Dict    syslog\n",
      "_sysconfigdata_x86_64_conda_linux_gnu jsonschema          libmultimapDict     tabnanny\n",
      "_testbuffer         jsonschema_specifications libmultisetDict     tarfile\n",
      "_testcapi           jupyter             libsetDict          telnetlib\n",
      "_testimportmultiple jupyter_client      libunordered_mapDict tempfile\n",
      "_testinternalcapi   jupyter_console     libunordered_multimapDict terminado\n",
      "_testmultiphase     jupyter_core        libunordered_multisetDict termios\n",
      "_thread             jupyter_events      libunordered_setDict test\n",
      "_threading_local    jupyter_lsp         libvalarrayDict     textwrap\n",
      "_tkinter            jupyter_server      libvectorDict       this\n",
      "_tracemalloc        jupyter_server_terminals linecache           threading\n",
      "_uuid               jupyterlab          locale              time\n",
      "_warnings           jupyterlab_pygments logging             timeit\n",
      "_weakref            jupyterlab_server   lzma                tinycss2\n",
      "_weakrefset         jupyterlab_widgets  mailbox             tkinter\n",
      "_xxsubinterpreters  keyword             mailcap             token\n",
      "_xxtestfuzz         kiwisolver          markupsafe          tokenize\n",
      "_yaml               lib2to3             marshal             tomli\n",
      "_zoneinfo           libASImage          math                torch\n",
      "abc                 libASImageGui       matplotlib          torchgen\n",
      "aifc                libCling            matplotlib_inline   tornado\n",
      "antigravity         libCore             mimetypes           tqdm\n",
      "anyio               libEG               mistune             trace\n",
      "argon2              libEve              mkl                 traceback\n",
      "argparse            libFFTW             mkl_fft             tracemalloc\n",
      "array               libFITSIO           mkl_random          traitlets\n",
      "ast                 libFitPanel         mmap                tty\n",
      "asttokens           libFoam             modulefinder        turtle\n",
      "async_lru           libFumili           more_itertools      turtledemo\n",
      "asynchat            libGX11             mpmath              typeguard\n",
      "asyncio             libGX11TTF          multiprocessing     types\n",
      "asyncore            libGdml             nbclient            typing\n",
      "atexit              libGed              nbconvert           typing_extensions\n",
      "attr                libGenVector        nbformat            tzdata\n",
      "attrs               libGenetic          nest_asyncio        unicodedata\n",
      "audioop             libGeom             netrc               unicodedata2\n",
      "autocommand         libGeomBuilder      networkx            unittest\n",
      "babel               libGeomPainter      nis                 urllib\n",
      "backcall            libGpad             nntplib             urllib3\n",
      "backports           libGraf             notebook            uu\n",
      "base64              libGraf3d           notebook_shim       uuid\n",
      "bdb                 libGui              ntpath              venv\n",
      "binascii            libGuiBld           nturl2path          warnings\n",
      "binhex              libGuiHtml          numbers             wave\n",
      "bisect              libGviz3d           numpy               wcwidth\n",
      "bleach              libHbook            opcode              weakref\n",
      "brotli              libHist             operator            webbrowser\n",
      "bs4                 libHistFactory      optparse            webencodings\n",
      "builtins            libHistPainter      os                  websocket\n",
      "bz2                 libHtml             ossaudiodev         wheel\n",
      "cProfile            libImt              overrides           widgetsnbextension\n",
      "calendar            libMLP              packaging           wsgiref\n",
      "certifi             libMathCore         pandas              xdrlib\n",
      "cffi                libMathMore         pandocfilters       xml\n",
      "cgi                 libMatrix           parser              xmlrpc\n",
      "cgitb               libMinuit           parso               xxlimited\n",
      "charset_normalizer  libMinuit2          pathlib             xxsubtype\n",
      "chunk               libMultiProc        pdb                 yaml\n",
      "cmath               libNet              pexpect             zipapp\n",
      "cmd                 libNetxNG           pickle              zipfile\n",
      "cmdLineUtils        libNew              pickleshare         zipimport\n",
      "code                libPgSQL            pickletools         zipp\n",
      "codecs              libPhysics          pip                 zlib\n",
      "codeop              libPostscript       pipes               zmq\n",
      "collections         libPyMVA            pkg_resources       zoneinfo\n",
      "colorsys            libQuadp            pkgutil             \n",
      "comm                libRCsg             platform            \n",
      "compileall          libRDAVIX           platformdirs        \n",
      "\n",
      "Enter any module name to get more help.  Or, type \"modules spam\" to search\n",
      "for modules whose name or summary contain the string \"spam\".\n",
      "\n",
      "None\n"
     ]
    }
   ],
   "source": [
    "print (help('modules') )\n"
   ]
  },
  {
   "cell_type": "markdown",
   "metadata": {},
   "source": [
    "`pip` is a special package. It is used from the command line to install properly (e.g. matching the version of the local packages) new packages. It can also be used from within python to check i.e. the set installed packages and their versions. N.B.: only the installed packages on top of the default ones will be listed "
   ]
  },
  {
   "cell_type": "code",
   "execution_count": 3,
   "metadata": {},
   "outputs": [
    {
     "name": "stdout",
     "output_type": "stream",
     "text": [
      "['anyio==4.6.2', 'argon2-cffi-bindings==21.2.0', 'argon2-cffi==21.3.0', 'asttokens==2.0.5', 'async-lru==2.0.4', 'attrs==24.2.0', 'autocommand==2.2.2', 'babel==2.11.0', 'backcall==0.2.0', 'backports.tarfile==1.2.0', 'beautifulsoup4==4.12.3', 'bleach==4.1.0', 'brotli==1.0.9', 'certifi==2024.8.30', 'cffi==1.17.1', 'charset-normalizer==3.3.2', 'comm==0.2.1', 'contourpy==1.2.0', 'cycler==0.11.0', 'debugpy==1.6.7', 'decorator==5.1.1', 'defusedxml==0.7.1', 'exceptiongroup==1.2.0', 'executing==0.8.3', 'fastjsonschema==2.16.2', 'filelock==3.13.1', 'fonttools==4.51.0', 'gmpy2==2.1.2', 'h11==0.14.0', 'httpcore==1.0.2', 'httpx==0.27.0', 'idna==3.7', 'importlib-metadata==7.0.1', 'importlib-resources==6.4.0', 'inflect==7.3.1', 'ipykernel==6.29.5', 'ipython==8.15.0', 'ipywidgets==8.1.2', 'jaraco.collections==5.1.0', 'jaraco.context==5.3.0', 'jaraco.functools==4.0.1', 'jaraco.text==3.12.1', 'jedi==0.19.1', 'jinja2==3.1.4', 'json5==0.9.25', 'jsonschema-specifications==2023.7.1', 'jsonschema==4.23.0', 'jupyter-client==8.6.0', 'jupyter-console==6.6.3', 'jupyter-core==5.7.2', 'jupyter-events==0.10.0', 'jupyter-lsp==2.2.0', 'jupyter-server-terminals==0.4.4', 'jupyter-server==2.14.1', 'jupyter==1.0.0', 'jupyterlab-pygments==0.1.2', 'jupyterlab-server==2.27.3', 'jupyterlab-widgets==3.0.10', 'jupyterlab==4.2.5', 'kiwisolver==1.4.4', 'markupsafe==2.1.3', 'matplotlib-inline==0.1.6', 'matplotlib==3.9.2', 'mistune==2.0.4', 'mkl-fft==1.3.11', 'mkl-random==1.2.8', 'mkl-service==2.4.0', 'more-itertools==10.3.0', 'mpmath==1.3.0', 'nbclient==0.8.0', 'nbconvert==7.16.4', 'nbformat==5.10.4', 'nest-asyncio==1.6.0', 'networkx==3.2.1', 'notebook-shim==0.2.3', 'notebook==7.2.2', 'numpy==1.26.4', 'overrides==7.4.0', 'packaging==24.1', 'pandas==2.2.3', 'pandocfilters==1.5.0', 'parso==0.8.3', 'pexpect==4.8.0', 'pickleshare==0.7.5', 'pillow==10.4.0', 'pip==24.2', 'platformdirs==3.10.0', 'ply==3.11', 'prometheus-client==0.14.1', 'prompt-toolkit==3.0.43', 'psutil==5.9.0', 'ptyprocess==0.7.0', 'pure-eval==0.2.2', 'pycparser==2.21', 'pygments==2.15.1', 'pyparsing==3.1.2', 'pyqt5-sip==12.13.0', 'pyqt5==5.15.10', 'pysocks==1.7.1', 'python-dateutil==2.9.0.post0', 'python-json-logger==2.0.7', 'pytz==2024.1', 'pyyaml==6.0.2', 'pyzmq==25.1.2', 'qtconsole==5.6.0', 'qtpy==2.4.1', 'referencing==0.30.2', 'requests==2.32.3', 'rfc3339-validator==0.1.4', 'rfc3986-validator==0.1.1', 'rpds-py==0.10.6', 'scipy==1.13.1', 'seaborn==0.13.2', 'send2trash==1.8.2', 'setuptools==75.1.0', 'sip==6.7.12', 'six==1.16.0', 'sniffio==1.3.0', 'soupsieve==2.5', 'stack-data==0.2.0', 'sympy==1.13.2', 'terminado==0.17.1', 'tinycss2==1.2.1', 'tomli==2.0.1', 'torch==2.4.1', 'tornado==6.4.1', 'tqdm==4.67.1', 'traitlets==5.14.3', 'typeguard==4.3.0', 'typing-extensions==4.11.0', 'tzdata==2024.2', 'unicodedata2==15.1.0', 'urllib3==2.2.3', 'wcwidth==0.2.5', 'webencodings==0.5.1', 'websocket-client==1.8.0', 'wheel==0.44.0', 'widgetsnbextension==4.0.10', 'zipp==3.20.2']\n"
     ]
    }
   ],
   "source": [
    "\"\"\"\"\"\n",
    "try:\n",
    "    # this doesn't work anymore\n",
    "    import pip\n",
    "    sorted([\"%s==%s\" % (i.key, i.version) for i in pip._internal.utils.misc.get_installed_distributions()])\n",
    "    print (\"within try\")\n",
    "\"\"\"\"\" \n",
    "# use this instead\n",
    "import pkg_resources\n",
    "installed_packages = pkg_resources.working_set\n",
    "installed_packages_list = sorted([\"%s==%s\" % (i.key, i.version)\n",
    "    for i in installed_packages])\n",
    "print(installed_packages_list)\n"
   ]
  },
  {
   "cell_type": "markdown",
   "metadata": {},
   "source": [
    "# Copies and Views\n",
    "\n",
    "#### Copies:\n",
    "* A **copy** creates a new object that is a duplicate of the original one.\n",
    "* Changes made to the copy do not affect the original object, and vice versa.\n",
    "* There are two types of copies, coming up for example when dealing with complex data structure (e.g: list of lists):\n",
    "  * Shallow Copy: Only the top-level object is copied. If the original object contains references to other objects (e.g., a list of lists), the references are copied, not the objects themselves. We still have the same lists\n",
    "  * Deep Copy: A complete copy is made, including all nested objects. Changes to any part of the deep copy won’t affect the original object. This will create a completely different object"
   ]
  },
  {
   "cell_type": "code",
   "execution_count": 9,
   "metadata": {},
   "outputs": [
    {
     "name": "stdout",
     "output_type": "stream",
     "text": [
      "Original: [1, 2, [300, 4]]\n",
      "Shallow Copy: [100, 2, [300, 4]]\n"
     ]
    }
   ],
   "source": [
    "# In Python, when you declare a variable, you just associate a name to a PyObject\n",
    "# When you call the copy constructor for a new variable, you just get two different names for the same PyObject in memory\n",
    "# When modifying on one of those names, a new PyObject is created with the modified value and it will be associated to the called name\n",
    "\n",
    "\n",
    "# A library for copying\n",
    "import copy\n",
    "original = [1, 2, [3, 4]]\n",
    "shallow_copy = copy.copy(original)   #normally, by just creating a new list and setting it equal to original, I'll get a view\n",
    "\n",
    "shallow_copy[0] = 100  # This won't affect the original\n",
    "shallow_copy[2][0] = 300  # This will affect the original's nested list\n",
    "\n",
    "print(\"Original:\", original)  # Output: [1, 2, [300, 4]]\n",
    "print(\"Shallow Copy:\", shallow_copy)  # Output: [100, 2, [300, 4]]\n"
   ]
  },
  {
   "cell_type": "markdown",
   "metadata": {},
   "source": [
    "#### Views:\n",
    "A synonim for a refernce, basically. There are no pointers, just an alias (not dealing with a copy though, it is the same memory location)\n",
    "Used when the data structure has to deal with large amount of data, so to avoid unnecessary copies -> when handling slicing, often you'll get a view, in order to avoid copying. See example below\n",
    "* A view provides a reference to the original object without creating a new object.\n",
    "* Changes made through the view directly affect the original object because the view is simply another way of accessing the original data.\n",
    "* We will see in the next classes that NumPy arrays and Pandas DataFrames often deal with views when you slice or manipulate them.\n"
   ]
  },
  {
   "cell_type": "code",
   "execution_count": 8,
   "metadata": {},
   "outputs": [
    {
     "name": "stdout",
     "output_type": "stream",
     "text": [
      "Original array: [  1 100   3   4]\n",
      "View: [100   3]\n"
     ]
    }
   ],
   "source": [
    "import numpy as np\n",
    "arr = np.array([1, 2, 3, 4])\n",
    "view = arr[1:3]  # This creates a view, not a copy. Just a reference, access the same memory location. It is just an alias for that slice\n",
    "\n",
    "view[0] = 100  # Modifies the original array\n",
    "\n",
    "print(\"Original array:\", arr)  # Output: [  1 100   3   4]\n",
    "print(\"View:\", view)  # Output: [100   3]\n"
   ]
  },
  {
   "cell_type": "markdown",
   "metadata": {},
   "source": [
    "# Functions"
   ]
  },
  {
   "cell_type": "code",
   "execution_count": 12,
   "metadata": {},
   "outputs": [
    {
     "name": "stdout",
     "output_type": "stream",
     "text": [
      "9\n",
      "27\n",
      "cube 27\n",
      "square 9\n"
     ]
    }
   ],
   "source": [
    "def square(x):\n",
    "    \"\"\"Square of x.\"\"\"\n",
    "    return x*x\n",
    "\n",
    "def cube(x):\n",
    "    \"\"\"Cube of x.\"\"\"\n",
    "    return x*x*x\n",
    "\n",
    "# create a dictionary of functions\n",
    "funcs = {\n",
    "    'square': square,\n",
    "    'cube': cube,\n",
    "}\n",
    "# labels need to be hashable (I guess it's like an enum). Can you create a dictionary where keys are directly functions? No. Keys need to be \n",
    "# hashable, enumerable \n",
    "\n",
    "x = 3\n",
    "print(square(x))\n",
    "print(cube(x))\n",
    "\n",
    "for func in sorted(funcs):\n",
    "    print (func, funcs[func](x))   #the value here is a function and can be used as such"
   ]
  },
  {
   "cell_type": "markdown",
   "metadata": {},
   "source": [
    "## Functions arguments"
   ]
  },
  {
   "cell_type": "markdown",
   "metadata": {},
   "source": [
    "In Python, whether arguments passed to a function are treated as views or copies depends on the data type of the argument and how it is handled inside the function. Here's how Python handles various types of arguments:\n",
    "\n",
    "**Immutable Types** (e.g., integers, strings, tuples):\n",
    "* For immutable types like `int`, `str`, and `tuple`, when you pass them as arguments to a function, Python creates a copy of the reference to the object, not the object itself.\n",
    "* Since these objects cannot be modified, any attempt to change them inside the function results in the creation of a new object, leaving the original object unchanged."
   ]
  },
  {
   "cell_type": "code",
   "execution_count": 12,
   "metadata": {},
   "outputs": [
    {
     "name": "stdout",
     "output_type": "stream",
     "text": [
      "Inside function: 11\n",
      "Outside function: 10\n"
     ]
    }
   ],
   "source": [
    "# Python assumes that x is passed by value\n",
    "def modify(x):\n",
    "    x += 1\n",
    "    print(\"Inside function:\", x)\n",
    "\n",
    "a = 10\n",
    "modify(a)\n",
    "print(\"Outside function:\", a)\n"
   ]
  },
  {
   "cell_type": "markdown",
   "metadata": {},
   "source": [
    "**Mutable Types** (e.g., lists, dictionaries, sets):\n",
    "* For mutable types like `list`, `dict`, or `set`, Python passes a reference to the original object. This means that any modification made to the object inside the function will affect the original object outside the function, as they both reference the same object (this behaves like a view)."
   ]
  },
  {
   "cell_type": "code",
   "execution_count": 10,
   "metadata": {},
   "outputs": [
    {
     "name": "stdout",
     "output_type": "stream",
     "text": [
      "Inside function: [1, 2, 3, 4]\n",
      "Outside function: [1, 2, 3, 4]\n"
     ]
    }
   ],
   "source": [
    "def modify_list(lst):\n",
    "    lst.append(4)\n",
    "    print(\"Inside function:\", lst)\n",
    "\n",
    "my_list = [1, 2, 3]\n",
    "modify_list(my_list)\n",
    "print(\"Outside function:\", my_list)\n"
   ]
  },
  {
   "cell_type": "markdown",
   "metadata": {},
   "source": [
    "## Higher order functions\n",
    "\n",
    "A function that uses another function as an input argument or returns a function is known as a higher-order function (HOF). The most familiar examples are `map` and `filter`."
   ]
  },
  {
   "cell_type": "markdown",
   "metadata": {},
   "source": [
    "### map\n",
    "\n",
    "The map function applies a function to each member of a collection"
   ]
  },
  {
   "cell_type": "code",
   "execution_count": 14,
   "metadata": {},
   "outputs": [
    {
     "name": "stdout",
     "output_type": "stream",
     "text": [
      "[0, 1, 4, 9, 16]\n",
      "0\n",
      "1\n",
      "4\n",
      "9\n",
      "16\n"
     ]
    },
    {
     "data": {
      "text/plain": [
       "[0, 1, 4, 9, 16, 25]"
      ]
     },
     "execution_count": 14,
     "metadata": {},
     "output_type": "execute_result"
    }
   ],
   "source": [
    "x = list(map(square, range(5))) \n",
    "print (x)\n",
    "\n",
    "# Note the difference w.r.t python 2. In python 3 map retuns an iterator so you can do stuff like:\n",
    "for i in map(square,range(5)): print(i)\n",
    "#It's not exactly a list. An iterator, in Python, is a sort of list that can be shifted. range() is not a list, properly speaking\n",
    "# or\n",
    "[i for i in map(square,range(6))]"
   ]
  },
  {
   "cell_type": "markdown",
   "metadata": {},
   "source": [
    "### filter\n",
    "\n",
    "The filter function applies a predicate to each member of a collection, retaining only those members where the predicate is True"
   ]
  },
  {
   "cell_type": "code",
   "execution_count": 18,
   "metadata": {},
   "outputs": [
    {
     "name": "stdout",
     "output_type": "stream",
     "text": [
      "[0, 2, 4]\n",
      "2\n",
      "4\n",
      "6\n"
     ]
    }
   ],
   "source": [
    "def is_even(x):\n",
    "    return x%2 == 0\n",
    "\n",
    "print(list(filter(is_even, range(5))))\n",
    "\n",
    "#again, filter returns an iterator, not a list. So i can, for example:\n",
    "for i in filter(is_even, [1,2,3,4,5,6,7]): \n",
    "    print(i)"
   ]
  },
  {
   "cell_type": "markdown",
   "metadata": {},
   "source": [
    "Combinations in sequence of HOF are obviously possible"
   ]
  },
  {
   "cell_type": "code",
   "execution_count": 4,
   "metadata": {},
   "outputs": [
    {
     "data": {
      "text/plain": [
       "[0, 4, 16]"
      ]
     },
     "execution_count": 4,
     "metadata": {},
     "output_type": "execute_result"
    }
   ],
   "source": [
    "list(map(square, filter(is_even, range(5))))"
   ]
  },
  {
   "cell_type": "markdown",
   "metadata": {},
   "source": [
    "### reduce\n",
    "\n",
    "The reduce function reduces a collection using a binary operator to combine items two at a time. More often than not reduce can be substituted with a more efficient for loop. It is worth mentioning it for its key role in big-data applications together with map (the map-reduce paradigm). \n",
    "N.B.: it no loger exist as built-in function in python 3, it is now part of the `functools` library"
   ]
  },
  {
   "cell_type": "code",
   "execution_count": 22,
   "metadata": {},
   "outputs": [
    {
     "data": {
      "text/plain": [
       "15"
      ]
     },
     "execution_count": 22,
     "metadata": {},
     "output_type": "execute_result"
    }
   ],
   "source": [
    "from functools import reduce\n",
    "\n",
    "def my_add(x, y):\n",
    "    return x + y\n",
    "\n",
    "# another implementation of the sum function\n",
    "reduce(my_add, [1,2,3,4,5])"
   ]
  },
  {
   "cell_type": "markdown",
   "metadata": {},
   "source": [
    "### zip\n",
    "\n",
    "zip is useful when you need to iterate over matched elements of multiple lists"
   ]
  },
  {
   "cell_type": "code",
   "execution_count": 8,
   "metadata": {},
   "outputs": [
    {
     "name": "stdout",
     "output_type": "stream",
     "text": [
      "1 10 a\n",
      "2 20 b\n",
      "3 30 c\n",
      "4 40 d\n"
     ]
    }
   ],
   "source": [
    "xs = [1, 2, 3, 4]\n",
    "ys = [10, 20, 30, 40]\n",
    "zs = ['a', 'b', 'c','d']\n",
    "\n",
    "for x, y, z in zip(xs, ys, zs):\n",
    "    print (x, y, z)"
   ]
  },
  {
   "cell_type": "markdown",
   "metadata": {},
   "source": [
    "### Custom HOF"
   ]
  },
  {
   "cell_type": "code",
   "execution_count": 24,
   "metadata": {},
   "outputs": [
    {
     "name": "stdout",
     "output_type": "stream",
     "text": [
      "30\n",
      "100\n"
     ]
    }
   ],
   "source": [
    "def custom_sum(xs, transform):\n",
    "    \"\"\"Returns the sum of xs after a user specified transform.\"\"\"\n",
    "    return sum(map(transform, xs))\n",
    "\n",
    "xs = range(5)\n",
    "print (custom_sum(xs, square))\n",
    "print (custom_sum(xs, cube))\n",
    "\n"
   ]
  },
  {
   "cell_type": "markdown",
   "metadata": {},
   "source": [
    "### Returning a function"
   ]
  },
  {
   "cell_type": "code",
   "execution_count": 30,
   "metadata": {},
   "outputs": [],
   "source": [
    "def make_logger(target):\n",
    "    def logger(data):\n",
    "        with open(target, 'a') as f:\n",
    "            f.write(data + '\\n')\n",
    "    return logger\n",
    "\n",
    "foo_logger = make_logger('foo.txt') #foo.txt will be created if not there already\n",
    "foo_logger('Hello')\n",
    "foo_logger('World')"
   ]
  },
  {
   "cell_type": "code",
   "execution_count": 31,
   "metadata": {},
   "outputs": [
    {
     "name": "stdout",
     "output_type": "stream",
     "text": [
      "Hello\n",
      "World\n",
      "Hello\n",
      "World\n",
      "Hello\n",
      "World\n"
     ]
    }
   ],
   "source": [
    "# This is a way to call command-line instruction within Python.\n",
    "# This is more a Jupyter feature\n",
    "! cat 'foo.txt'"
   ]
  },
  {
   "cell_type": "markdown",
   "metadata": {},
   "source": [
    "## Anonimous functions (lambda)\n",
    "\n",
    "When using functional style, there is often the need to create specific functions that perform a limited task as input to a HOF such as map or filter. In such cases, these functions are often written as anonymous or lambda functions. \n",
    "The syntax is as follows:\n",
    "\n",
    "lambda *arguments* : *expression*\n",
    "\n",
    "\n",
    "If you find it hard to understand what a lambda function is doing, it should probably be rewritten as a regular function."
   ]
  },
  {
   "cell_type": "code",
   "execution_count": 32,
   "metadata": {},
   "outputs": [
    {
     "data": {
      "text/plain": [
       "7"
      ]
     },
     "execution_count": 32,
     "metadata": {},
     "output_type": "execute_result"
    }
   ],
   "source": [
    "suml = lambda x,y: x+y\n",
    "suml(3,4)"
   ]
  },
  {
   "cell_type": "code",
   "execution_count": 20,
   "metadata": {},
   "outputs": [
    {
     "data": {
      "text/plain": [
       "7"
      ]
     },
     "execution_count": 20,
     "metadata": {},
     "output_type": "execute_result"
    }
   ],
   "source": [
    "(lambda x,y: x+y)(3,4)"
   ]
  },
  {
   "cell_type": "code",
   "execution_count": 33,
   "metadata": {},
   "outputs": [
    {
     "name": "stdout",
     "output_type": "stream",
     "text": [
      "0\n",
      "1\n",
      "4\n",
      "9\n",
      "16\n"
     ]
    }
   ],
   "source": [
    "for i in map(lambda x: x*x, range(5)): print (i)"
   ]
  },
  {
   "cell_type": "code",
   "execution_count": 22,
   "metadata": {},
   "outputs": [
    {
     "name": "stdout",
     "output_type": "stream",
     "text": [
      "285\n"
     ]
    }
   ],
   "source": [
    "# what does this function do?\n",
    "from functools import reduce\n",
    "s1 = reduce(lambda x, y: x+y, map(lambda x: x**2, range(1,10)))\n",
    "print(s1)\n"
   ]
  },
  {
   "cell_type": "markdown",
   "metadata": {},
   "source": [
    "## Recursive functions "
   ]
  },
  {
   "cell_type": "code",
   "execution_count": 34,
   "metadata": {},
   "outputs": [
    {
     "name": "stdout",
     "output_type": "stream",
     "text": [
      "[1, 1, 2, 3, 5, 8, 13, 21, 34, 55]\n"
     ]
    }
   ],
   "source": [
    "def fib1(n):\n",
    "    \"\"\"Fib with recursion.\"\"\"\n",
    "\n",
    "    # base case\n",
    "    if n==0 or n==1:\n",
    "        return 1\n",
    "    # recursive case\n",
    "    else:\n",
    "        return fib1(n-1) + fib1(n-2)\n",
    "\n",
    "    \n",
    "print ([fib1(i) for i in range(10)])"
   ]
  },
  {
   "cell_type": "code",
   "execution_count": 36,
   "metadata": {},
   "outputs": [
    {
     "name": "stdout",
     "output_type": "stream",
     "text": [
      "[1, 1, 2, 3, 5, 8, 13, 21, 34, 55]\n"
     ]
    }
   ],
   "source": [
    "# In Python, a more efficient version that does not use recursion is\n",
    "\n",
    "def fib2(n):\n",
    "    \"\"\"Fib without recursion.\"\"\"\n",
    "    a, b = 0, 1\n",
    "    for i in range(1, n+1):\n",
    "        a, b = b, a+b\n",
    "    return b\n",
    "\n",
    "print ([fib2(i) for i in range(10)])"
   ]
  },
  {
   "cell_type": "code",
   "execution_count": 37,
   "metadata": {},
   "outputs": [
    {
     "name": "stdout",
     "output_type": "stream",
     "text": [
      "3.73 ms ± 38.1 µs per loop (mean ± std. dev. of 7 runs, 100 loops each)\n",
      "1.98 µs ± 29.9 ns per loop (mean ± std. dev. of 7 runs, 100,000 loops each)\n"
     ]
    }
   ],
   "source": [
    "# check indeed the timing:\n",
    "\n",
    "%timeit fib1(20)\n",
    "%timeit fib2(20)\n"
   ]
  },
  {
   "cell_type": "markdown",
   "metadata": {},
   "source": [
    "## Iterators\n",
    "\n",
    "Iterators represent streams of values. Because only one value is consumed at a time, they use very little memory. Use of iterators is very helpful for working with data sets too large to fit into RAM."
   ]
  },
  {
   "cell_type": "code",
   "execution_count": 39,
   "metadata": {},
   "outputs": [
    {
     "name": "stdout",
     "output_type": "stream",
     "text": [
      "1\n",
      "2\n",
      "3\n"
     ]
    }
   ],
   "source": [
    "# Iterators can be created from sequences with the built-in function iter()\n",
    "# iterators are directly dereferenced (unlike C).\n",
    "\n",
    "xs = [1,2,3]\n",
    "x_iter = iter(xs)\n",
    "\n",
    "print (next(x_iter))\n",
    "print (next(x_iter))\n",
    "print (next(x_iter))\n",
    "#print (next(x_iter))"
   ]
  },
  {
   "cell_type": "code",
   "execution_count": 27,
   "metadata": {},
   "outputs": [
    {
     "name": "stdout",
     "output_type": "stream",
     "text": [
      "1\n",
      "2\n",
      "3\n"
     ]
    }
   ],
   "source": [
    "# Most commonly, iterators are used (automatically) within a for loop\n",
    "# which terminates when it encouters a StopIteration exception\n",
    "\n",
    "x_iter = iter(xs)\n",
    "for x in x_iter:\n",
    "    print (x)"
   ]
  },
  {
   "cell_type": "markdown",
   "metadata": {},
   "source": [
    "## More on comprehensions"
   ]
  },
  {
   "cell_type": "code",
   "execution_count": 40,
   "metadata": {},
   "outputs": [
    {
     "name": "stdout",
     "output_type": "stream",
     "text": [
      "<generator object <genexpr> at 0x7a2a88596890>\n",
      "[0, 1, 4, 9, 16, 25, 36, 49, 64, 81]\n",
      "{0, 1, 2, 3, 4, 5, 6, 7, 8, 9}\n",
      "{0: 'x', 2: 'x', 4: 'x', 6: 'x', 8: 'x'}\n",
      "{'0': 0, '2': 4, '4': 16, '6': 36, '8': 64}\n"
     ]
    }
   ],
   "source": [
    "# A generator expression\n",
    "\n",
    "print ((x for x in range(10)))\n",
    "\n",
    "# A list comprehesnnion (often used)\n",
    "\n",
    "print ([x**2 for x in range(10)])\n",
    "\n",
    "# A set comprehension\n",
    "\n",
    "print ({x for x in range(10)})\n",
    "\n",
    "# A dictionary comprehension (often used)\n",
    "\n",
    "print ({x: \"x\" for x in range(10) if x%2==0})\n",
    "print ({str(x): x**2 for x in range(10) if x%2==0})"
   ]
  },
  {
   "cell_type": "markdown",
   "metadata": {},
   "source": [
    "## Useful Modules\n",
    "\n",
    "You may want to have a look at the content of the following modules for further usage of (HO) functions:\n",
    "  - [operator](https://docs.python.org/3/library/operator.html)\n",
    "  - [functools](https://docs.python.org/3/library/functools.html)\n",
    "  - [itertools](https://docs.python.org/3/library/itertools.html)\n",
    "  - [toolz](https://pypi.org/project/toolz/)\n",
    "  - [funcy](https://pypi.org/project/funcy/)"
   ]
  },
  {
   "cell_type": "markdown",
   "metadata": {},
   "source": [
    "## Decorators\n",
    "\n",
    "Decorators are a type of HOF that take a function and return a wrapped function that provides additional useful properties.\n",
    "\n",
    "Examples:\n",
    "\n",
    "  - logging\n",
    "  - profiling\n",
    "  - Just-In-Time (JIT) compilation"
   ]
  },
  {
   "cell_type": "code",
   "execution_count": 34,
   "metadata": {},
   "outputs": [],
   "source": [
    "def my_decorator(func):\n",
    "    def wrapper():\n",
    "        print(\"Something is happening before the function is called.\")\n",
    "        func()\n",
    "        print(\"Something is happening after the function is called.\")\n",
    "    return wrapper\n",
    "\n",
    "def say_whee():\n",
    "    print(\"Whee!\")\n",
    "\n",
    "say_whee = my_decorator(say_whee)"
   ]
  },
  {
   "cell_type": "code",
   "execution_count": 35,
   "metadata": {},
   "outputs": [
    {
     "name": "stdout",
     "output_type": "stream",
     "text": [
      "Something is happening before the function is called.\n",
      "Whee!\n",
      "Something is happening after the function is called.\n"
     ]
    }
   ],
   "source": [
    "say_whee()"
   ]
  },
  {
   "cell_type": "markdown",
   "metadata": {},
   "source": [
    "Python allows you to use decorators in a simpler way with the @ symbol, sometimes called the “pie” syntax"
   ]
  },
  {
   "cell_type": "code",
   "execution_count": 9,
   "metadata": {},
   "outputs": [],
   "source": [
    "def my_decorator(func):\n",
    "    def wrapper():\n",
    "        print(\"Something is happening before the function is called.\")\n",
    "        func()\n",
    "        print(\"Something is happening after the function is called.\")\n",
    "    return wrapper\n",
    "\n",
    "@my_decorator\n",
    "def say_whee():\n",
    "    print(\"Whee!\")"
   ]
  },
  {
   "cell_type": "code",
   "execution_count": 10,
   "metadata": {},
   "outputs": [
    {
     "name": "stdout",
     "output_type": "stream",
     "text": [
      "Something is happening before the function is called.\n",
      "Whee!\n",
      "Something is happening after the function is called.\n"
     ]
    }
   ],
   "source": [
    "say_whee()"
   ]
  },
  {
   "cell_type": "markdown",
   "metadata": {},
   "source": [
    "#### JIT\n",
    "\n",
    "A JIT (Just-In-Time) compiler refers to a technique used to improve the performance of code execution by compiling code into machine code at runtime, rather than interpreting it line by line. This helps speed up program execution by reducing the overhead of repeatedly interpreting code.\n",
    "\n",
    "While the standard Python interpreter, CPython, does not include a JIT compiler, there are alternative Python implementations that provide JIT compilation, such as PyPy or [numba](https://numba.pydata.org).\n",
    "\n",
    "JIT combines both interpretation and compilation. It interprets code initially, and as it identifies sections of code that are executed repeatedly, it compiles them to machine code, optimizing performance dynamically.\n",
    "\n"
   ]
  },
  {
   "cell_type": "code",
   "execution_count": null,
   "metadata": {},
   "outputs": [],
   "source": [
    "from numba import jit\n",
    "\n",
    "@jit\n",
    "def fast_sum(arr):\n",
    "    total = 0\n",
    "    for i in arr:\n",
    "        total += i\n",
    "    return total"
   ]
  },
  {
   "cell_type": "code",
   "execution_count": null,
   "metadata": {},
   "outputs": [],
   "source": [
    "fast_sum(list(range(100)))\n",
    "\n",
    "# is it really fast? Try to compare with my_add above"
   ]
  },
  {
   "cell_type": "markdown",
   "metadata": {},
   "source": [
    "# Classes and Objects\n",
    "\n",
    "Old school object-oriented programming is possible and often used in python. Classes are defined similarly to standard object-oriented languages, with similar functionalities.\n",
    "\n",
    "The main python doc [page](https://docs.python.org/3/tutorial/classes.html) is worth reading through "
   ]
  },
  {
   "cell_type": "code",
   "execution_count": 12,
   "metadata": {},
   "outputs": [
    {
     "name": "stdout",
     "output_type": "stream",
     "text": [
      "buddy 4\n",
      "None\n",
      "12\n"
     ]
    }
   ],
   "source": [
    "class Pet:\n",
    "    # the \"constructor\"\n",
    "    def __init__(self, name, age):  #inizialize the elements of the class\n",
    "        self.name=name\n",
    "        self.age=age\n",
    "    # class functions take the \"self\" parameter !!! It acts as this in C++\n",
    "    def set_name(self,name):\n",
    "        self.name=name\n",
    "    def convert_age(self,factor):\n",
    "        self.age*=factor\n",
    "\n",
    "buddy=Pet(\"buddy\",4)\n",
    "print (buddy.name, buddy.age)\n",
    "buddy.age=3\n",
    "print (buddy.convert_age(4))\n",
    "print (buddy.age)\n"
   ]
  },
  {
   "cell_type": "code",
   "execution_count": 14,
   "metadata": {},
   "outputs": [
    {
     "name": "stdout",
     "output_type": "stream",
     "text": [
      "mammal\n",
      "tobia\n",
      "70\n"
     ]
    }
   ],
   "source": [
    "# ineritance is straightforward\n",
    "class Dog(Pet):\n",
    "    # the following variables is \"global\", i.e. holds for all \"Dog\" objects\n",
    "    species = \"mammal\"\n",
    "    # functions can be redefined as usual\n",
    "    def convert_age(self):\n",
    "        self.age*=7\n",
    "    def set_species(self, species):\n",
    "        self.species = species\n",
    "\n",
    "puppy=Dog(\"tobia\",10)\n",
    "print(puppy.species)\n",
    "print(puppy.name)\n",
    "puppy.convert_age()\n",
    "print(puppy.age)\n",
    "\n"
   ]
  }
 ],
 "metadata": {
  "kernelspec": {
   "display_name": "Python 3 (ipykernel)",
   "language": "python",
   "name": "python3"
  },
  "language_info": {
   "codemirror_mode": {
    "name": "ipython",
    "version": 3
   },
   "file_extension": ".py",
   "mimetype": "text/x-python",
   "name": "python",
   "nbconvert_exporter": "python",
   "pygments_lexer": "ipython3",
   "version": "3.9.20"
  }
 },
 "nbformat": 4,
 "nbformat_minor": 4
}
