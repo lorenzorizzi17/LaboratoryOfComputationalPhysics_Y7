{
 "cells": [
  {
   "cell_type": "markdown",
   "metadata": {},
   "source": [
    "# Pandas\n",
    "\n",
    "The `numpy` module is excellent for numerical computations, but to handle missing data or arrays with mixed types takes more work. The `pandas` module is currently the most widely used tool for data manipulation, providing high-performance, easy-to-use data structures and advanced data analysis tools.\n",
    "\n",
    "In particular `pandas` features:\n",
    "\n",
    "* A fast and efficient \"DataFrame\" object for data manipulation with integrated indexing;\n",
    "* Tools for reading and writing data between in-memory data structures and different formats (CSV, Excel, SQL, HDF5);\n",
    "* Intelligent data alignment and integrated handling of missing data;\n",
    "* Intelligent label-based slicing, fancy indexing, and subsetting of large data sets;\n",
    "* Aggregating or transforming data with a powerful \"group-by\" engine; \n",
    "* High performance merging and joining of data sets;\n",
    "* Hierarchical axis indexing provides an intuitive way of working with high-dimensional data in a lower-dimensional data structure;\n",
    "* Time series-functionalities;\n",
    "* Highly optimized for performance, with critical code paths written in Cython or C.\n"
   ]
  },
  {
   "cell_type": "code",
   "execution_count": 2,
   "metadata": {},
   "outputs": [],
   "source": [
    "import pandas as pd\n",
    "import numpy as np"
   ]
  },
  {
   "cell_type": "markdown",
   "metadata": {},
   "source": [
    "## Series\n",
    "\n",
    "Series are completely equivalent to 1D array but with axis labels and the possibility to store heterogeneous elements. Of paramount importance are the time-series, used to define time evolutions of a phenomenon. \n"
   ]
  },
  {
   "cell_type": "code",
   "execution_count": 3,
   "metadata": {},
   "outputs": [
    {
     "name": "stdout",
     "output_type": "stream",
     "text": [
      "xs: a    0.0\n",
      "b    0.5\n",
      "c    1.0\n",
      "d    1.5\n",
      "e    2.0\n",
      "f    2.5\n",
      "g    3.0\n",
      "h    3.5\n",
      "i    4.0\n",
      "j    4.5\n",
      "dtype: float64 \n",
      "\n",
      "xs indexes: Index(['a', 'b', 'c', 'd', 'e', 'f', 'g', 'h', 'i', 'j'], dtype='object') \n",
      "\n",
      "xs values: [0.  0.5 1.  1.5 2.  2.5 3.  3.5 4.  4.5] <class 'numpy.ndarray'> \n",
      "\n",
      "2.5 2.5 3.5 \n",
      "\n",
      "d    1.5\n",
      "f    2.5\n",
      "h    3.5\n",
      "dtype: float64 \n",
      "\n",
      "<class 'pandas.core.series.Series'> \n",
      "\n"
     ]
    }
   ],
   "source": [
    "from string import ascii_lowercase as letters\n",
    "\n",
    "# Creating a series, accessing indexes, values and values by their index \n",
    "xs = pd.Series(np.arange(10)*0.5, index=tuple(letters[:10]))\n",
    "print (\"xs:\", xs,'\\n')\n",
    "print (\"xs indexes:\",xs.index,'\\n')\n",
    "# Values of the Series are actually a numpy array\n",
    "print (\"xs values:\", xs.values, type(xs.values),'\\n')\n",
    "print (xs['f'], xs.f, xs.h, '\\n')\n",
    "print (xs[['d', 'f', 'h']], '\\n')\n",
    "print (type(xs[['d', 'f', 'h']]), '\\n')"
   ]
  },
  {
   "cell_type": "code",
   "execution_count": 4,
   "metadata": {},
   "outputs": [
    {
     "name": "stdout",
     "output_type": "stream",
     "text": [
      "a    0.0\n",
      "b    0.5\n",
      "c    1.0\n",
      "dtype: float64 \n",
      "\n",
      "h    3.5\n",
      "i    4.0\n",
      "j    4.5\n",
      "dtype: float64 \n",
      "\n",
      "a    0.0\n",
      "d    1.5\n",
      "g    3.0\n",
      "j    4.5\n",
      "dtype: float64 \n",
      "\n",
      "h    3.5\n",
      "i    4.0\n",
      "j    4.5\n",
      "dtype: float64 \n",
      "\n",
      "a     1.000000\n",
      "b     1.648721\n",
      "c     2.718282\n",
      "d     4.481689\n",
      "e     7.389056\n",
      "f    12.182494\n",
      "g    20.085537\n",
      "h    33.115452\n",
      "i    54.598150\n",
      "j    90.017131\n",
      "dtype: float64 \n",
      "\n",
      "2.25 1.4361406616345072 \n",
      "\n"
     ]
    }
   ],
   "source": [
    "# Extracting elements and operations: same as numpy array\n",
    "# A pandas series can be treated as a numpy array, in this sense\n",
    "# So slicing, indexing, masking, functions, bla bla\n",
    "print (xs[:3],'\\n')\n",
    "print (xs[7:], '\\n')\n",
    "print (xs[::3], '\\n')\n",
    "print (xs[xs>3], '\\n')\n",
    "print (np.exp(xs), '\\n')\n",
    "print (np.mean(xs), np.std(xs), '\\n')"
   ]
  },
  {
   "cell_type": "code",
   "execution_count": 5,
   "metadata": {},
   "outputs": [
    {
     "name": "stdout",
     "output_type": "stream",
     "text": [
      "b         1\n",
      "a       cat\n",
      "c    [2, 3]\n",
      "dtype: object\n"
     ]
    }
   ],
   "source": [
    "# Series can be created from python dictionary too.\n",
    "# Not that the elements can be whatever!\n",
    "#Basically a series is a glorified python dictionary\n",
    "d = {'b' : 1, 'a' : 'cat', 'c' : [2,3]}\n",
    "t = pd.Series(d)\n",
    "print(t)\n",
    "\n"
   ]
  },
  {
   "cell_type": "markdown",
   "metadata": {},
   "source": [
    "A key difference between Series and ndarray is that operations between Series automatically align the data based on label. Thus, you can write computations without considering whether the Series involved have the same labels."
   ]
  },
  {
   "cell_type": "code",
   "execution_count": 6,
   "metadata": {},
   "outputs": [
    {
     "name": "stdout",
     "output_type": "stream",
     "text": [
      "a    0.167600\n",
      "b    0.201489\n",
      "c    0.130246\n",
      "d   -0.382238\n",
      "e   -0.788699\n",
      "dtype: float64\n",
      "a         NaN\n",
      "b    0.402978\n",
      "c    0.260493\n",
      "d   -0.764475\n",
      "e         NaN\n",
      "dtype: float64\n"
     ]
    }
   ],
   "source": [
    "s = pd.Series(np.random.randn(5), index=tuple(letters[:5]))\n",
    "print(s)\n",
    "s = s[1:] + s[:-1]  #if missing data, then panda will simpy output NaN. Panda automatically align data\n",
    "print(s)"
   ]
  },
  {
   "cell_type": "markdown",
   "metadata": {},
   "source": [
    "### Time series\n",
    "\n",
    "Time series are very often used to profile the behaviour of a quantity as a function of time. Pandas has a special index for that, `DatetimeIndex`, that can be created e.g. with the function `pd.data_range()`"
   ]
  },
  {
   "cell_type": "code",
   "execution_count": 7,
   "metadata": {},
   "outputs": [
    {
     "name": "stdout",
     "output_type": "stream",
     "text": [
      "2024-12-23\n",
      "2024-12-27 10:45:10.000015\n",
      "27/11/2024 10:45:00\n",
      "DatetimeIndex(['2024-11-27 10:45:00', '2024-11-28 10:45:00',\n",
      "               '2024-11-29 10:45:00', '2024-11-30 10:45:00',\n",
      "               '2024-12-01 10:45:00', '2024-12-02 10:45:00',\n",
      "               '2024-12-03 10:45:00'],\n",
      "              dtype='datetime64[ns]', freq='D')\n",
      "DatetimeIndex(['2024-11-27 10:45:00', '2024-11-27 10:45:01',\n",
      "               '2024-11-27 10:45:02', '2024-11-27 10:45:03',\n",
      "               '2024-11-27 10:45:04', '2024-11-27 10:45:05',\n",
      "               '2024-11-27 10:45:06', '2024-11-27 10:45:07',\n",
      "               '2024-11-27 10:45:08', '2024-11-27 10:45:09',\n",
      "               ...\n",
      "               '2024-11-27 11:44:50', '2024-11-27 11:44:51',\n",
      "               '2024-11-27 11:44:52', '2024-11-27 11:44:53',\n",
      "               '2024-11-27 11:44:54', '2024-11-27 11:44:55',\n",
      "               '2024-11-27 11:44:56', '2024-11-27 11:44:57',\n",
      "               '2024-11-27 11:44:58', '2024-11-27 11:44:59'],\n",
      "              dtype='datetime64[ns]', length=3600, freq='s')\n"
     ]
    }
   ],
   "source": [
    "# to define a date, the datetime module is very useful\n",
    "import datetime as dt\n",
    "date = dt.date.today()\n",
    "print(date)\n",
    "\n",
    "date = dt.datetime(2024,12,27,10,45,10,15)   #year, month, day, hour, minute, milliseconds\n",
    "print(date)\n",
    "\n",
    "# otherwise, several notations are interpreted too\n",
    "date = 'Nov 27 2024'\n",
    "# or alternatively\n",
    "date = '27/11/2024 10:45:00'\n",
    "print (date)\n",
    "\n",
    "days = pd.date_range(date, periods=7, freq='D')\n",
    "#This (days) is a DatatimeIndex. I guess it's meant to be used like a numpy array of indexes\n",
    "# Datatime is,however, a Python built-in function. Pandas has its ways\n",
    "print (days)\n",
    "\n",
    "seconds = pd.date_range(date, periods=3600, freq='s')\n",
    "print (seconds)\n"
   ]
  },
  {
   "cell_type": "markdown",
   "metadata": {},
   "source": [
    "To learn more about the frequency strings, please see this [link](http://pandas.pydata.org/pandas-docs/stable/timeseries.html#offset-aliases)\n",
    "\n",
    "\n",
    "Timestamped data is the most basic type of time series data that associates values with points in time. For pandas objects it means using the points in time.\n",
    "\n",
    "functions like `pd.to_datetime` can be used, for instance, when reading information as string from a dataset.\n",
    "\n",
    "Timestamp is the pandas equivalent of python’s Datetime and is interchangeable with it in most cases. "
   ]
  },
  {
   "cell_type": "code",
   "execution_count": 8,
   "metadata": {},
   "outputs": [
    {
     "name": "stdout",
     "output_type": "stream",
     "text": [
      "1604880000000000000\n",
      "<class 'pandas._libs.tslibs.timestamps.Timestamp'>\n",
      "1289520000000000000\n",
      "2010-11-12 00:00:00\n",
      "1289520000000000000\n"
     ]
    }
   ],
   "source": [
    "tstamp = pd.Timestamp(dt.datetime(2020, 11, 9))\n",
    "\n",
    "# internally it counts the nanoseconds from January 1st 19\n",
    "#tstamp = pd.Timestamp(dt.datetime(1970, 1, 1, 0, 0, 0, 1))\n",
    "print(tstamp.value)\n",
    "\n",
    "# when creating a timestamp the format can be explicitly passed\n",
    "# a lot of flexibility with parsing in\n",
    "ts = pd.to_datetime('2010/11/12', format='%Y/%m/%d')\n",
    "print (type(ts))\n",
    "print (ts.value)\n",
    "ts = pd.to_datetime('12-11-2010 00:00', format='%d-%m-%Y %H:%M')\n",
    "print (ts)\n",
    "print (ts.value)\n",
    "\n"
   ]
  },
  {
   "cell_type": "markdown",
   "metadata": {},
   "source": [
    "A standard series can be created and (range of) elements can be used as indexes"
   ]
  },
  {
   "cell_type": "code",
   "execution_count": 9,
   "metadata": {
    "scrolled": true
   },
   "outputs": [
    {
     "name": "stdout",
     "output_type": "stream",
     "text": [
      "2024-11-27 10:45:00     9.780621\n",
      "2024-11-28 10:45:00    10.727031\n",
      "2024-11-29 10:45:00    12.220272\n",
      "2024-11-30 10:45:00    10.082807\n",
      "Freq: D, dtype: float64 \n",
      "\n",
      "2024-11-27 10:45:00     9.780621\n",
      "2024-11-28 10:45:00    10.727031\n",
      "2024-11-29 10:45:00    12.220272\n",
      "2024-11-30 10:45:00    10.082807\n",
      "2024-12-01 10:45:00    10.876364\n",
      "2024-12-02 10:45:00     9.194310\n",
      "2024-12-03 10:45:00    10.635603\n",
      "Freq: D, dtype: float64 \n",
      "\n"
     ]
    }
   ],
   "source": [
    "#Here I'm using days, which is a DatatimeIndex (Python built-in)\n",
    "tseries = pd.Series(np.random.normal(10, 1, len(days)), index=days)\n",
    "# Extracting elements\n",
    "print (tseries[0:4], '\\n')\n",
    "print (tseries['2024-11-27':'2024-12-03'], '\\n') # Note - includes end time\n"
   ]
  },
  {
   "cell_type": "markdown",
   "metadata": {},
   "source": [
    "`pd.to_datetime` can also be used to create a `DatetimeIndex`:"
   ]
  },
  {
   "cell_type": "code",
   "execution_count": 10,
   "metadata": {},
   "outputs": [
    {
     "data": {
      "text/plain": [
       "DatetimeIndex(['1980-02-04', '1980-02-05', '1980-02-06', '1980-02-07'], dtype='datetime64[ns]', freq=None)"
      ]
     },
     "execution_count": 10,
     "metadata": {},
     "output_type": "execute_result"
    }
   ],
   "source": [
    "pd.to_datetime([1, 2, 3, 4], unit='D', origin=pd.Timestamp('1980-02-03'))"
   ]
  },
  {
   "cell_type": "markdown",
   "metadata": {},
   "source": [
    "## DataFrame\n",
    "\n",
    "A pandas DataFrame is like a simple tabular spreadsheet. For future reference (or for people already familiar with R), a pandas DataFrame is very similar to the R DataFrame. You can label the rows (indexes) and label the columns (variables name)\n",
    "\n",
    "\n",
    "Each column in a DataFrame is a Series object.\n",
    "\n",
    "The element can be whatever, missing data are dealt with too (as NaN)"
   ]
  },
  {
   "cell_type": "markdown",
   "metadata": {},
   "source": [
    "### DataFrame creation\n",
    "\n",
    "A DataFrame can be created implicitly, with, e.g., a DatatimeIndex object as index:"
   ]
  },
  {
   "cell_type": "code",
   "execution_count": 11,
   "metadata": {},
   "outputs": [
    {
     "data": {
      "text/html": [
       "<div>\n",
       "<style scoped>\n",
       "    .dataframe tbody tr th:only-of-type {\n",
       "        vertical-align: middle;\n",
       "    }\n",
       "\n",
       "    .dataframe tbody tr th {\n",
       "        vertical-align: top;\n",
       "    }\n",
       "\n",
       "    .dataframe thead th {\n",
       "        text-align: right;\n",
       "    }\n",
       "</style>\n",
       "<table border=\"1\" class=\"dataframe\">\n",
       "  <thead>\n",
       "    <tr style=\"text-align: right;\">\n",
       "      <th></th>\n",
       "      <th>A</th>\n",
       "      <th>B</th>\n",
       "      <th>C</th>\n",
       "      <th>D</th>\n",
       "    </tr>\n",
       "  </thead>\n",
       "  <tbody>\n",
       "    <tr>\n",
       "      <th>2024-11-27 10:45:00</th>\n",
       "      <td>0.707049</td>\n",
       "      <td>-0.063820</td>\n",
       "      <td>0.848937</td>\n",
       "      <td>0.405452</td>\n",
       "    </tr>\n",
       "    <tr>\n",
       "      <th>2024-11-27 11:45:00</th>\n",
       "      <td>-0.713943</td>\n",
       "      <td>1.134391</td>\n",
       "      <td>0.032972</td>\n",
       "      <td>-0.425314</td>\n",
       "    </tr>\n",
       "    <tr>\n",
       "      <th>2024-11-27 12:45:00</th>\n",
       "      <td>-1.138729</td>\n",
       "      <td>0.275410</td>\n",
       "      <td>0.329506</td>\n",
       "      <td>-0.913153</td>\n",
       "    </tr>\n",
       "    <tr>\n",
       "      <th>2024-11-27 13:45:00</th>\n",
       "      <td>1.324663</td>\n",
       "      <td>0.060875</td>\n",
       "      <td>-1.209712</td>\n",
       "      <td>-0.862821</td>\n",
       "    </tr>\n",
       "    <tr>\n",
       "      <th>2024-11-27 14:45:00</th>\n",
       "      <td>-1.330522</td>\n",
       "      <td>0.143008</td>\n",
       "      <td>-0.654987</td>\n",
       "      <td>-0.355686</td>\n",
       "    </tr>\n",
       "    <tr>\n",
       "      <th>2024-11-27 15:45:00</th>\n",
       "      <td>0.487129</td>\n",
       "      <td>-0.494165</td>\n",
       "      <td>0.093618</td>\n",
       "      <td>-0.161924</td>\n",
       "    </tr>\n",
       "    <tr>\n",
       "      <th>2024-11-27 16:45:00</th>\n",
       "      <td>0.353471</td>\n",
       "      <td>1.031453</td>\n",
       "      <td>0.206634</td>\n",
       "      <td>-0.489280</td>\n",
       "    </tr>\n",
       "    <tr>\n",
       "      <th>2024-11-27 17:45:00</th>\n",
       "      <td>0.506546</td>\n",
       "      <td>-0.390099</td>\n",
       "      <td>-0.113044</td>\n",
       "      <td>0.638880</td>\n",
       "    </tr>\n",
       "    <tr>\n",
       "      <th>2024-11-27 18:45:00</th>\n",
       "      <td>-0.638488</td>\n",
       "      <td>0.143231</td>\n",
       "      <td>-0.343024</td>\n",
       "      <td>-0.294153</td>\n",
       "    </tr>\n",
       "    <tr>\n",
       "      <th>2024-11-27 19:45:00</th>\n",
       "      <td>0.246915</td>\n",
       "      <td>1.253672</td>\n",
       "      <td>0.525465</td>\n",
       "      <td>-0.062971</td>\n",
       "    </tr>\n",
       "  </tbody>\n",
       "</table>\n",
       "</div>"
      ],
      "text/plain": [
       "                            A         B         C         D\n",
       "2024-11-27 10:45:00  0.707049 -0.063820  0.848937  0.405452\n",
       "2024-11-27 11:45:00 -0.713943  1.134391  0.032972 -0.425314\n",
       "2024-11-27 12:45:00 -1.138729  0.275410  0.329506 -0.913153\n",
       "2024-11-27 13:45:00  1.324663  0.060875 -1.209712 -0.862821\n",
       "2024-11-27 14:45:00 -1.330522  0.143008 -0.654987 -0.355686\n",
       "2024-11-27 15:45:00  0.487129 -0.494165  0.093618 -0.161924\n",
       "2024-11-27 16:45:00  0.353471  1.031453  0.206634 -0.489280\n",
       "2024-11-27 17:45:00  0.506546 -0.390099 -0.113044  0.638880\n",
       "2024-11-27 18:45:00 -0.638488  0.143231 -0.343024 -0.294153\n",
       "2024-11-27 19:45:00  0.246915  1.253672  0.525465 -0.062971"
      ]
     },
     "execution_count": 11,
     "metadata": {},
     "output_type": "execute_result"
    }
   ],
   "source": [
    "entries=10\n",
    "dates=pd.date_range('11/27/2024 10:45:00',freq='h', periods=entries)\n",
    "df = pd.DataFrame(np.random.randn(entries,4), index=dates, columns=['A','B','C','D'])\n",
    "df\n"
   ]
  },
  {
   "cell_type": "markdown",
   "metadata": {},
   "source": [
    "or by means of a dictionary:\n"
   ]
  },
  {
   "cell_type": "code",
   "execution_count": 12,
   "metadata": {},
   "outputs": [
    {
     "data": {
      "text/html": [
       "<div>\n",
       "<style scoped>\n",
       "    .dataframe tbody tr th:only-of-type {\n",
       "        vertical-align: middle;\n",
       "    }\n",
       "\n",
       "    .dataframe tbody tr th {\n",
       "        vertical-align: top;\n",
       "    }\n",
       "\n",
       "    .dataframe thead th {\n",
       "        text-align: right;\n",
       "    }\n",
       "</style>\n",
       "<table border=\"1\" class=\"dataframe\">\n",
       "  <thead>\n",
       "    <tr style=\"text-align: right;\">\n",
       "      <th></th>\n",
       "      <th>A</th>\n",
       "      <th>B</th>\n",
       "      <th>C</th>\n",
       "      <th>D</th>\n",
       "      <th>E</th>\n",
       "    </tr>\n",
       "  </thead>\n",
       "  <tbody>\n",
       "    <tr>\n",
       "      <th>0</th>\n",
       "      <td>1.0</td>\n",
       "      <td>2013-01-02</td>\n",
       "      <td>1.0</td>\n",
       "      <td>7</td>\n",
       "      <td>test</td>\n",
       "    </tr>\n",
       "    <tr>\n",
       "      <th>1</th>\n",
       "      <td>1.0</td>\n",
       "      <td>2013-01-02</td>\n",
       "      <td>1.0</td>\n",
       "      <td>8</td>\n",
       "      <td>train</td>\n",
       "    </tr>\n",
       "    <tr>\n",
       "      <th>2</th>\n",
       "      <td>1.0</td>\n",
       "      <td>2013-01-02</td>\n",
       "      <td>1.0</td>\n",
       "      <td>9</td>\n",
       "      <td>test</td>\n",
       "    </tr>\n",
       "    <tr>\n",
       "      <th>3</th>\n",
       "      <td>1.0</td>\n",
       "      <td>2013-01-02</td>\n",
       "      <td>1.0</td>\n",
       "      <td>10</td>\n",
       "      <td>train</td>\n",
       "    </tr>\n",
       "  </tbody>\n",
       "</table>\n",
       "</div>"
      ],
      "text/plain": [
       "     A          B    C   D      E\n",
       "0  1.0 2013-01-02  1.0   7   test\n",
       "1  1.0 2013-01-02  1.0   8  train\n",
       "2  1.0 2013-01-02  1.0   9   test\n",
       "3  1.0 2013-01-02  1.0  10  train"
      ]
     },
     "execution_count": 12,
     "metadata": {},
     "output_type": "execute_result"
    }
   ],
   "source": [
    "# note that every column of a data frame is a panda series!!!\n",
    "\n",
    "df2 = pd.DataFrame(\n",
    "    { 'A' : 1.,\n",
    "      'B' : pd.Timestamp('20130102'),\n",
    "      'C' : pd.Series(1,index=range(4),dtype='float32'),\n",
    "      'D' : np.arange(7,11),\n",
    "      'E' : pd.Categorical([\"test\",\"train\",\"test\",\"train\"]),\n",
    "    }\n",
    "    )\n",
    "df2\n",
    "\n",
    "# check what happens if D and E had different lenghts "
   ]
  },
  {
   "cell_type": "markdown",
   "metadata": {},
   "source": [
    "### Viewing Data"
   ]
  },
  {
   "cell_type": "code",
   "execution_count": 13,
   "metadata": {},
   "outputs": [
    {
     "data": {
      "text/html": [
       "<div>\n",
       "<style scoped>\n",
       "    .dataframe tbody tr th:only-of-type {\n",
       "        vertical-align: middle;\n",
       "    }\n",
       "\n",
       "    .dataframe tbody tr th {\n",
       "        vertical-align: top;\n",
       "    }\n",
       "\n",
       "    .dataframe thead th {\n",
       "        text-align: right;\n",
       "    }\n",
       "</style>\n",
       "<table border=\"1\" class=\"dataframe\">\n",
       "  <thead>\n",
       "    <tr style=\"text-align: right;\">\n",
       "      <th></th>\n",
       "      <th>A</th>\n",
       "      <th>B</th>\n",
       "      <th>C</th>\n",
       "      <th>D</th>\n",
       "    </tr>\n",
       "  </thead>\n",
       "  <tbody>\n",
       "    <tr>\n",
       "      <th>2024-11-27 10:45:00</th>\n",
       "      <td>0.707049</td>\n",
       "      <td>-0.063820</td>\n",
       "      <td>0.848937</td>\n",
       "      <td>0.405452</td>\n",
       "    </tr>\n",
       "    <tr>\n",
       "      <th>2024-11-27 11:45:00</th>\n",
       "      <td>-0.713943</td>\n",
       "      <td>1.134391</td>\n",
       "      <td>0.032972</td>\n",
       "      <td>-0.425314</td>\n",
       "    </tr>\n",
       "  </tbody>\n",
       "</table>\n",
       "</div>"
      ],
      "text/plain": [
       "                            A         B         C         D\n",
       "2024-11-27 10:45:00  0.707049 -0.063820  0.848937  0.405452\n",
       "2024-11-27 11:45:00 -0.713943  1.134391  0.032972 -0.425314"
      ]
     },
     "execution_count": 13,
     "metadata": {},
     "output_type": "execute_result"
    }
   ],
   "source": [
    "df.head(2)"
   ]
  },
  {
   "cell_type": "code",
   "execution_count": 14,
   "metadata": {},
   "outputs": [
    {
     "data": {
      "text/html": [
       "<div>\n",
       "<style scoped>\n",
       "    .dataframe tbody tr th:only-of-type {\n",
       "        vertical-align: middle;\n",
       "    }\n",
       "\n",
       "    .dataframe tbody tr th {\n",
       "        vertical-align: top;\n",
       "    }\n",
       "\n",
       "    .dataframe thead th {\n",
       "        text-align: right;\n",
       "    }\n",
       "</style>\n",
       "<table border=\"1\" class=\"dataframe\">\n",
       "  <thead>\n",
       "    <tr style=\"text-align: right;\">\n",
       "      <th></th>\n",
       "      <th>A</th>\n",
       "      <th>B</th>\n",
       "      <th>C</th>\n",
       "      <th>D</th>\n",
       "    </tr>\n",
       "  </thead>\n",
       "  <tbody>\n",
       "    <tr>\n",
       "      <th>2024-11-27 16:45:00</th>\n",
       "      <td>0.353471</td>\n",
       "      <td>1.031453</td>\n",
       "      <td>0.206634</td>\n",
       "      <td>-0.489280</td>\n",
       "    </tr>\n",
       "    <tr>\n",
       "      <th>2024-11-27 17:45:00</th>\n",
       "      <td>0.506546</td>\n",
       "      <td>-0.390099</td>\n",
       "      <td>-0.113044</td>\n",
       "      <td>0.638880</td>\n",
       "    </tr>\n",
       "    <tr>\n",
       "      <th>2024-11-27 18:45:00</th>\n",
       "      <td>-0.638488</td>\n",
       "      <td>0.143231</td>\n",
       "      <td>-0.343024</td>\n",
       "      <td>-0.294153</td>\n",
       "    </tr>\n",
       "    <tr>\n",
       "      <th>2024-11-27 19:45:00</th>\n",
       "      <td>0.246915</td>\n",
       "      <td>1.253672</td>\n",
       "      <td>0.525465</td>\n",
       "      <td>-0.062971</td>\n",
       "    </tr>\n",
       "  </tbody>\n",
       "</table>\n",
       "</div>"
      ],
      "text/plain": [
       "                            A         B         C         D\n",
       "2024-11-27 16:45:00  0.353471  1.031453  0.206634 -0.489280\n",
       "2024-11-27 17:45:00  0.506546 -0.390099 -0.113044  0.638880\n",
       "2024-11-27 18:45:00 -0.638488  0.143231 -0.343024 -0.294153\n",
       "2024-11-27 19:45:00  0.246915  1.253672  0.525465 -0.062971"
      ]
     },
     "execution_count": 14,
     "metadata": {},
     "output_type": "execute_result"
    }
   ],
   "source": [
    "df.tail(4)"
   ]
  },
  {
   "cell_type": "code",
   "execution_count": 15,
   "metadata": {},
   "outputs": [
    {
     "data": {
      "text/plain": [
       "DatetimeIndex(['2024-11-27 10:45:00', '2024-11-27 11:45:00',\n",
       "               '2024-11-27 12:45:00', '2024-11-27 13:45:00',\n",
       "               '2024-11-27 14:45:00', '2024-11-27 15:45:00',\n",
       "               '2024-11-27 16:45:00', '2024-11-27 17:45:00',\n",
       "               '2024-11-27 18:45:00', '2024-11-27 19:45:00'],\n",
       "              dtype='datetime64[ns]', freq='h')"
      ]
     },
     "execution_count": 15,
     "metadata": {},
     "output_type": "execute_result"
    }
   ],
   "source": [
    "df.index"
   ]
  },
  {
   "cell_type": "code",
   "execution_count": 16,
   "metadata": {},
   "outputs": [
    {
     "data": {
      "text/plain": [
       "Index(['A', 'B', 'C', 'D'], dtype='object')"
      ]
     },
     "execution_count": 16,
     "metadata": {},
     "output_type": "execute_result"
    }
   ],
   "source": [
    "df.columns"
   ]
  },
  {
   "cell_type": "code",
   "execution_count": 17,
   "metadata": {},
   "outputs": [
    {
     "data": {
      "text/plain": [
       "array([[ 0.7070493 , -0.06381951,  0.8489374 ,  0.40545189],\n",
       "       [-0.71394301,  1.13439123,  0.03297229, -0.42531367],\n",
       "       [-1.13872895,  0.27540996,  0.32950635, -0.91315303],\n",
       "       [ 1.3246635 ,  0.06087474, -1.2097123 , -0.86282149],\n",
       "       [-1.33052178,  0.14300791, -0.65498717, -0.35568579],\n",
       "       [ 0.48712856, -0.49416484,  0.09361808, -0.16192392],\n",
       "       [ 0.35347109,  1.0314529 ,  0.20663369, -0.48927976],\n",
       "       [ 0.50654634, -0.39009936, -0.11304428,  0.63887996],\n",
       "       [-0.63848836,  0.14323072, -0.34302404, -0.29415251],\n",
       "       [ 0.24691486,  1.25367211,  0.52546516, -0.06297138]])"
      ]
     },
     "execution_count": 17,
     "metadata": {},
     "output_type": "execute_result"
    }
   ],
   "source": [
    "df.values\n",
    "# this is a numpy ndarray"
   ]
  },
  {
   "cell_type": "code",
   "execution_count": 18,
   "metadata": {},
   "outputs": [
    {
     "data": {
      "text/html": [
       "<div>\n",
       "<style scoped>\n",
       "    .dataframe tbody tr th:only-of-type {\n",
       "        vertical-align: middle;\n",
       "    }\n",
       "\n",
       "    .dataframe tbody tr th {\n",
       "        vertical-align: top;\n",
       "    }\n",
       "\n",
       "    .dataframe thead th {\n",
       "        text-align: right;\n",
       "    }\n",
       "</style>\n",
       "<table border=\"1\" class=\"dataframe\">\n",
       "  <thead>\n",
       "    <tr style=\"text-align: right;\">\n",
       "      <th></th>\n",
       "      <th>A</th>\n",
       "      <th>B</th>\n",
       "      <th>C</th>\n",
       "      <th>D</th>\n",
       "    </tr>\n",
       "  </thead>\n",
       "  <tbody>\n",
       "    <tr>\n",
       "      <th>count</th>\n",
       "      <td>10.000000</td>\n",
       "      <td>10.000000</td>\n",
       "      <td>10.000000</td>\n",
       "      <td>10.000000</td>\n",
       "    </tr>\n",
       "    <tr>\n",
       "      <th>mean</th>\n",
       "      <td>-0.019591</td>\n",
       "      <td>0.309396</td>\n",
       "      <td>-0.028363</td>\n",
       "      <td>-0.252097</td>\n",
       "    </tr>\n",
       "    <tr>\n",
       "      <th>std</th>\n",
       "      <td>0.876545</td>\n",
       "      <td>0.622374</td>\n",
       "      <td>0.593740</td>\n",
       "      <td>0.492031</td>\n",
       "    </tr>\n",
       "    <tr>\n",
       "      <th>min</th>\n",
       "      <td>-1.330522</td>\n",
       "      <td>-0.494165</td>\n",
       "      <td>-1.209712</td>\n",
       "      <td>-0.913153</td>\n",
       "    </tr>\n",
       "    <tr>\n",
       "      <th>25%</th>\n",
       "      <td>-0.695079</td>\n",
       "      <td>-0.032646</td>\n",
       "      <td>-0.285529</td>\n",
       "      <td>-0.473288</td>\n",
       "    </tr>\n",
       "    <tr>\n",
       "      <th>50%</th>\n",
       "      <td>0.300193</td>\n",
       "      <td>0.143119</td>\n",
       "      <td>0.063295</td>\n",
       "      <td>-0.324919</td>\n",
       "    </tr>\n",
       "    <tr>\n",
       "      <th>75%</th>\n",
       "      <td>0.501692</td>\n",
       "      <td>0.842442</td>\n",
       "      <td>0.298788</td>\n",
       "      <td>-0.087710</td>\n",
       "    </tr>\n",
       "    <tr>\n",
       "      <th>max</th>\n",
       "      <td>1.324663</td>\n",
       "      <td>1.253672</td>\n",
       "      <td>0.848937</td>\n",
       "      <td>0.638880</td>\n",
       "    </tr>\n",
       "  </tbody>\n",
       "</table>\n",
       "</div>"
      ],
      "text/plain": [
       "               A          B          C          D\n",
       "count  10.000000  10.000000  10.000000  10.000000\n",
       "mean   -0.019591   0.309396  -0.028363  -0.252097\n",
       "std     0.876545   0.622374   0.593740   0.492031\n",
       "min    -1.330522  -0.494165  -1.209712  -0.913153\n",
       "25%    -0.695079  -0.032646  -0.285529  -0.473288\n",
       "50%     0.300193   0.143119   0.063295  -0.324919\n",
       "75%     0.501692   0.842442   0.298788  -0.087710\n",
       "max     1.324663   1.253672   0.848937   0.638880"
      ]
     },
     "execution_count": 18,
     "metadata": {},
     "output_type": "execute_result"
    }
   ],
   "source": [
    "df.describe()"
   ]
  },
  {
   "cell_type": "code",
   "execution_count": 19,
   "metadata": {},
   "outputs": [
    {
     "data": {
      "text/html": [
       "<div>\n",
       "<style scoped>\n",
       "    .dataframe tbody tr th:only-of-type {\n",
       "        vertical-align: middle;\n",
       "    }\n",
       "\n",
       "    .dataframe tbody tr th {\n",
       "        vertical-align: top;\n",
       "    }\n",
       "\n",
       "    .dataframe thead th {\n",
       "        text-align: right;\n",
       "    }\n",
       "</style>\n",
       "<table border=\"1\" class=\"dataframe\">\n",
       "  <thead>\n",
       "    <tr style=\"text-align: right;\">\n",
       "      <th></th>\n",
       "      <th>2024-11-27 10:45:00</th>\n",
       "      <th>2024-11-27 11:45:00</th>\n",
       "      <th>2024-11-27 12:45:00</th>\n",
       "      <th>2024-11-27 13:45:00</th>\n",
       "      <th>2024-11-27 14:45:00</th>\n",
       "      <th>2024-11-27 15:45:00</th>\n",
       "      <th>2024-11-27 16:45:00</th>\n",
       "      <th>2024-11-27 17:45:00</th>\n",
       "      <th>2024-11-27 18:45:00</th>\n",
       "      <th>2024-11-27 19:45:00</th>\n",
       "    </tr>\n",
       "  </thead>\n",
       "  <tbody>\n",
       "    <tr>\n",
       "      <th>A</th>\n",
       "      <td>0.707049</td>\n",
       "      <td>-0.713943</td>\n",
       "      <td>-1.138729</td>\n",
       "      <td>1.324663</td>\n",
       "      <td>-1.330522</td>\n",
       "      <td>0.487129</td>\n",
       "      <td>0.353471</td>\n",
       "      <td>0.506546</td>\n",
       "      <td>-0.638488</td>\n",
       "      <td>0.246915</td>\n",
       "    </tr>\n",
       "    <tr>\n",
       "      <th>B</th>\n",
       "      <td>-0.063820</td>\n",
       "      <td>1.134391</td>\n",
       "      <td>0.275410</td>\n",
       "      <td>0.060875</td>\n",
       "      <td>0.143008</td>\n",
       "      <td>-0.494165</td>\n",
       "      <td>1.031453</td>\n",
       "      <td>-0.390099</td>\n",
       "      <td>0.143231</td>\n",
       "      <td>1.253672</td>\n",
       "    </tr>\n",
       "    <tr>\n",
       "      <th>C</th>\n",
       "      <td>0.848937</td>\n",
       "      <td>0.032972</td>\n",
       "      <td>0.329506</td>\n",
       "      <td>-1.209712</td>\n",
       "      <td>-0.654987</td>\n",
       "      <td>0.093618</td>\n",
       "      <td>0.206634</td>\n",
       "      <td>-0.113044</td>\n",
       "      <td>-0.343024</td>\n",
       "      <td>0.525465</td>\n",
       "    </tr>\n",
       "    <tr>\n",
       "      <th>D</th>\n",
       "      <td>0.405452</td>\n",
       "      <td>-0.425314</td>\n",
       "      <td>-0.913153</td>\n",
       "      <td>-0.862821</td>\n",
       "      <td>-0.355686</td>\n",
       "      <td>-0.161924</td>\n",
       "      <td>-0.489280</td>\n",
       "      <td>0.638880</td>\n",
       "      <td>-0.294153</td>\n",
       "      <td>-0.062971</td>\n",
       "    </tr>\n",
       "  </tbody>\n",
       "</table>\n",
       "</div>"
      ],
      "text/plain": [
       "   2024-11-27 10:45:00  2024-11-27 11:45:00  2024-11-27 12:45:00  \\\n",
       "A             0.707049            -0.713943            -1.138729   \n",
       "B            -0.063820             1.134391             0.275410   \n",
       "C             0.848937             0.032972             0.329506   \n",
       "D             0.405452            -0.425314            -0.913153   \n",
       "\n",
       "   2024-11-27 13:45:00  2024-11-27 14:45:00  2024-11-27 15:45:00  \\\n",
       "A             1.324663            -1.330522             0.487129   \n",
       "B             0.060875             0.143008            -0.494165   \n",
       "C            -1.209712            -0.654987             0.093618   \n",
       "D            -0.862821            -0.355686            -0.161924   \n",
       "\n",
       "   2024-11-27 16:45:00  2024-11-27 17:45:00  2024-11-27 18:45:00  \\\n",
       "A             0.353471             0.506546            -0.638488   \n",
       "B             1.031453            -0.390099             0.143231   \n",
       "C             0.206634            -0.113044            -0.343024   \n",
       "D            -0.489280             0.638880            -0.294153   \n",
       "\n",
       "   2024-11-27 19:45:00  \n",
       "A             0.246915  \n",
       "B             1.253672  \n",
       "C             0.525465  \n",
       "D            -0.062971  "
      ]
     },
     "execution_count": 19,
     "metadata": {},
     "output_type": "execute_result"
    }
   ],
   "source": [
    "#simple transpose\n",
    "# If dataset is really large, better not to. Panda is built to handle large datasets with a small amount of columns and large amount of rows\n",
    "df.T"
   ]
  },
  {
   "cell_type": "code",
   "execution_count": 20,
   "metadata": {},
   "outputs": [
    {
     "data": {
      "text/html": [
       "<div>\n",
       "<style scoped>\n",
       "    .dataframe tbody tr th:only-of-type {\n",
       "        vertical-align: middle;\n",
       "    }\n",
       "\n",
       "    .dataframe tbody tr th {\n",
       "        vertical-align: top;\n",
       "    }\n",
       "\n",
       "    .dataframe thead th {\n",
       "        text-align: right;\n",
       "    }\n",
       "</style>\n",
       "<table border=\"1\" class=\"dataframe\">\n",
       "  <thead>\n",
       "    <tr style=\"text-align: right;\">\n",
       "      <th></th>\n",
       "      <th>A</th>\n",
       "      <th>B</th>\n",
       "      <th>C</th>\n",
       "      <th>D</th>\n",
       "    </tr>\n",
       "  </thead>\n",
       "  <tbody>\n",
       "    <tr>\n",
       "      <th>2024-11-27 10:45:00</th>\n",
       "      <td>0.707049</td>\n",
       "      <td>-0.063820</td>\n",
       "      <td>0.848937</td>\n",
       "      <td>0.405452</td>\n",
       "    </tr>\n",
       "    <tr>\n",
       "      <th>2024-11-27 11:45:00</th>\n",
       "      <td>-0.713943</td>\n",
       "      <td>1.134391</td>\n",
       "      <td>0.032972</td>\n",
       "      <td>-0.425314</td>\n",
       "    </tr>\n",
       "    <tr>\n",
       "      <th>2024-11-27 12:45:00</th>\n",
       "      <td>-1.138729</td>\n",
       "      <td>0.275410</td>\n",
       "      <td>0.329506</td>\n",
       "      <td>-0.913153</td>\n",
       "    </tr>\n",
       "    <tr>\n",
       "      <th>2024-11-27 13:45:00</th>\n",
       "      <td>1.324663</td>\n",
       "      <td>0.060875</td>\n",
       "      <td>-1.209712</td>\n",
       "      <td>-0.862821</td>\n",
       "    </tr>\n",
       "    <tr>\n",
       "      <th>2024-11-27 14:45:00</th>\n",
       "      <td>-1.330522</td>\n",
       "      <td>0.143008</td>\n",
       "      <td>-0.654987</td>\n",
       "      <td>-0.355686</td>\n",
       "    </tr>\n",
       "    <tr>\n",
       "      <th>2024-11-27 15:45:00</th>\n",
       "      <td>0.487129</td>\n",
       "      <td>-0.494165</td>\n",
       "      <td>0.093618</td>\n",
       "      <td>-0.161924</td>\n",
       "    </tr>\n",
       "    <tr>\n",
       "      <th>2024-11-27 16:45:00</th>\n",
       "      <td>0.353471</td>\n",
       "      <td>1.031453</td>\n",
       "      <td>0.206634</td>\n",
       "      <td>-0.489280</td>\n",
       "    </tr>\n",
       "    <tr>\n",
       "      <th>2024-11-27 17:45:00</th>\n",
       "      <td>0.506546</td>\n",
       "      <td>-0.390099</td>\n",
       "      <td>-0.113044</td>\n",
       "      <td>0.638880</td>\n",
       "    </tr>\n",
       "    <tr>\n",
       "      <th>2024-11-27 18:45:00</th>\n",
       "      <td>-0.638488</td>\n",
       "      <td>0.143231</td>\n",
       "      <td>-0.343024</td>\n",
       "      <td>-0.294153</td>\n",
       "    </tr>\n",
       "    <tr>\n",
       "      <th>2024-11-27 19:45:00</th>\n",
       "      <td>0.246915</td>\n",
       "      <td>1.253672</td>\n",
       "      <td>0.525465</td>\n",
       "      <td>-0.062971</td>\n",
       "    </tr>\n",
       "  </tbody>\n",
       "</table>\n",
       "</div>"
      ],
      "text/plain": [
       "                            A         B         C         D\n",
       "2024-11-27 10:45:00  0.707049 -0.063820  0.848937  0.405452\n",
       "2024-11-27 11:45:00 -0.713943  1.134391  0.032972 -0.425314\n",
       "2024-11-27 12:45:00 -1.138729  0.275410  0.329506 -0.913153\n",
       "2024-11-27 13:45:00  1.324663  0.060875 -1.209712 -0.862821\n",
       "2024-11-27 14:45:00 -1.330522  0.143008 -0.654987 -0.355686\n",
       "2024-11-27 15:45:00  0.487129 -0.494165  0.093618 -0.161924\n",
       "2024-11-27 16:45:00  0.353471  1.031453  0.206634 -0.489280\n",
       "2024-11-27 17:45:00  0.506546 -0.390099 -0.113044  0.638880\n",
       "2024-11-27 18:45:00 -0.638488  0.143231 -0.343024 -0.294153\n",
       "2024-11-27 19:45:00  0.246915  1.253672  0.525465 -0.062971"
      ]
     },
     "execution_count": 20,
     "metadata": {},
     "output_type": "execute_result"
    }
   ],
   "source": [
    "df.sort_index(axis=0,ascending=True)"
   ]
  },
  {
   "cell_type": "code",
   "execution_count": 21,
   "metadata": {},
   "outputs": [
    {
     "data": {
      "text/html": [
       "<div>\n",
       "<style scoped>\n",
       "    .dataframe tbody tr th:only-of-type {\n",
       "        vertical-align: middle;\n",
       "    }\n",
       "\n",
       "    .dataframe tbody tr th {\n",
       "        vertical-align: top;\n",
       "    }\n",
       "\n",
       "    .dataframe thead th {\n",
       "        text-align: right;\n",
       "    }\n",
       "</style>\n",
       "<table border=\"1\" class=\"dataframe\">\n",
       "  <thead>\n",
       "    <tr style=\"text-align: right;\">\n",
       "      <th></th>\n",
       "      <th>A</th>\n",
       "      <th>B</th>\n",
       "      <th>C</th>\n",
       "      <th>D</th>\n",
       "    </tr>\n",
       "  </thead>\n",
       "  <tbody>\n",
       "    <tr>\n",
       "      <th>2024-11-27 13:45:00</th>\n",
       "      <td>1.324663</td>\n",
       "      <td>0.060875</td>\n",
       "      <td>-1.209712</td>\n",
       "      <td>-0.862821</td>\n",
       "    </tr>\n",
       "    <tr>\n",
       "      <th>2024-11-27 14:45:00</th>\n",
       "      <td>-1.330522</td>\n",
       "      <td>0.143008</td>\n",
       "      <td>-0.654987</td>\n",
       "      <td>-0.355686</td>\n",
       "    </tr>\n",
       "    <tr>\n",
       "      <th>2024-11-27 18:45:00</th>\n",
       "      <td>-0.638488</td>\n",
       "      <td>0.143231</td>\n",
       "      <td>-0.343024</td>\n",
       "      <td>-0.294153</td>\n",
       "    </tr>\n",
       "    <tr>\n",
       "      <th>2024-11-27 17:45:00</th>\n",
       "      <td>0.506546</td>\n",
       "      <td>-0.390099</td>\n",
       "      <td>-0.113044</td>\n",
       "      <td>0.638880</td>\n",
       "    </tr>\n",
       "    <tr>\n",
       "      <th>2024-11-27 11:45:00</th>\n",
       "      <td>-0.713943</td>\n",
       "      <td>1.134391</td>\n",
       "      <td>0.032972</td>\n",
       "      <td>-0.425314</td>\n",
       "    </tr>\n",
       "    <tr>\n",
       "      <th>2024-11-27 15:45:00</th>\n",
       "      <td>0.487129</td>\n",
       "      <td>-0.494165</td>\n",
       "      <td>0.093618</td>\n",
       "      <td>-0.161924</td>\n",
       "    </tr>\n",
       "    <tr>\n",
       "      <th>2024-11-27 16:45:00</th>\n",
       "      <td>0.353471</td>\n",
       "      <td>1.031453</td>\n",
       "      <td>0.206634</td>\n",
       "      <td>-0.489280</td>\n",
       "    </tr>\n",
       "    <tr>\n",
       "      <th>2024-11-27 12:45:00</th>\n",
       "      <td>-1.138729</td>\n",
       "      <td>0.275410</td>\n",
       "      <td>0.329506</td>\n",
       "      <td>-0.913153</td>\n",
       "    </tr>\n",
       "    <tr>\n",
       "      <th>2024-11-27 19:45:00</th>\n",
       "      <td>0.246915</td>\n",
       "      <td>1.253672</td>\n",
       "      <td>0.525465</td>\n",
       "      <td>-0.062971</td>\n",
       "    </tr>\n",
       "    <tr>\n",
       "      <th>2024-11-27 10:45:00</th>\n",
       "      <td>0.707049</td>\n",
       "      <td>-0.063820</td>\n",
       "      <td>0.848937</td>\n",
       "      <td>0.405452</td>\n",
       "    </tr>\n",
       "  </tbody>\n",
       "</table>\n",
       "</div>"
      ],
      "text/plain": [
       "                            A         B         C         D\n",
       "2024-11-27 13:45:00  1.324663  0.060875 -1.209712 -0.862821\n",
       "2024-11-27 14:45:00 -1.330522  0.143008 -0.654987 -0.355686\n",
       "2024-11-27 18:45:00 -0.638488  0.143231 -0.343024 -0.294153\n",
       "2024-11-27 17:45:00  0.506546 -0.390099 -0.113044  0.638880\n",
       "2024-11-27 11:45:00 -0.713943  1.134391  0.032972 -0.425314\n",
       "2024-11-27 15:45:00  0.487129 -0.494165  0.093618 -0.161924\n",
       "2024-11-27 16:45:00  0.353471  1.031453  0.206634 -0.489280\n",
       "2024-11-27 12:45:00 -1.138729  0.275410  0.329506 -0.913153\n",
       "2024-11-27 19:45:00  0.246915  1.253672  0.525465 -0.062971\n",
       "2024-11-27 10:45:00  0.707049 -0.063820  0.848937  0.405452"
      ]
     },
     "execution_count": 21,
     "metadata": {},
     "output_type": "execute_result"
    }
   ],
   "source": [
    "df.sort_values(by=\"C\")"
   ]
  },
  {
   "cell_type": "markdown",
   "metadata": {},
   "source": [
    "## Selection\n",
    "\n",
    "### Getting slices\n",
    "\n",
    "The following show how to get part of the DataFrame (i.e. not just the elements)"
   ]
  },
  {
   "cell_type": "code",
   "execution_count": 22,
   "metadata": {},
   "outputs": [
    {
     "name": "stdout",
     "output_type": "stream",
     "text": [
      "2024-11-27 10:45:00    0.707049\n",
      "2024-11-27 11:45:00   -0.713943\n",
      "2024-11-27 12:45:00   -1.138729\n",
      "2024-11-27 13:45:00    1.324663\n",
      "2024-11-27 14:45:00   -1.330522\n",
      "2024-11-27 15:45:00    0.487129\n",
      "2024-11-27 16:45:00    0.353471\n",
      "2024-11-27 17:45:00    0.506546\n",
      "2024-11-27 18:45:00   -0.638488\n",
      "2024-11-27 19:45:00    0.246915\n",
      "Freq: h, Name: A, dtype: float64 \n",
      "\n",
      "2024-11-27 10:45:00    0.707049\n",
      "2024-11-27 11:45:00   -0.713943\n",
      "2024-11-27 12:45:00   -1.138729\n",
      "2024-11-27 13:45:00    1.324663\n",
      "2024-11-27 14:45:00   -1.330522\n",
      "2024-11-27 15:45:00    0.487129\n",
      "2024-11-27 16:45:00    0.353471\n",
      "2024-11-27 17:45:00    0.506546\n",
      "2024-11-27 18:45:00   -0.638488\n",
      "2024-11-27 19:45:00    0.246915\n",
      "Freq: h, Name: A, dtype: float64\n"
     ]
    }
   ],
   "source": [
    "## standard and safe\n",
    "print (df['A'],'\\n')\n",
    "\n",
    "## equivalent but dangerous (imagine blank spaces in the name of the column..)\n",
    "print (df.A)"
   ]
  },
  {
   "cell_type": "code",
   "execution_count": 23,
   "metadata": {},
   "outputs": [
    {
     "name": "stdout",
     "output_type": "stream",
     "text": [
      "                            A         B         C         D\n",
      "2024-11-27 10:45:00  0.707049 -0.063820  0.848937  0.405452\n",
      "2024-11-27 11:45:00 -0.713943  1.134391  0.032972 -0.425314\n",
      "2024-11-27 12:45:00 -1.138729  0.275410  0.329506 -0.913153\n",
      "                            A         B         C         D\n",
      "2024-11-27 10:45:00  0.707049 -0.063820  0.848937  0.405452\n",
      "2024-11-27 11:45:00 -0.713943  1.134391  0.032972 -0.425314\n",
      "2024-11-27 12:45:00 -1.138729  0.275410  0.329506 -0.913153\n"
     ]
    }
   ],
   "source": [
    "# selecting rows by counting\n",
    "print (df[0:3])\n",
    "\n",
    "# or by index\n",
    "print (df[\"2024-11-27 10:45:00\":\"2024-11-27 12:45:00\"])"
   ]
  },
  {
   "cell_type": "markdown",
   "metadata": {},
   "source": [
    "### Selection by label"
   ]
  },
  {
   "cell_type": "code",
   "execution_count": 24,
   "metadata": {},
   "outputs": [
    {
     "data": {
      "text/plain": [
       "A    0.707049\n",
       "B   -0.063820\n",
       "C    0.848937\n",
       "D    0.405452\n",
       "Name: 2024-11-27 10:45:00, dtype: float64"
      ]
     },
     "execution_count": 24,
     "metadata": {},
     "output_type": "execute_result"
    }
   ],
   "source": [
    "# getting a cross section (part of the DataFrame) using a label\n",
    "df.loc[dates[0]]\n",
    "#loc is not actually a method"
   ]
  },
  {
   "cell_type": "code",
   "execution_count": 25,
   "metadata": {},
   "outputs": [
    {
     "data": {
      "text/html": [
       "<div>\n",
       "<style scoped>\n",
       "    .dataframe tbody tr th:only-of-type {\n",
       "        vertical-align: middle;\n",
       "    }\n",
       "\n",
       "    .dataframe tbody tr th {\n",
       "        vertical-align: top;\n",
       "    }\n",
       "\n",
       "    .dataframe thead th {\n",
       "        text-align: right;\n",
       "    }\n",
       "</style>\n",
       "<table border=\"1\" class=\"dataframe\">\n",
       "  <thead>\n",
       "    <tr style=\"text-align: right;\">\n",
       "      <th></th>\n",
       "      <th>A</th>\n",
       "      <th>B</th>\n",
       "    </tr>\n",
       "  </thead>\n",
       "  <tbody>\n",
       "    <tr>\n",
       "      <th>2024-11-27 10:45:00</th>\n",
       "      <td>0.707049</td>\n",
       "      <td>-0.063820</td>\n",
       "    </tr>\n",
       "    <tr>\n",
       "      <th>2024-11-27 11:45:00</th>\n",
       "      <td>-0.713943</td>\n",
       "      <td>1.134391</td>\n",
       "    </tr>\n",
       "    <tr>\n",
       "      <th>2024-11-27 12:45:00</th>\n",
       "      <td>-1.138729</td>\n",
       "      <td>0.275410</td>\n",
       "    </tr>\n",
       "    <tr>\n",
       "      <th>2024-11-27 13:45:00</th>\n",
       "      <td>1.324663</td>\n",
       "      <td>0.060875</td>\n",
       "    </tr>\n",
       "    <tr>\n",
       "      <th>2024-11-27 14:45:00</th>\n",
       "      <td>-1.330522</td>\n",
       "      <td>0.143008</td>\n",
       "    </tr>\n",
       "    <tr>\n",
       "      <th>2024-11-27 15:45:00</th>\n",
       "      <td>0.487129</td>\n",
       "      <td>-0.494165</td>\n",
       "    </tr>\n",
       "    <tr>\n",
       "      <th>2024-11-27 16:45:00</th>\n",
       "      <td>0.353471</td>\n",
       "      <td>1.031453</td>\n",
       "    </tr>\n",
       "    <tr>\n",
       "      <th>2024-11-27 17:45:00</th>\n",
       "      <td>0.506546</td>\n",
       "      <td>-0.390099</td>\n",
       "    </tr>\n",
       "    <tr>\n",
       "      <th>2024-11-27 18:45:00</th>\n",
       "      <td>-0.638488</td>\n",
       "      <td>0.143231</td>\n",
       "    </tr>\n",
       "    <tr>\n",
       "      <th>2024-11-27 19:45:00</th>\n",
       "      <td>0.246915</td>\n",
       "      <td>1.253672</td>\n",
       "    </tr>\n",
       "  </tbody>\n",
       "</table>\n",
       "</div>"
      ],
      "text/plain": [
       "                            A         B\n",
       "2024-11-27 10:45:00  0.707049 -0.063820\n",
       "2024-11-27 11:45:00 -0.713943  1.134391\n",
       "2024-11-27 12:45:00 -1.138729  0.275410\n",
       "2024-11-27 13:45:00  1.324663  0.060875\n",
       "2024-11-27 14:45:00 -1.330522  0.143008\n",
       "2024-11-27 15:45:00  0.487129 -0.494165\n",
       "2024-11-27 16:45:00  0.353471  1.031453\n",
       "2024-11-27 17:45:00  0.506546 -0.390099\n",
       "2024-11-27 18:45:00 -0.638488  0.143231\n",
       "2024-11-27 19:45:00  0.246915  1.253672"
      ]
     },
     "execution_count": 25,
     "metadata": {},
     "output_type": "execute_result"
    }
   ],
   "source": [
    "# selecting on a multi-axis by label:\n",
    "df.loc[:,['A','B']]  #all of the rows, but just the two columns\n",
    "#a=df.loc[:,['A','B']]"
   ]
  },
  {
   "cell_type": "code",
   "execution_count": 26,
   "metadata": {},
   "outputs": [
    {
     "data": {
      "text/html": [
       "<div>\n",
       "<style scoped>\n",
       "    .dataframe tbody tr th:only-of-type {\n",
       "        vertical-align: middle;\n",
       "    }\n",
       "\n",
       "    .dataframe tbody tr th {\n",
       "        vertical-align: top;\n",
       "    }\n",
       "\n",
       "    .dataframe thead th {\n",
       "        text-align: right;\n",
       "    }\n",
       "</style>\n",
       "<table border=\"1\" class=\"dataframe\">\n",
       "  <thead>\n",
       "    <tr style=\"text-align: right;\">\n",
       "      <th></th>\n",
       "      <th>A</th>\n",
       "      <th>B</th>\n",
       "    </tr>\n",
       "  </thead>\n",
       "  <tbody>\n",
       "    <tr>\n",
       "      <th>2024-11-27 14:45:00</th>\n",
       "      <td>-1.330522</td>\n",
       "      <td>0.143008</td>\n",
       "    </tr>\n",
       "    <tr>\n",
       "      <th>2024-11-27 15:45:00</th>\n",
       "      <td>0.487129</td>\n",
       "      <td>-0.494165</td>\n",
       "    </tr>\n",
       "    <tr>\n",
       "      <th>2024-11-27 16:45:00</th>\n",
       "      <td>0.353471</td>\n",
       "      <td>1.031453</td>\n",
       "    </tr>\n",
       "  </tbody>\n",
       "</table>\n",
       "</div>"
      ],
      "text/plain": [
       "                            A         B\n",
       "2024-11-27 14:45:00 -1.330522  0.143008\n",
       "2024-11-27 15:45:00  0.487129 -0.494165\n",
       "2024-11-27 16:45:00  0.353471  1.031453"
      ]
     },
     "execution_count": 26,
     "metadata": {},
     "output_type": "execute_result"
    }
   ],
   "source": [
    "# showing label slicing, both endpoints are included:\n",
    "df.loc['2024-11-27 14:45:00':'2024-11-27 16:45:00',['A','B']]"
   ]
  },
  {
   "cell_type": "code",
   "execution_count": 27,
   "metadata": {},
   "outputs": [
    {
     "name": "stdout",
     "output_type": "stream",
     "text": [
      "-0.713943008662154\n",
      "-0.713943008662154\n"
     ]
    }
   ],
   "source": [
    "# getting an individual element\n",
    "print (df.loc[dates[1],'A'])\n",
    "\n",
    "# equivalently\n",
    "print (df.at[dates[1],'A'])"
   ]
  },
  {
   "cell_type": "markdown",
   "metadata": {},
   "source": [
    "### Selecting by position"
   ]
  },
  {
   "cell_type": "code",
   "execution_count": 28,
   "metadata": {},
   "outputs": [
    {
     "name": "stdout",
     "output_type": "stream",
     "text": [
      "A    1.324663\n",
      "B    0.060875\n",
      "C   -1.209712\n",
      "D   -0.862821\n",
      "Name: 2024-11-27 13:45:00, dtype: float64 \n",
      "\n",
      "                            A         B\n",
      "2024-11-27 13:45:00  1.324663  0.060875\n",
      "2024-11-27 14:45:00 -1.330522  0.143008\n"
     ]
    }
   ],
   "source": [
    "# select via the position of the passed integers:\n",
    "print (df.iloc[3],'\\n')\n",
    "\n",
    "# notation similar to numpy/python\n",
    "print (df.iloc[3:5,0:2])"
   ]
  },
  {
   "cell_type": "code",
   "execution_count": 29,
   "metadata": {},
   "outputs": [
    {
     "data": {
      "text/html": [
       "<div>\n",
       "<style scoped>\n",
       "    .dataframe tbody tr th:only-of-type {\n",
       "        vertical-align: middle;\n",
       "    }\n",
       "\n",
       "    .dataframe tbody tr th {\n",
       "        vertical-align: top;\n",
       "    }\n",
       "\n",
       "    .dataframe thead th {\n",
       "        text-align: right;\n",
       "    }\n",
       "</style>\n",
       "<table border=\"1\" class=\"dataframe\">\n",
       "  <thead>\n",
       "    <tr style=\"text-align: right;\">\n",
       "      <th></th>\n",
       "      <th>A</th>\n",
       "      <th>C</th>\n",
       "    </tr>\n",
       "  </thead>\n",
       "  <tbody>\n",
       "    <tr>\n",
       "      <th>2024-11-27 11:45:00</th>\n",
       "      <td>-0.713943</td>\n",
       "      <td>0.032972</td>\n",
       "    </tr>\n",
       "    <tr>\n",
       "      <th>2024-11-27 12:45:00</th>\n",
       "      <td>-1.138729</td>\n",
       "      <td>0.329506</td>\n",
       "    </tr>\n",
       "    <tr>\n",
       "      <th>2024-11-27 14:45:00</th>\n",
       "      <td>-1.330522</td>\n",
       "      <td>-0.654987</td>\n",
       "    </tr>\n",
       "  </tbody>\n",
       "</table>\n",
       "</div>"
      ],
      "text/plain": [
       "                            A         C\n",
       "2024-11-27 11:45:00 -0.713943  0.032972\n",
       "2024-11-27 12:45:00 -1.138729  0.329506\n",
       "2024-11-27 14:45:00 -1.330522 -0.654987"
      ]
     },
     "execution_count": 29,
     "metadata": {},
     "output_type": "execute_result"
    }
   ],
   "source": [
    "# selecting rows 1,2 and 4 for columns 0 and 2\n",
    "df.iloc[[1,2,4],[0,2]]"
   ]
  },
  {
   "cell_type": "code",
   "execution_count": 30,
   "metadata": {},
   "outputs": [
    {
     "name": "stdout",
     "output_type": "stream",
     "text": [
      "                            A         B         C         D\n",
      "2024-11-27 11:45:00 -0.713943  1.134391  0.032972 -0.425314\n",
      "2024-11-27 12:45:00 -1.138729  0.275410  0.329506 -0.913153 \n",
      "\n",
      "                            B         C\n",
      "2024-11-27 10:45:00 -0.063820  0.848937\n",
      "2024-11-27 11:45:00  1.134391  0.032972\n",
      "2024-11-27 12:45:00  0.275410  0.329506\n",
      "2024-11-27 13:45:00  0.060875 -1.209712\n",
      "2024-11-27 14:45:00  0.143008 -0.654987\n",
      "2024-11-27 15:45:00 -0.494165  0.093618\n",
      "2024-11-27 16:45:00  1.031453  0.206634\n",
      "2024-11-27 17:45:00 -0.390099 -0.113044\n",
      "2024-11-27 18:45:00  0.143231 -0.343024\n",
      "2024-11-27 19:45:00  1.253672  0.525465\n",
      "1.1343912299674987\n"
     ]
    }
   ],
   "source": [
    "# slicing rows explicitly\n",
    "print (df.iloc[1:3,:],'\\n')\n",
    "\n",
    "# slicing columns explicitly\n",
    "print (df.iloc[:,1:3])\n",
    "\n",
    "# selecting an individual element by position\n",
    "print(df.iloc[1,1])"
   ]
  },
  {
   "cell_type": "markdown",
   "metadata": {},
   "source": [
    "### Boolean index\n",
    "\n",
    "Very powerful way of filtering out data with certain features. Notation is very similar to numpy arrays."
   ]
  },
  {
   "cell_type": "code",
   "execution_count": 31,
   "metadata": {},
   "outputs": [
    {
     "data": {
      "text/html": [
       "<div>\n",
       "<style scoped>\n",
       "    .dataframe tbody tr th:only-of-type {\n",
       "        vertical-align: middle;\n",
       "    }\n",
       "\n",
       "    .dataframe tbody tr th {\n",
       "        vertical-align: top;\n",
       "    }\n",
       "\n",
       "    .dataframe thead th {\n",
       "        text-align: right;\n",
       "    }\n",
       "</style>\n",
       "<table border=\"1\" class=\"dataframe\">\n",
       "  <thead>\n",
       "    <tr style=\"text-align: right;\">\n",
       "      <th></th>\n",
       "      <th>A</th>\n",
       "      <th>B</th>\n",
       "      <th>C</th>\n",
       "      <th>D</th>\n",
       "    </tr>\n",
       "  </thead>\n",
       "  <tbody>\n",
       "    <tr>\n",
       "      <th>2024-11-27 11:45:00</th>\n",
       "      <td>-0.713943</td>\n",
       "      <td>1.134391</td>\n",
       "      <td>0.032972</td>\n",
       "      <td>-0.425314</td>\n",
       "    </tr>\n",
       "    <tr>\n",
       "      <th>2024-11-27 12:45:00</th>\n",
       "      <td>-1.138729</td>\n",
       "      <td>0.275410</td>\n",
       "      <td>0.329506</td>\n",
       "      <td>-0.913153</td>\n",
       "    </tr>\n",
       "    <tr>\n",
       "      <th>2024-11-27 13:45:00</th>\n",
       "      <td>1.324663</td>\n",
       "      <td>0.060875</td>\n",
       "      <td>-1.209712</td>\n",
       "      <td>-0.862821</td>\n",
       "    </tr>\n",
       "    <tr>\n",
       "      <th>2024-11-27 14:45:00</th>\n",
       "      <td>-1.330522</td>\n",
       "      <td>0.143008</td>\n",
       "      <td>-0.654987</td>\n",
       "      <td>-0.355686</td>\n",
       "    </tr>\n",
       "    <tr>\n",
       "      <th>2024-11-27 16:45:00</th>\n",
       "      <td>0.353471</td>\n",
       "      <td>1.031453</td>\n",
       "      <td>0.206634</td>\n",
       "      <td>-0.489280</td>\n",
       "    </tr>\n",
       "    <tr>\n",
       "      <th>2024-11-27 18:45:00</th>\n",
       "      <td>-0.638488</td>\n",
       "      <td>0.143231</td>\n",
       "      <td>-0.343024</td>\n",
       "      <td>-0.294153</td>\n",
       "    </tr>\n",
       "    <tr>\n",
       "      <th>2024-11-27 19:45:00</th>\n",
       "      <td>0.246915</td>\n",
       "      <td>1.253672</td>\n",
       "      <td>0.525465</td>\n",
       "      <td>-0.062971</td>\n",
       "    </tr>\n",
       "  </tbody>\n",
       "</table>\n",
       "</div>"
      ],
      "text/plain": [
       "                            A         B         C         D\n",
       "2024-11-27 11:45:00 -0.713943  1.134391  0.032972 -0.425314\n",
       "2024-11-27 12:45:00 -1.138729  0.275410  0.329506 -0.913153\n",
       "2024-11-27 13:45:00  1.324663  0.060875 -1.209712 -0.862821\n",
       "2024-11-27 14:45:00 -1.330522  0.143008 -0.654987 -0.355686\n",
       "2024-11-27 16:45:00  0.353471  1.031453  0.206634 -0.489280\n",
       "2024-11-27 18:45:00 -0.638488  0.143231 -0.343024 -0.294153\n",
       "2024-11-27 19:45:00  0.246915  1.253672  0.525465 -0.062971"
      ]
     },
     "execution_count": 31,
     "metadata": {},
     "output_type": "execute_result"
    }
   ],
   "source": [
    "# Filter by a boolean condition on the values of a single column\n",
    "df[df['B'] > 0]"
   ]
  },
  {
   "cell_type": "code",
   "execution_count": 32,
   "metadata": {},
   "outputs": [
    {
     "data": {
      "text/html": [
       "<div>\n",
       "<style scoped>\n",
       "    .dataframe tbody tr th:only-of-type {\n",
       "        vertical-align: middle;\n",
       "    }\n",
       "\n",
       "    .dataframe tbody tr th {\n",
       "        vertical-align: top;\n",
       "    }\n",
       "\n",
       "    .dataframe thead th {\n",
       "        text-align: right;\n",
       "    }\n",
       "</style>\n",
       "<table border=\"1\" class=\"dataframe\">\n",
       "  <thead>\n",
       "    <tr style=\"text-align: right;\">\n",
       "      <th></th>\n",
       "      <th>A</th>\n",
       "      <th>B</th>\n",
       "      <th>C</th>\n",
       "      <th>D</th>\n",
       "    </tr>\n",
       "  </thead>\n",
       "  <tbody>\n",
       "    <tr>\n",
       "      <th>2024-11-27 10:45:00</th>\n",
       "      <td>0.707049</td>\n",
       "      <td>NaN</td>\n",
       "      <td>0.848937</td>\n",
       "      <td>0.405452</td>\n",
       "    </tr>\n",
       "    <tr>\n",
       "      <th>2024-11-27 11:45:00</th>\n",
       "      <td>NaN</td>\n",
       "      <td>1.134391</td>\n",
       "      <td>0.032972</td>\n",
       "      <td>NaN</td>\n",
       "    </tr>\n",
       "    <tr>\n",
       "      <th>2024-11-27 12:45:00</th>\n",
       "      <td>NaN</td>\n",
       "      <td>0.275410</td>\n",
       "      <td>0.329506</td>\n",
       "      <td>NaN</td>\n",
       "    </tr>\n",
       "    <tr>\n",
       "      <th>2024-11-27 13:45:00</th>\n",
       "      <td>1.324663</td>\n",
       "      <td>0.060875</td>\n",
       "      <td>NaN</td>\n",
       "      <td>NaN</td>\n",
       "    </tr>\n",
       "    <tr>\n",
       "      <th>2024-11-27 14:45:00</th>\n",
       "      <td>NaN</td>\n",
       "      <td>0.143008</td>\n",
       "      <td>NaN</td>\n",
       "      <td>NaN</td>\n",
       "    </tr>\n",
       "    <tr>\n",
       "      <th>2024-11-27 15:45:00</th>\n",
       "      <td>0.487129</td>\n",
       "      <td>NaN</td>\n",
       "      <td>0.093618</td>\n",
       "      <td>NaN</td>\n",
       "    </tr>\n",
       "    <tr>\n",
       "      <th>2024-11-27 16:45:00</th>\n",
       "      <td>0.353471</td>\n",
       "      <td>1.031453</td>\n",
       "      <td>0.206634</td>\n",
       "      <td>NaN</td>\n",
       "    </tr>\n",
       "    <tr>\n",
       "      <th>2024-11-27 17:45:00</th>\n",
       "      <td>0.506546</td>\n",
       "      <td>NaN</td>\n",
       "      <td>NaN</td>\n",
       "      <td>0.638880</td>\n",
       "    </tr>\n",
       "    <tr>\n",
       "      <th>2024-11-27 18:45:00</th>\n",
       "      <td>NaN</td>\n",
       "      <td>0.143231</td>\n",
       "      <td>NaN</td>\n",
       "      <td>NaN</td>\n",
       "    </tr>\n",
       "    <tr>\n",
       "      <th>2024-11-27 19:45:00</th>\n",
       "      <td>0.246915</td>\n",
       "      <td>1.253672</td>\n",
       "      <td>0.525465</td>\n",
       "      <td>NaN</td>\n",
       "    </tr>\n",
       "  </tbody>\n",
       "</table>\n",
       "</div>"
      ],
      "text/plain": [
       "                            A         B         C         D\n",
       "2024-11-27 10:45:00  0.707049       NaN  0.848937  0.405452\n",
       "2024-11-27 11:45:00       NaN  1.134391  0.032972       NaN\n",
       "2024-11-27 12:45:00       NaN  0.275410  0.329506       NaN\n",
       "2024-11-27 13:45:00  1.324663  0.060875       NaN       NaN\n",
       "2024-11-27 14:45:00       NaN  0.143008       NaN       NaN\n",
       "2024-11-27 15:45:00  0.487129       NaN  0.093618       NaN\n",
       "2024-11-27 16:45:00  0.353471  1.031453  0.206634       NaN\n",
       "2024-11-27 17:45:00  0.506546       NaN       NaN  0.638880\n",
       "2024-11-27 18:45:00       NaN  0.143231       NaN       NaN\n",
       "2024-11-27 19:45:00  0.246915  1.253672  0.525465       NaN"
      ]
     },
     "execution_count": 32,
     "metadata": {},
     "output_type": "execute_result"
    }
   ],
   "source": [
    "# Selecting on the basis of boolean conditions applied to the whole DataFrame\n",
    "df[df>0]     # if this condition is not satisfied, in this case, a NaN is put. The difference is that, here, we apply a mask on the whole dataframe\n",
    "\n",
    "# a DataFrame with the same shape is returned, with NaN's where condition is not met"
   ]
  },
  {
   "cell_type": "markdown",
   "metadata": {},
   "source": [
    "### Setting\n",
    "\n",
    "Combination of selection and setting of values"
   ]
  },
  {
   "cell_type": "code",
   "execution_count": 33,
   "metadata": {},
   "outputs": [
    {
     "data": {
      "text/html": [
       "<div>\n",
       "<style scoped>\n",
       "    .dataframe tbody tr th:only-of-type {\n",
       "        vertical-align: middle;\n",
       "    }\n",
       "\n",
       "    .dataframe tbody tr th {\n",
       "        vertical-align: top;\n",
       "    }\n",
       "\n",
       "    .dataframe thead th {\n",
       "        text-align: right;\n",
       "    }\n",
       "</style>\n",
       "<table border=\"1\" class=\"dataframe\">\n",
       "  <thead>\n",
       "    <tr style=\"text-align: right;\">\n",
       "      <th></th>\n",
       "      <th>A</th>\n",
       "      <th>B</th>\n",
       "      <th>C</th>\n",
       "      <th>D</th>\n",
       "      <th>E</th>\n",
       "      <th>E prime</th>\n",
       "    </tr>\n",
       "  </thead>\n",
       "  <tbody>\n",
       "    <tr>\n",
       "      <th>2024-11-27 10:45:00</th>\n",
       "      <td>0.000000</td>\n",
       "      <td>-0.063820</td>\n",
       "      <td>0.848937</td>\n",
       "      <td>5.0</td>\n",
       "      <td>0.0</td>\n",
       "      <td>0</td>\n",
       "    </tr>\n",
       "    <tr>\n",
       "      <th>2024-11-27 11:45:00</th>\n",
       "      <td>-0.713943</td>\n",
       "      <td>1.134391</td>\n",
       "      <td>0.032972</td>\n",
       "      <td>5.0</td>\n",
       "      <td>0.5</td>\n",
       "      <td>2</td>\n",
       "    </tr>\n",
       "    <tr>\n",
       "      <th>2024-11-27 12:45:00</th>\n",
       "      <td>-1.138729</td>\n",
       "      <td>0.275410</td>\n",
       "      <td>0.329506</td>\n",
       "      <td>5.0</td>\n",
       "      <td>1.0</td>\n",
       "      <td>4</td>\n",
       "    </tr>\n",
       "    <tr>\n",
       "      <th>2024-11-27 13:45:00</th>\n",
       "      <td>1.324663</td>\n",
       "      <td>0.060875</td>\n",
       "      <td>-1.209712</td>\n",
       "      <td>5.0</td>\n",
       "      <td>1.5</td>\n",
       "      <td>6</td>\n",
       "    </tr>\n",
       "    <tr>\n",
       "      <th>2024-11-27 14:45:00</th>\n",
       "      <td>-1.330522</td>\n",
       "      <td>0.143008</td>\n",
       "      <td>-0.654987</td>\n",
       "      <td>5.0</td>\n",
       "      <td>2.0</td>\n",
       "      <td>8</td>\n",
       "    </tr>\n",
       "    <tr>\n",
       "      <th>2024-11-27 15:45:00</th>\n",
       "      <td>0.487129</td>\n",
       "      <td>-0.494165</td>\n",
       "      <td>0.093618</td>\n",
       "      <td>5.0</td>\n",
       "      <td>2.5</td>\n",
       "      <td>10</td>\n",
       "    </tr>\n",
       "    <tr>\n",
       "      <th>2024-11-27 16:45:00</th>\n",
       "      <td>0.353471</td>\n",
       "      <td>1.031453</td>\n",
       "      <td>0.206634</td>\n",
       "      <td>5.0</td>\n",
       "      <td>3.0</td>\n",
       "      <td>12</td>\n",
       "    </tr>\n",
       "    <tr>\n",
       "      <th>2024-11-27 17:45:00</th>\n",
       "      <td>0.506546</td>\n",
       "      <td>-0.390099</td>\n",
       "      <td>-0.113044</td>\n",
       "      <td>5.0</td>\n",
       "      <td>3.5</td>\n",
       "      <td>14</td>\n",
       "    </tr>\n",
       "    <tr>\n",
       "      <th>2024-11-27 18:45:00</th>\n",
       "      <td>-0.638488</td>\n",
       "      <td>0.143231</td>\n",
       "      <td>-0.343024</td>\n",
       "      <td>5.0</td>\n",
       "      <td>4.0</td>\n",
       "      <td>16</td>\n",
       "    </tr>\n",
       "    <tr>\n",
       "      <th>2024-11-27 19:45:00</th>\n",
       "      <td>0.246915</td>\n",
       "      <td>1.253672</td>\n",
       "      <td>0.525465</td>\n",
       "      <td>5.0</td>\n",
       "      <td>4.5</td>\n",
       "      <td>18</td>\n",
       "    </tr>\n",
       "  </tbody>\n",
       "</table>\n",
       "</div>"
      ],
      "text/plain": [
       "                            A         B         C    D    E  E prime\n",
       "2024-11-27 10:45:00  0.000000 -0.063820  0.848937  5.0  0.0        0\n",
       "2024-11-27 11:45:00 -0.713943  1.134391  0.032972  5.0  0.5        2\n",
       "2024-11-27 12:45:00 -1.138729  0.275410  0.329506  5.0  1.0        4\n",
       "2024-11-27 13:45:00  1.324663  0.060875 -1.209712  5.0  1.5        6\n",
       "2024-11-27 14:45:00 -1.330522  0.143008 -0.654987  5.0  2.0        8\n",
       "2024-11-27 15:45:00  0.487129 -0.494165  0.093618  5.0  2.5       10\n",
       "2024-11-27 16:45:00  0.353471  1.031453  0.206634  5.0  3.0       12\n",
       "2024-11-27 17:45:00  0.506546 -0.390099 -0.113044  5.0  3.5       14\n",
       "2024-11-27 18:45:00 -0.638488  0.143231 -0.343024  5.0  4.0       16\n",
       "2024-11-27 19:45:00  0.246915  1.253672  0.525465  5.0  4.5       18"
      ]
     },
     "execution_count": 33,
     "metadata": {},
     "output_type": "execute_result"
    }
   ],
   "source": [
    "# setting values by label (same as by position)\n",
    "df.at[dates[0],'A'] = 0\n",
    "\n",
    "# setting and assigning a numpy array\n",
    "df.loc[:,'D'] = np.array([5] * len(df))\n",
    "\n",
    "# defining a brend new column\n",
    "df['E'] = np.arange(len(df))*0.5\n",
    "\n",
    "# defining a brend new column by means of a pd.Series: indexes must be the same!\n",
    "df['E prime'] = pd.Series(np.arange(len(df))*2, index=df.index)\n",
    "\n",
    "df"
   ]
  },
  {
   "cell_type": "code",
   "execution_count": 34,
   "metadata": {},
   "outputs": [
    {
     "data": {
      "text/html": [
       "<div>\n",
       "<style scoped>\n",
       "    .dataframe tbody tr th:only-of-type {\n",
       "        vertical-align: middle;\n",
       "    }\n",
       "\n",
       "    .dataframe tbody tr th {\n",
       "        vertical-align: top;\n",
       "    }\n",
       "\n",
       "    .dataframe thead th {\n",
       "        text-align: right;\n",
       "    }\n",
       "</style>\n",
       "<table border=\"1\" class=\"dataframe\">\n",
       "  <thead>\n",
       "    <tr style=\"text-align: right;\">\n",
       "      <th></th>\n",
       "      <th>A</th>\n",
       "      <th>B</th>\n",
       "      <th>C</th>\n",
       "      <th>D</th>\n",
       "      <th>E</th>\n",
       "      <th>E prime</th>\n",
       "      <th>cosine</th>\n",
       "    </tr>\n",
       "  </thead>\n",
       "  <tbody>\n",
       "    <tr>\n",
       "      <th>2024-11-27 10:45:00</th>\n",
       "      <td>0.000000</td>\n",
       "      <td>-0.063820</td>\n",
       "      <td>0.848937</td>\n",
       "      <td>5.0</td>\n",
       "      <td>0.0</td>\n",
       "      <td>0</td>\n",
       "      <td>1.000000</td>\n",
       "    </tr>\n",
       "    <tr>\n",
       "      <th>2024-11-27 11:45:00</th>\n",
       "      <td>-0.713943</td>\n",
       "      <td>1.134391</td>\n",
       "      <td>0.032972</td>\n",
       "      <td>5.0</td>\n",
       "      <td>0.5</td>\n",
       "      <td>2</td>\n",
       "      <td>0.999962</td>\n",
       "    </tr>\n",
       "    <tr>\n",
       "      <th>2024-11-27 12:45:00</th>\n",
       "      <td>-1.138729</td>\n",
       "      <td>0.275410</td>\n",
       "      <td>0.329506</td>\n",
       "      <td>5.0</td>\n",
       "      <td>1.0</td>\n",
       "      <td>4</td>\n",
       "      <td>0.999848</td>\n",
       "    </tr>\n",
       "    <tr>\n",
       "      <th>2024-11-27 13:45:00</th>\n",
       "      <td>1.324663</td>\n",
       "      <td>0.060875</td>\n",
       "      <td>-1.209712</td>\n",
       "      <td>5.0</td>\n",
       "      <td>1.5</td>\n",
       "      <td>6</td>\n",
       "      <td>0.999657</td>\n",
       "    </tr>\n",
       "    <tr>\n",
       "      <th>2024-11-27 14:45:00</th>\n",
       "      <td>-1.330522</td>\n",
       "      <td>0.143008</td>\n",
       "      <td>-0.654987</td>\n",
       "      <td>5.0</td>\n",
       "      <td>2.0</td>\n",
       "      <td>8</td>\n",
       "      <td>0.999391</td>\n",
       "    </tr>\n",
       "    <tr>\n",
       "      <th>2024-11-27 15:45:00</th>\n",
       "      <td>0.487129</td>\n",
       "      <td>-0.494165</td>\n",
       "      <td>0.093618</td>\n",
       "      <td>5.0</td>\n",
       "      <td>2.5</td>\n",
       "      <td>10</td>\n",
       "      <td>0.999048</td>\n",
       "    </tr>\n",
       "    <tr>\n",
       "      <th>2024-11-27 16:45:00</th>\n",
       "      <td>0.353471</td>\n",
       "      <td>1.031453</td>\n",
       "      <td>0.206634</td>\n",
       "      <td>5.0</td>\n",
       "      <td>3.0</td>\n",
       "      <td>12</td>\n",
       "      <td>0.998630</td>\n",
       "    </tr>\n",
       "    <tr>\n",
       "      <th>2024-11-27 17:45:00</th>\n",
       "      <td>0.506546</td>\n",
       "      <td>-0.390099</td>\n",
       "      <td>-0.113044</td>\n",
       "      <td>5.0</td>\n",
       "      <td>3.5</td>\n",
       "      <td>14</td>\n",
       "      <td>0.998135</td>\n",
       "    </tr>\n",
       "    <tr>\n",
       "      <th>2024-11-27 18:45:00</th>\n",
       "      <td>-0.638488</td>\n",
       "      <td>0.143231</td>\n",
       "      <td>-0.343024</td>\n",
       "      <td>5.0</td>\n",
       "      <td>4.0</td>\n",
       "      <td>16</td>\n",
       "      <td>0.997564</td>\n",
       "    </tr>\n",
       "    <tr>\n",
       "      <th>2024-11-27 19:45:00</th>\n",
       "      <td>0.246915</td>\n",
       "      <td>1.253672</td>\n",
       "      <td>0.525465</td>\n",
       "      <td>5.0</td>\n",
       "      <td>4.5</td>\n",
       "      <td>18</td>\n",
       "      <td>0.996917</td>\n",
       "    </tr>\n",
       "  </tbody>\n",
       "</table>\n",
       "</div>"
      ],
      "text/plain": [
       "                            A         B         C    D    E  E prime    cosine\n",
       "2024-11-27 10:45:00  0.000000 -0.063820  0.848937  5.0  0.0        0  1.000000\n",
       "2024-11-27 11:45:00 -0.713943  1.134391  0.032972  5.0  0.5        2  0.999962\n",
       "2024-11-27 12:45:00 -1.138729  0.275410  0.329506  5.0  1.0        4  0.999848\n",
       "2024-11-27 13:45:00  1.324663  0.060875 -1.209712  5.0  1.5        6  0.999657\n",
       "2024-11-27 14:45:00 -1.330522  0.143008 -0.654987  5.0  2.0        8  0.999391\n",
       "2024-11-27 15:45:00  0.487129 -0.494165  0.093618  5.0  2.5       10  0.999048\n",
       "2024-11-27 16:45:00  0.353471  1.031453  0.206634  5.0  3.0       12  0.998630\n",
       "2024-11-27 17:45:00  0.506546 -0.390099 -0.113044  5.0  3.5       14  0.998135\n",
       "2024-11-27 18:45:00 -0.638488  0.143231 -0.343024  5.0  4.0       16  0.997564\n",
       "2024-11-27 19:45:00  0.246915  1.253672  0.525465  5.0  4.5       18  0.996917"
      ]
     },
     "execution_count": 34,
     "metadata": {},
     "output_type": "execute_result"
    }
   ],
   "source": [
    "def dcos(theta):\n",
    "    theta = theta*(np.pi/180)\n",
    "    return np.cos(theta)\n",
    " \n",
    "df['cosine'] = pd.Series(df[\"E\"].apply(dcos), index=df.index)\n",
    "df"
   ]
  },
  {
   "cell_type": "code",
   "execution_count": 35,
   "metadata": {},
   "outputs": [
    {
     "data": {
      "text/html": [
       "<div>\n",
       "<style scoped>\n",
       "    .dataframe tbody tr th:only-of-type {\n",
       "        vertical-align: middle;\n",
       "    }\n",
       "\n",
       "    .dataframe tbody tr th {\n",
       "        vertical-align: top;\n",
       "    }\n",
       "\n",
       "    .dataframe thead th {\n",
       "        text-align: right;\n",
       "    }\n",
       "</style>\n",
       "<table border=\"1\" class=\"dataframe\">\n",
       "  <thead>\n",
       "    <tr style=\"text-align: right;\">\n",
       "      <th></th>\n",
       "      <th>A</th>\n",
       "      <th>B</th>\n",
       "      <th>C</th>\n",
       "      <th>D</th>\n",
       "      <th>E</th>\n",
       "      <th>E prime</th>\n",
       "      <th>cosine</th>\n",
       "    </tr>\n",
       "  </thead>\n",
       "  <tbody>\n",
       "    <tr>\n",
       "      <th>2024-11-27 10:45:00</th>\n",
       "      <td>0.000000</td>\n",
       "      <td>-0.063820</td>\n",
       "      <td>-0.848937</td>\n",
       "      <td>-5.0</td>\n",
       "      <td>0.0</td>\n",
       "      <td>0</td>\n",
       "      <td>-1.000000</td>\n",
       "    </tr>\n",
       "    <tr>\n",
       "      <th>2024-11-27 11:45:00</th>\n",
       "      <td>-0.713943</td>\n",
       "      <td>-1.134391</td>\n",
       "      <td>-0.032972</td>\n",
       "      <td>-5.0</td>\n",
       "      <td>-0.5</td>\n",
       "      <td>-2</td>\n",
       "      <td>-0.999962</td>\n",
       "    </tr>\n",
       "    <tr>\n",
       "      <th>2024-11-27 12:45:00</th>\n",
       "      <td>-1.138729</td>\n",
       "      <td>-0.275410</td>\n",
       "      <td>-0.329506</td>\n",
       "      <td>-5.0</td>\n",
       "      <td>-1.0</td>\n",
       "      <td>-4</td>\n",
       "      <td>-0.999848</td>\n",
       "    </tr>\n",
       "    <tr>\n",
       "      <th>2024-11-27 13:45:00</th>\n",
       "      <td>-1.324663</td>\n",
       "      <td>-0.060875</td>\n",
       "      <td>-1.209712</td>\n",
       "      <td>-5.0</td>\n",
       "      <td>-1.5</td>\n",
       "      <td>-6</td>\n",
       "      <td>-0.999657</td>\n",
       "    </tr>\n",
       "    <tr>\n",
       "      <th>2024-11-27 14:45:00</th>\n",
       "      <td>-1.330522</td>\n",
       "      <td>-0.143008</td>\n",
       "      <td>-0.654987</td>\n",
       "      <td>-5.0</td>\n",
       "      <td>-2.0</td>\n",
       "      <td>-8</td>\n",
       "      <td>-0.999391</td>\n",
       "    </tr>\n",
       "    <tr>\n",
       "      <th>2024-11-27 15:45:00</th>\n",
       "      <td>-0.487129</td>\n",
       "      <td>-0.494165</td>\n",
       "      <td>-0.093618</td>\n",
       "      <td>-5.0</td>\n",
       "      <td>-2.5</td>\n",
       "      <td>-10</td>\n",
       "      <td>-0.999048</td>\n",
       "    </tr>\n",
       "    <tr>\n",
       "      <th>2024-11-27 16:45:00</th>\n",
       "      <td>-0.353471</td>\n",
       "      <td>-1.031453</td>\n",
       "      <td>-0.206634</td>\n",
       "      <td>-5.0</td>\n",
       "      <td>-3.0</td>\n",
       "      <td>-12</td>\n",
       "      <td>-0.998630</td>\n",
       "    </tr>\n",
       "    <tr>\n",
       "      <th>2024-11-27 17:45:00</th>\n",
       "      <td>-0.506546</td>\n",
       "      <td>-0.390099</td>\n",
       "      <td>-0.113044</td>\n",
       "      <td>-5.0</td>\n",
       "      <td>-3.5</td>\n",
       "      <td>-14</td>\n",
       "      <td>-0.998135</td>\n",
       "    </tr>\n",
       "    <tr>\n",
       "      <th>2024-11-27 18:45:00</th>\n",
       "      <td>-0.638488</td>\n",
       "      <td>-0.143231</td>\n",
       "      <td>-0.343024</td>\n",
       "      <td>-5.0</td>\n",
       "      <td>-4.0</td>\n",
       "      <td>-16</td>\n",
       "      <td>-0.997564</td>\n",
       "    </tr>\n",
       "    <tr>\n",
       "      <th>2024-11-27 19:45:00</th>\n",
       "      <td>-0.246915</td>\n",
       "      <td>-1.253672</td>\n",
       "      <td>-0.525465</td>\n",
       "      <td>-5.0</td>\n",
       "      <td>-4.5</td>\n",
       "      <td>-18</td>\n",
       "      <td>-0.996917</td>\n",
       "    </tr>\n",
       "  </tbody>\n",
       "</table>\n",
       "</div>"
      ],
      "text/plain": [
       "                            A         B         C    D    E  E prime    cosine\n",
       "2024-11-27 10:45:00  0.000000 -0.063820 -0.848937 -5.0  0.0        0 -1.000000\n",
       "2024-11-27 11:45:00 -0.713943 -1.134391 -0.032972 -5.0 -0.5       -2 -0.999962\n",
       "2024-11-27 12:45:00 -1.138729 -0.275410 -0.329506 -5.0 -1.0       -4 -0.999848\n",
       "2024-11-27 13:45:00 -1.324663 -0.060875 -1.209712 -5.0 -1.5       -6 -0.999657\n",
       "2024-11-27 14:45:00 -1.330522 -0.143008 -0.654987 -5.0 -2.0       -8 -0.999391\n",
       "2024-11-27 15:45:00 -0.487129 -0.494165 -0.093618 -5.0 -2.5      -10 -0.999048\n",
       "2024-11-27 16:45:00 -0.353471 -1.031453 -0.206634 -5.0 -3.0      -12 -0.998630\n",
       "2024-11-27 17:45:00 -0.506546 -0.390099 -0.113044 -5.0 -3.5      -14 -0.998135\n",
       "2024-11-27 18:45:00 -0.638488 -0.143231 -0.343024 -5.0 -4.0      -16 -0.997564\n",
       "2024-11-27 19:45:00 -0.246915 -1.253672 -0.525465 -5.0 -4.5      -18 -0.996917"
      ]
     },
     "execution_count": 35,
     "metadata": {},
     "output_type": "execute_result"
    }
   ],
   "source": [
    "# another example of global setting\n",
    "df2=df.copy()\n",
    "\n",
    "df2[df2>0] = -df2\n",
    "df2"
   ]
  },
  {
   "cell_type": "markdown",
   "metadata": {},
   "source": [
    "### Are you dealing with a Copy or a View?\n",
    "\n",
    "In general is hard to tell.."
   ]
  },
  {
   "cell_type": "code",
   "execution_count": 40,
   "metadata": {},
   "outputs": [
    {
     "name": "stdout",
     "output_type": "stream",
     "text": [
      "     a  b\n",
      "0  100  4\n",
      "1    2  5\n",
      "2    3  6\n",
      "     a  b\n",
      "0  100  4\n",
      "1    2  5\n",
      "2    3  6\n"
     ]
    }
   ],
   "source": [
    "dfd = pd.DataFrame({'a': [1, 2, 3], 'b': [4, 5, 6]})\n",
    "\n",
    "# This is likely a view\n",
    "subset = dfd.loc[0:1, 'a'] \n",
    "subset[0] = 100  # May affect `df`\n",
    "\n",
    "print (dfd)\n",
    "\n",
    "# This is a copy\n",
    "subset = dfd.loc[[0, 1], 'a']  \n",
    "subset[0] = 200  # Does NOT affect `df`\n",
    "\n",
    "print (dfd)\n",
    "\n"
   ]
  },
  {
   "cell_type": "markdown",
   "metadata": {},
   "source": [
    "The behaviour depend on the version of Pandas and on the version of Numpy that given version of Pandas depends upon. Since Pandas 1.5 \"Copy-on-Write\" (CoW) is (optionally) available and as of Pandas 3.0 will be the default. \n",
    "\n",
    "With CoW chained assignemt will never work; in the following example, the view `df[\"foo\"]` and `df` itself are modified in one step. This will lead to a `ChainedAssignemntError`  "
   ]
  },
  {
   "cell_type": "code",
   "execution_count": 41,
   "metadata": {},
   "outputs": [
    {
     "name": "stderr",
     "output_type": "stream",
     "text": [
      "/tmp/ipykernel_4419/449088826.py:1: FutureWarning: ChainedAssignmentError: behaviour will change in pandas 3.0!\n",
      "You are setting values through chained assignment. Currently this works in certain cases, but when using Copy-on-Write (which will become the default behaviour in pandas 3.0) this will never work to update the original DataFrame or Series, because the intermediate object on which we are setting values will behave as a copy.\n",
      "A typical example is when you are setting values in a column of a DataFrame, like:\n",
      "\n",
      "df[\"col\"][row_indexer] = value\n",
      "\n",
      "Use `df.loc[row_indexer, \"col\"] = values` instead, to perform the assignment in a single step and ensure this keeps updating the original `df`.\n",
      "\n",
      "See the caveats in the documentation: https://pandas.pydata.org/pandas-docs/stable/user_guide/indexing.html#returning-a-view-versus-a-copy\n",
      "\n",
      "  dfd[\"a\"][dfd[\"b\"] > 5] = 100\n"
     ]
    },
    {
     "data": {
      "text/html": [
       "<div>\n",
       "<style scoped>\n",
       "    .dataframe tbody tr th:only-of-type {\n",
       "        vertical-align: middle;\n",
       "    }\n",
       "\n",
       "    .dataframe tbody tr th {\n",
       "        vertical-align: top;\n",
       "    }\n",
       "\n",
       "    .dataframe thead th {\n",
       "        text-align: right;\n",
       "    }\n",
       "</style>\n",
       "<table border=\"1\" class=\"dataframe\">\n",
       "  <thead>\n",
       "    <tr style=\"text-align: right;\">\n",
       "      <th></th>\n",
       "      <th>a</th>\n",
       "      <th>b</th>\n",
       "    </tr>\n",
       "  </thead>\n",
       "  <tbody>\n",
       "    <tr>\n",
       "      <th>0</th>\n",
       "      <td>100</td>\n",
       "      <td>4</td>\n",
       "    </tr>\n",
       "    <tr>\n",
       "      <th>1</th>\n",
       "      <td>2</td>\n",
       "      <td>5</td>\n",
       "    </tr>\n",
       "    <tr>\n",
       "      <th>2</th>\n",
       "      <td>100</td>\n",
       "      <td>6</td>\n",
       "    </tr>\n",
       "  </tbody>\n",
       "</table>\n",
       "</div>"
      ],
      "text/plain": [
       "     a  b\n",
       "0  100  4\n",
       "1    2  5\n",
       "2  100  6"
      ]
     },
     "execution_count": 41,
     "metadata": {},
     "output_type": "execute_result"
    }
   ],
   "source": [
    "dfd[\"a\"][dfd[\"b\"] > 5] = 100\n",
    "dfd"
   ]
  },
  {
   "cell_type": "markdown",
   "metadata": {},
   "source": [
    "With copy on write this can be done by using `loc`"
   ]
  },
  {
   "cell_type": "code",
   "execution_count": 42,
   "metadata": {},
   "outputs": [
    {
     "data": {
      "text/html": [
       "<div>\n",
       "<style scoped>\n",
       "    .dataframe tbody tr th:only-of-type {\n",
       "        vertical-align: middle;\n",
       "    }\n",
       "\n",
       "    .dataframe tbody tr th {\n",
       "        vertical-align: top;\n",
       "    }\n",
       "\n",
       "    .dataframe thead th {\n",
       "        text-align: right;\n",
       "    }\n",
       "</style>\n",
       "<table border=\"1\" class=\"dataframe\">\n",
       "  <thead>\n",
       "    <tr style=\"text-align: right;\">\n",
       "      <th></th>\n",
       "      <th>a</th>\n",
       "      <th>b</th>\n",
       "    </tr>\n",
       "  </thead>\n",
       "  <tbody>\n",
       "    <tr>\n",
       "      <th>0</th>\n",
       "      <td>100</td>\n",
       "      <td>4</td>\n",
       "    </tr>\n",
       "    <tr>\n",
       "      <th>1</th>\n",
       "      <td>2</td>\n",
       "      <td>5</td>\n",
       "    </tr>\n",
       "    <tr>\n",
       "      <th>2</th>\n",
       "      <td>200</td>\n",
       "      <td>6</td>\n",
       "    </tr>\n",
       "  </tbody>\n",
       "</table>\n",
       "</div>"
      ],
      "text/plain": [
       "     a  b\n",
       "0  100  4\n",
       "1    2  5\n",
       "2  200  6"
      ]
     },
     "execution_count": 42,
     "metadata": {},
     "output_type": "execute_result"
    }
   ],
   "source": [
    "dfd.loc[dfd[\"b\"] > 5, \"a\"] = 200\n",
    "dfd"
   ]
  },
  {
   "cell_type": "markdown",
   "metadata": {},
   "source": [
    "### Dropping\n",
    "\n",
    "N.B.: dropping doesn't act permanently on the DataFrame, i.e. to get that do :\n",
    "```python\n",
    "df = df.drop(....)\n",
    "```"
   ]
  },
  {
   "cell_type": "code",
   "execution_count": null,
   "metadata": {},
   "outputs": [],
   "source": [
    "# Dropping by column\n",
    "df.drop(['E prime'], axis=1)\n",
    "\n",
    "#which is equivalent to\n",
    "new_df=df.drop(columns=['E prime'])\n",
    "new_df"
   ]
  },
  {
   "cell_type": "code",
   "execution_count": null,
   "metadata": {},
   "outputs": [],
   "source": [
    "# Dropping by raws\n",
    "# safe and always working\n",
    "df.drop(df.index[[1,2,3,4]])"
   ]
  },
  {
   "cell_type": "code",
   "execution_count": null,
   "metadata": {},
   "outputs": [],
   "source": [
    "df"
   ]
  },
  {
   "cell_type": "code",
   "execution_count": null,
   "metadata": {},
   "outputs": [],
   "source": [
    "# something like df.drop('index_name') \n",
    "# would work but the type of index must be specificed, \n",
    "# in particular with DatetimeIndex\n",
    "df.drop(pd.to_datetime(\"2024-11-27 18:45:00\"))"
   ]
  },
  {
   "cell_type": "markdown",
   "metadata": {},
   "source": [
    "## Missing data\n",
    "\n",
    "pandas primarily uses the value np.nan to represent missing data. It is by default not included in computations."
   ]
  },
  {
   "cell_type": "code",
   "execution_count": null,
   "metadata": {},
   "outputs": [],
   "source": [
    "df_wNan = df[df>0]\n",
    "df_wNan"
   ]
  },
  {
   "cell_type": "code",
   "execution_count": null,
   "metadata": {},
   "outputs": [],
   "source": [
    "# dropping raws with at least a Nan\n",
    "df_wNan.dropna(how='any')"
   ]
  },
  {
   "cell_type": "code",
   "execution_count": null,
   "metadata": {},
   "outputs": [],
   "source": [
    "# getting a mask\n",
    "df_wNan.isna()\n",
    "#df_wNan.notna()"
   ]
  },
  {
   "cell_type": "code",
   "execution_count": null,
   "metadata": {},
   "outputs": [],
   "source": [
    "# filling missing data\n",
    "df_wNan.fillna(value=0)"
   ]
  },
  {
   "cell_type": "markdown",
   "metadata": {},
   "source": [
    "Fill gaps forward or backward by propagating non-NA values forward or backward:"
   ]
  },
  {
   "cell_type": "code",
   "execution_count": null,
   "metadata": {},
   "outputs": [],
   "source": [
    "#this may be dangereous\n",
    "\n",
    "df_wNan.fillna(method='pad')"
   ]
  },
  {
   "cell_type": "markdown",
   "metadata": {},
   "source": [
    "## Operations\n",
    "\n",
    "Here comes the most relevant advantage of DataFrame. Operations on columns are extremly fast due to several intrinsic optimizations:\n",
    "\n",
    "* They are implemented in C/Cython via NumPy.\n",
    "* Pandas processes columns as contiguous memory arrays.\n",
    "* Vectorized operations eliminate the need for slow Python loops.\n",
    "* Efficient memory and cache utilization boost performance.\n"
   ]
  },
  {
   "cell_type": "code",
   "execution_count": null,
   "metadata": {},
   "outputs": [],
   "source": [
    "# Some statistics (mean() just as an example)\n",
    "# raws\n",
    "print (df.mean(axis=0),'\\n')\n",
    "# columns\n",
    "print (df.mean(axis=1),'\\n')"
   ]
  },
  {
   "cell_type": "code",
   "execution_count": null,
   "metadata": {},
   "outputs": [],
   "source": [
    "# global operations on columns\n",
    "df.apply(np.cumsum)"
   ]
  },
  {
   "cell_type": "code",
   "execution_count": null,
   "metadata": {},
   "outputs": [],
   "source": [
    "df"
   ]
  },
  {
   "cell_type": "code",
   "execution_count": null,
   "metadata": {},
   "outputs": [],
   "source": [
    "df.apply(lambda x: x.max() - x.min())"
   ]
  },
  {
   "cell_type": "code",
   "execution_count": null,
   "metadata": {},
   "outputs": [],
   "source": [
    "# syntax is as usual similar to that of numpy arrays\n",
    "df['A']+df['B']"
   ]
  },
  {
   "cell_type": "markdown",
   "metadata": {},
   "source": [
    "Let's play it hard and load (in memory) a (relatively) large dataset"
   ]
  },
  {
   "cell_type": "code",
   "execution_count": 43,
   "metadata": {},
   "outputs": [
    {
     "data": {
      "text/html": [
       "<div>\n",
       "<style scoped>\n",
       "    .dataframe tbody tr th:only-of-type {\n",
       "        vertical-align: middle;\n",
       "    }\n",
       "\n",
       "    .dataframe tbody tr th {\n",
       "        vertical-align: top;\n",
       "    }\n",
       "\n",
       "    .dataframe thead th {\n",
       "        text-align: right;\n",
       "    }\n",
       "</style>\n",
       "<table border=\"1\" class=\"dataframe\">\n",
       "  <thead>\n",
       "    <tr style=\"text-align: right;\">\n",
       "      <th></th>\n",
       "      <th>HEAD</th>\n",
       "      <th>FPGA</th>\n",
       "      <th>TDC_CHANNEL</th>\n",
       "      <th>ORBIT_CNT</th>\n",
       "      <th>BX_COUNTER</th>\n",
       "      <th>TDC_MEAS</th>\n",
       "    </tr>\n",
       "  </thead>\n",
       "  <tbody>\n",
       "    <tr>\n",
       "      <th>1310710</th>\n",
       "      <td>1</td>\n",
       "      <td>1</td>\n",
       "      <td>36</td>\n",
       "      <td>3869211171</td>\n",
       "      <td>427</td>\n",
       "      <td>13</td>\n",
       "    </tr>\n",
       "    <tr>\n",
       "      <th>1310711</th>\n",
       "      <td>1</td>\n",
       "      <td>1</td>\n",
       "      <td>39</td>\n",
       "      <td>3869211171</td>\n",
       "      <td>430</td>\n",
       "      <td>0</td>\n",
       "    </tr>\n",
       "    <tr>\n",
       "      <th>1310712</th>\n",
       "      <td>1</td>\n",
       "      <td>1</td>\n",
       "      <td>35</td>\n",
       "      <td>3869211171</td>\n",
       "      <td>429</td>\n",
       "      <td>4</td>\n",
       "    </tr>\n",
       "    <tr>\n",
       "      <th>1310713</th>\n",
       "      <td>1</td>\n",
       "      <td>0</td>\n",
       "      <td>64</td>\n",
       "      <td>3869211171</td>\n",
       "      <td>758</td>\n",
       "      <td>18</td>\n",
       "    </tr>\n",
       "    <tr>\n",
       "      <th>1310714</th>\n",
       "      <td>1</td>\n",
       "      <td>0</td>\n",
       "      <td>60</td>\n",
       "      <td>3869211171</td>\n",
       "      <td>762</td>\n",
       "      <td>2</td>\n",
       "    </tr>\n",
       "    <tr>\n",
       "      <th>1310715</th>\n",
       "      <td>1</td>\n",
       "      <td>0</td>\n",
       "      <td>62</td>\n",
       "      <td>3869211171</td>\n",
       "      <td>762</td>\n",
       "      <td>14</td>\n",
       "    </tr>\n",
       "    <tr>\n",
       "      <th>1310716</th>\n",
       "      <td>1</td>\n",
       "      <td>1</td>\n",
       "      <td>4</td>\n",
       "      <td>3869211171</td>\n",
       "      <td>763</td>\n",
       "      <td>11</td>\n",
       "    </tr>\n",
       "    <tr>\n",
       "      <th>1310717</th>\n",
       "      <td>1</td>\n",
       "      <td>0</td>\n",
       "      <td>64</td>\n",
       "      <td>3869211171</td>\n",
       "      <td>764</td>\n",
       "      <td>0</td>\n",
       "    </tr>\n",
       "    <tr>\n",
       "      <th>1310718</th>\n",
       "      <td>1</td>\n",
       "      <td>0</td>\n",
       "      <td>139</td>\n",
       "      <td>3869211171</td>\n",
       "      <td>769</td>\n",
       "      <td>0</td>\n",
       "    </tr>\n",
       "    <tr>\n",
       "      <th>1310719</th>\n",
       "      <td>1</td>\n",
       "      <td>0</td>\n",
       "      <td>61</td>\n",
       "      <td>3869211171</td>\n",
       "      <td>762</td>\n",
       "      <td>18</td>\n",
       "    </tr>\n",
       "  </tbody>\n",
       "</table>\n",
       "</div>"
      ],
      "text/plain": [
       "         HEAD  FPGA  TDC_CHANNEL   ORBIT_CNT  BX_COUNTER  TDC_MEAS\n",
       "1310710     1     1           36  3869211171         427        13\n",
       "1310711     1     1           39  3869211171         430         0\n",
       "1310712     1     1           35  3869211171         429         4\n",
       "1310713     1     0           64  3869211171         758        18\n",
       "1310714     1     0           60  3869211171         762         2\n",
       "1310715     1     0           62  3869211171         762        14\n",
       "1310716     1     1            4  3869211171         763        11\n",
       "1310717     1     0           64  3869211171         764         0\n",
       "1310718     1     0          139  3869211171         769         0\n",
       "1310719     1     0           61  3869211171         762        18"
      ]
     },
     "execution_count": 43,
     "metadata": {},
     "output_type": "execute_result"
    }
   ],
   "source": [
    "# WARNING! link in past notebook was wrong!, (if needed) get the right file from:\n",
    "#!wget https://www.dropbox.com/s/xvjzaxzz3ysphme/data_000637.txt -P ~/data/\n",
    "import pandas as pd\n",
    "file_name=\"~/data/data_000637.txt\"\n",
    "data=pd.read_csv(file_name)\n",
    "data.tail(10)"
   ]
  },
  {
   "cell_type": "markdown",
   "metadata": {},
   "source": [
    "Let's now do some operations among (elements of) columns"
   ]
  },
  {
   "cell_type": "code",
   "execution_count": 44,
   "metadata": {},
   "outputs": [],
   "source": [
    "# the one-liner killing it all\n",
    "data['timens']=data['TDC_MEAS']*25/30+data['BX_COUNTER']*25"
   ]
  },
  {
   "cell_type": "code",
   "execution_count": 45,
   "metadata": {},
   "outputs": [
    {
     "data": {
      "text/plain": [
       "0          59371.666667\n",
       "1          59372.500000\n",
       "2          63848.333333\n",
       "3          63965.833333\n",
       "4          69020.833333\n",
       "               ...     \n",
       "1310715    19061.666667\n",
       "1310716    19084.166667\n",
       "1310717    19100.000000\n",
       "1310718    19225.000000\n",
       "1310719    19065.000000\n",
       "Name: timens, Length: 1310720, dtype: float64"
      ]
     },
     "execution_count": 45,
     "metadata": {},
     "output_type": "execute_result"
    }
   ],
   "source": [
    "data['timens']"
   ]
  },
  {
   "cell_type": "code",
   "execution_count": 46,
   "metadata": {},
   "outputs": [],
   "source": [
    "# the old slooow way\n",
    "def conversion(data):\n",
    "    result=[]\n",
    "    for i in range(len(data)): \n",
    "        result.append(data.loc[data.index[i],'TDC_MEAS']*25/30.+data.loc[data.index[i],'BX_COUNTER']*25)\n",
    "    return result\n",
    "\n",
    "data['timens']=conversion(data)"
   ]
  },
  {
   "cell_type": "markdown",
   "metadata": {},
   "source": [
    "For tasks on extremely large datasets, libraries like [Polars](https://docs.pola.rs) or [Dask](https://www.dask.org) can offer even faster alternatives by further parallelizing or optimizing columnar operations."
   ]
  },
  {
   "cell_type": "markdown",
   "metadata": {},
   "source": [
    "## Merge\n",
    "\n",
    "pandas provides various facilities for easily combining together Series, DataFrame, and Panel objects with various kinds of set logic for the indexes and relational algebra functionality in the case of join / merge-type operations.\n",
    "\n",
    "### Concat\n",
    "\n",
    "concatenation (adding rows) is straightforward\n"
   ]
  },
  {
   "cell_type": "code",
   "execution_count": 47,
   "metadata": {},
   "outputs": [
    {
     "data": {
      "text/html": [
       "<div>\n",
       "<style scoped>\n",
       "    .dataframe tbody tr th:only-of-type {\n",
       "        vertical-align: middle;\n",
       "    }\n",
       "\n",
       "    .dataframe tbody tr th {\n",
       "        vertical-align: top;\n",
       "    }\n",
       "\n",
       "    .dataframe thead th {\n",
       "        text-align: right;\n",
       "    }\n",
       "</style>\n",
       "<table border=\"1\" class=\"dataframe\">\n",
       "  <thead>\n",
       "    <tr style=\"text-align: right;\">\n",
       "      <th></th>\n",
       "      <th>0</th>\n",
       "      <th>1</th>\n",
       "      <th>2</th>\n",
       "      <th>3</th>\n",
       "    </tr>\n",
       "  </thead>\n",
       "  <tbody>\n",
       "    <tr>\n",
       "      <th>0</th>\n",
       "      <td>-0.042578</td>\n",
       "      <td>-0.845055</td>\n",
       "      <td>0.179314</td>\n",
       "      <td>1.484313</td>\n",
       "    </tr>\n",
       "    <tr>\n",
       "      <th>1</th>\n",
       "      <td>0.824654</td>\n",
       "      <td>-0.808491</td>\n",
       "      <td>0.560591</td>\n",
       "      <td>-1.713239</td>\n",
       "    </tr>\n",
       "    <tr>\n",
       "      <th>2</th>\n",
       "      <td>-1.153509</td>\n",
       "      <td>0.208166</td>\n",
       "      <td>-1.445455</td>\n",
       "      <td>-0.581068</td>\n",
       "    </tr>\n",
       "    <tr>\n",
       "      <th>3</th>\n",
       "      <td>-2.349152</td>\n",
       "      <td>-1.459404</td>\n",
       "      <td>-0.595938</td>\n",
       "      <td>-0.067809</td>\n",
       "    </tr>\n",
       "    <tr>\n",
       "      <th>4</th>\n",
       "      <td>2.371648</td>\n",
       "      <td>-0.354104</td>\n",
       "      <td>2.060212</td>\n",
       "      <td>-0.882064</td>\n",
       "    </tr>\n",
       "    <tr>\n",
       "      <th>5</th>\n",
       "      <td>3.158537</td>\n",
       "      <td>-1.128066</td>\n",
       "      <td>0.301677</td>\n",
       "      <td>-0.864088</td>\n",
       "    </tr>\n",
       "    <tr>\n",
       "      <th>6</th>\n",
       "      <td>-1.091545</td>\n",
       "      <td>-0.419496</td>\n",
       "      <td>-0.095436</td>\n",
       "      <td>-0.045496</td>\n",
       "    </tr>\n",
       "    <tr>\n",
       "      <th>7</th>\n",
       "      <td>-1.231864</td>\n",
       "      <td>0.794839</td>\n",
       "      <td>-0.324404</td>\n",
       "      <td>0.008937</td>\n",
       "    </tr>\n",
       "    <tr>\n",
       "      <th>8</th>\n",
       "      <td>0.641075</td>\n",
       "      <td>0.516897</td>\n",
       "      <td>1.347197</td>\n",
       "      <td>0.171900</td>\n",
       "    </tr>\n",
       "    <tr>\n",
       "      <th>9</th>\n",
       "      <td>-0.459691</td>\n",
       "      <td>-0.183332</td>\n",
       "      <td>-1.915065</td>\n",
       "      <td>-0.551474</td>\n",
       "    </tr>\n",
       "  </tbody>\n",
       "</table>\n",
       "</div>"
      ],
      "text/plain": [
       "          0         1         2         3\n",
       "0 -0.042578 -0.845055  0.179314  1.484313\n",
       "1  0.824654 -0.808491  0.560591 -1.713239\n",
       "2 -1.153509  0.208166 -1.445455 -0.581068\n",
       "3 -2.349152 -1.459404 -0.595938 -0.067809\n",
       "4  2.371648 -0.354104  2.060212 -0.882064\n",
       "5  3.158537 -1.128066  0.301677 -0.864088\n",
       "6 -1.091545 -0.419496 -0.095436 -0.045496\n",
       "7 -1.231864  0.794839 -0.324404  0.008937\n",
       "8  0.641075  0.516897  1.347197  0.171900\n",
       "9 -0.459691 -0.183332 -1.915065 -0.551474"
      ]
     },
     "execution_count": 47,
     "metadata": {},
     "output_type": "execute_result"
    }
   ],
   "source": [
    "rdf = pd.DataFrame(np.random.randn(10, 4))\n",
    "rdf"
   ]
  },
  {
   "cell_type": "code",
   "execution_count": 48,
   "metadata": {},
   "outputs": [
    {
     "data": {
      "text/plain": [
       "[          0         1         2         3\n",
       " 0 -0.042578 -0.845055  0.179314  1.484313\n",
       " 1  0.824654 -0.808491  0.560591 -1.713239\n",
       " 2 -1.153509  0.208166 -1.445455 -0.581068,\n",
       "           0         1         2         3\n",
       " 3 -2.349152 -1.459404 -0.595938 -0.067809\n",
       " 4  2.371648 -0.354104  2.060212 -0.882064\n",
       " 5  3.158537 -1.128066  0.301677 -0.864088\n",
       " 6 -1.091545 -0.419496 -0.095436 -0.045496,\n",
       "           0         1         2         3\n",
       " 7 -1.231864  0.794839 -0.324404  0.008937\n",
       " 8  0.641075  0.516897  1.347197  0.171900\n",
       " 9 -0.459691 -0.183332 -1.915065 -0.551474]"
      ]
     },
     "execution_count": 48,
     "metadata": {},
     "output_type": "execute_result"
    }
   ],
   "source": [
    "# divide it into pieaces row-wise\n",
    "pieces = [rdf[:3], rdf[3:7], rdf[7:]]\n",
    "pieces"
   ]
  },
  {
   "cell_type": "code",
   "execution_count": 49,
   "metadata": {},
   "outputs": [
    {
     "data": {
      "text/html": [
       "<div>\n",
       "<style scoped>\n",
       "    .dataframe tbody tr th:only-of-type {\n",
       "        vertical-align: middle;\n",
       "    }\n",
       "\n",
       "    .dataframe tbody tr th {\n",
       "        vertical-align: top;\n",
       "    }\n",
       "\n",
       "    .dataframe thead th {\n",
       "        text-align: right;\n",
       "    }\n",
       "</style>\n",
       "<table border=\"1\" class=\"dataframe\">\n",
       "  <thead>\n",
       "    <tr style=\"text-align: right;\">\n",
       "      <th></th>\n",
       "      <th>0</th>\n",
       "      <th>1</th>\n",
       "      <th>2</th>\n",
       "      <th>3</th>\n",
       "    </tr>\n",
       "  </thead>\n",
       "  <tbody>\n",
       "    <tr>\n",
       "      <th>0</th>\n",
       "      <td>-0.042578</td>\n",
       "      <td>-0.845055</td>\n",
       "      <td>0.179314</td>\n",
       "      <td>1.484313</td>\n",
       "    </tr>\n",
       "    <tr>\n",
       "      <th>1</th>\n",
       "      <td>0.824654</td>\n",
       "      <td>-0.808491</td>\n",
       "      <td>0.560591</td>\n",
       "      <td>-1.713239</td>\n",
       "    </tr>\n",
       "    <tr>\n",
       "      <th>2</th>\n",
       "      <td>-1.153509</td>\n",
       "      <td>0.208166</td>\n",
       "      <td>-1.445455</td>\n",
       "      <td>-0.581068</td>\n",
       "    </tr>\n",
       "    <tr>\n",
       "      <th>3</th>\n",
       "      <td>-2.349152</td>\n",
       "      <td>-1.459404</td>\n",
       "      <td>-0.595938</td>\n",
       "      <td>-0.067809</td>\n",
       "    </tr>\n",
       "    <tr>\n",
       "      <th>4</th>\n",
       "      <td>2.371648</td>\n",
       "      <td>-0.354104</td>\n",
       "      <td>2.060212</td>\n",
       "      <td>-0.882064</td>\n",
       "    </tr>\n",
       "    <tr>\n",
       "      <th>5</th>\n",
       "      <td>3.158537</td>\n",
       "      <td>-1.128066</td>\n",
       "      <td>0.301677</td>\n",
       "      <td>-0.864088</td>\n",
       "    </tr>\n",
       "    <tr>\n",
       "      <th>6</th>\n",
       "      <td>-1.091545</td>\n",
       "      <td>-0.419496</td>\n",
       "      <td>-0.095436</td>\n",
       "      <td>-0.045496</td>\n",
       "    </tr>\n",
       "    <tr>\n",
       "      <th>7</th>\n",
       "      <td>-1.231864</td>\n",
       "      <td>0.794839</td>\n",
       "      <td>-0.324404</td>\n",
       "      <td>0.008937</td>\n",
       "    </tr>\n",
       "    <tr>\n",
       "      <th>8</th>\n",
       "      <td>0.641075</td>\n",
       "      <td>0.516897</td>\n",
       "      <td>1.347197</td>\n",
       "      <td>0.171900</td>\n",
       "    </tr>\n",
       "    <tr>\n",
       "      <th>9</th>\n",
       "      <td>-0.459691</td>\n",
       "      <td>-0.183332</td>\n",
       "      <td>-1.915065</td>\n",
       "      <td>-0.551474</td>\n",
       "    </tr>\n",
       "  </tbody>\n",
       "</table>\n",
       "</div>"
      ],
      "text/plain": [
       "          0         1         2         3\n",
       "0 -0.042578 -0.845055  0.179314  1.484313\n",
       "1  0.824654 -0.808491  0.560591 -1.713239\n",
       "2 -1.153509  0.208166 -1.445455 -0.581068\n",
       "3 -2.349152 -1.459404 -0.595938 -0.067809\n",
       "4  2.371648 -0.354104  2.060212 -0.882064\n",
       "5  3.158537 -1.128066  0.301677 -0.864088\n",
       "6 -1.091545 -0.419496 -0.095436 -0.045496\n",
       "7 -1.231864  0.794839 -0.324404  0.008937\n",
       "8  0.641075  0.516897  1.347197  0.171900\n",
       "9 -0.459691 -0.183332 -1.915065 -0.551474"
      ]
     },
     "execution_count": 49,
     "metadata": {},
     "output_type": "execute_result"
    }
   ],
   "source": [
    "# put it back together\n",
    "#pd.concat(pieces)\n",
    "\n",
    "# indexes can be ignored\n",
    "pd.concat(pieces, ignore_index=True)\n",
    "\n",
    "# in case of dimension mismatch, Nan are added where needed"
   ]
  },
  {
   "cell_type": "code",
   "execution_count": null,
   "metadata": {},
   "outputs": [],
   "source": [
    "# appending a single row (as a Series)\n",
    "s = rdf.iloc[3]\n",
    "rdf = pd.concat([rdf,s.to_frame().T], ignore_index=True)\n",
    "rdf"
   ]
  },
  {
   "cell_type": "markdown",
   "metadata": {},
   "source": [
    "### Merge/Join\n",
    "\n",
    "SQL like operations on table can be performed on DataFrames. This is all rather sophisticated, refer to the [doc](https://pandas.pydata.org/pandas-docs/stable/merging.html#merging) for more info/examples.\n",
    "\n",
    "#### Merging, Inner Join (default)\n",
    "\n",
    "Only rows with matching id values are included:"
   ]
  },
  {
   "cell_type": "code",
   "execution_count": null,
   "metadata": {},
   "outputs": [],
   "source": [
    "import pandas as pd\n",
    "\n",
    "df1 = pd.DataFrame({'id': [1, 2, 3], 'name': ['Alice', 'Bob', 'Charlie']})\n",
    "df2 = pd.DataFrame({'id': [2, 3, 4], 'age': [25, 30, 35]})\n",
    "\n",
    "# Merge on the 'id' column\n",
    "result = pd.merge(df1, df2, on='id')\n",
    "print(result)"
   ]
  },
  {
   "cell_type": "markdown",
   "metadata": {},
   "source": [
    "#### Merging, Left Join\n",
    "\n",
    "A left join includes all rows from `df1` (left) and fills in `NaN` for missing matches in `df2`."
   ]
  },
  {
   "cell_type": "code",
   "execution_count": null,
   "metadata": {},
   "outputs": [],
   "source": [
    "result = pd.merge(df1, df2, on='id', how='left')\n",
    "print(result)"
   ]
  },
  {
   "cell_type": "markdown",
   "metadata": {},
   "source": [
    "#### Merging, Outer Join\n",
    "\n",
    "An outer join includes all rows from both DataFrames, filling NaN for missing values"
   ]
  },
  {
   "cell_type": "code",
   "execution_count": null,
   "metadata": {},
   "outputs": [],
   "source": [
    "result = pd.merge(df1, df2, on='id', how='outer')\n",
    "print(result)"
   ]
  },
  {
   "cell_type": "markdown",
   "metadata": {},
   "source": [
    "`join` is similar to `merge` but uses index as key and has 'Left' as default"
   ]
  },
  {
   "cell_type": "code",
   "execution_count": null,
   "metadata": {},
   "outputs": [],
   "source": [
    "df1 = pd.DataFrame({'name': ['Alice', 'Bob', 'Charlie']}, index=[1, 2, 3])\n",
    "df2 = pd.DataFrame({'age': [25, 30, 35]}, index=[2, 3, 4])\n",
    "\n",
    "result = df1.join(df2)\n",
    "print(result)\n"
   ]
  },
  {
   "cell_type": "markdown",
   "metadata": {},
   "source": [
    "## Grouping\n",
    "\n",
    "By “group by” we are referring to a process involving one or more of the following steps:\n",
    "\n",
    "* Splitting the data into groups based on some criteria\n",
    "* Applying a function to each group independently\n",
    "* Combining the results into a data structure\n",
    "\n",
    "\n",
    "Grouping is one of the most powerful and at the same time most sofisticated action you can perform with DataFrames. Mastering it is key for an effective usage of Pandas and vectorized data analysis. Reading the [documentation](https://pandas.pydata.org/pandas-docs/stable/user_guide/groupby.html) or going through a [tutorial](https://realpython.com/pandas-groupby/) is warmly recommended. \n",
    "\n",
    "Let's go through a few examples:"
   ]
  },
  {
   "cell_type": "code",
   "execution_count": 51,
   "metadata": {},
   "outputs": [
    {
     "name": "stdout",
     "output_type": "stream",
     "text": [
      "  Category  Values\n",
      "0        A      10\n",
      "1        B      20\n",
      "2        A      30\n",
      "3        B      40\n",
      "4        A      50\n",
      "5        C      60\n",
      "<pandas.core.groupby.generic.DataFrameGroupBy object at 0x7996e011a490>\n",
      "          Values\n",
      "Category        \n",
      "A             90\n",
      "B             60\n",
      "C             60\n"
     ]
    }
   ],
   "source": [
    "data = {\n",
    "    'Category': ['A', 'B', 'A', 'B', 'A', 'C'],\n",
    "    'Values': [10, 20, 30, 40, 50, 60]\n",
    "}\n",
    "\n",
    "df = pd.DataFrame(data)\n",
    "print(df.head(10))\n",
    "print(df.groupby(\"Category\"))  \n",
    "# Group by 'Category' and calculate the sum\n",
    "result = df.groupby('Category').sum()\n",
    "print(result)\n"
   ]
  },
  {
   "cell_type": "code",
   "execution_count": 52,
   "metadata": {},
   "outputs": [
    {
     "name": "stdout",
     "output_type": "stream",
     "text": [
      "         Values      \n",
      "            sum  mean\n",
      "Category             \n",
      "A            90  30.0\n",
      "B            60  30.0\n",
      "C            60  60.0\n"
     ]
    }
   ],
   "source": [
    "# Multiple Aggregations\n",
    "result = df.groupby('Category').agg(['sum', 'mean'])\n",
    "print(result)"
   ]
  },
  {
   "cell_type": "code",
   "execution_count": 53,
   "metadata": {},
   "outputs": [
    {
     "name": "stdout",
     "output_type": "stream",
     "text": [
      "  Category Type  Values\n",
      "0        A    X      10\n",
      "1        A    Y      20\n",
      "2        B    X      30\n",
      "3        B    Y      40\n",
      "4        C    X      50\n",
      "5        C    Y      60\n",
      "               Values\n",
      "Category Type        \n",
      "A        X         10\n",
      "         Y         20\n",
      "B        X         30\n",
      "         Y         40\n",
      "C        X         50\n",
      "         Y         60\n"
     ]
    }
   ],
   "source": [
    "# Grouping by multiple columns\n",
    "df = pd.DataFrame({'Category': ['A', 'A', 'B', 'B', 'C', 'C'],\n",
    "                   'Type': ['X', 'Y', 'X', 'Y', 'X', 'Y'],\n",
    "                   'Values': [10, 20, 30, 40, 50, 60]}\n",
    "                 )\n",
    "print(df)\n",
    "result = df.groupby(['Category', 'Type']).sum()\n",
    "print(result)\n"
   ]
  },
  {
   "cell_type": "code",
   "execution_count": 54,
   "metadata": {},
   "outputs": [
    {
     "name": "stdout",
     "output_type": "stream",
     "text": [
      "  Category Type  Values  Group_Avg\n",
      "0        A    X      10       15.0\n",
      "1        A    Y      20       15.0\n",
      "2        B    X      30       35.0\n",
      "3        B    Y      40       35.0\n",
      "4        C    X      50       55.0\n",
      "5        C    Y      60       55.0\n"
     ]
    }
   ],
   "source": [
    "# Trasformations using groupby(): add group averages to DataFrame\n",
    "df['Group_Avg'] = df.groupby('Category')['Values'].transform('mean')\n",
    "print(df)"
   ]
  },
  {
   "cell_type": "code",
   "execution_count": 55,
   "metadata": {},
   "outputs": [
    {
     "name": "stdout",
     "output_type": "stream",
     "text": [
      "  Category Type  Values  Group_Avg\n",
      "2        B    X      30       35.0\n",
      "3        B    Y      40       35.0\n",
      "4        C    X      50       55.0\n",
      "5        C    Y      60       55.0\n"
     ]
    }
   ],
   "source": [
    "# filtering\n",
    "filtered = df.groupby('Category').filter(lambda x: x['Values'].sum() > 50)\n",
    "print(filtered)"
   ]
  },
  {
   "cell_type": "code",
   "execution_count": null,
   "metadata": {},
   "outputs": [],
   "source": [
    "# custom aggregation with apply()\n",
    "def custom_aggregation(group):\n",
    "    return pd.Series({\n",
    "        'Sum': group['Values'].sum(),\n",
    "        'Max': group['Values'].max(),\n",
    "        'Count': group['Values'].count()\n",
    "    })\n",
    "\n",
    "result = df.groupby('Category').apply(custom_aggregation)\n",
    "print(result)"
   ]
  },
  {
   "cell_type": "code",
   "execution_count": null,
   "metadata": {},
   "outputs": [],
   "source": [
    "# splitting data into groups\n",
    "grouped = df.groupby('Category')\n",
    "\n",
    "for name, group in grouped:\n",
    "    print(f\"Group: {name}\")\n",
    "    print(group)\n"
   ]
  },
  {
   "cell_type": "markdown",
   "metadata": {},
   "source": [
    "## Multi-indexing\n",
    "\n",
    "\n",
    "Hierarchical / Multi-level indexing allows sophisticated data analysis on higher dimensional data. In essence, it enables you to store and manipulate data with an arbitrary number of dimensions in lower dimensional data structures like Series (1d) and DataFrame (2d)."
   ]
  },
  {
   "cell_type": "code",
   "execution_count": null,
   "metadata": {},
   "outputs": [],
   "source": [
    "tuples = list(zip(['bar', 'bar', 'baz', 'baz', 'foo', 'foo', 'qux', 'qux'],\n",
    "          ['one', 'two', 'one', 'two', 'one', 'two', 'one', 'two']))\n",
    "multi_index = pd.MultiIndex.from_tuples(tuples, names=['first', 'second'])\n",
    "print (multi_index,'\\n')\n",
    "\n",
    "s = pd.Series(np.random.randn(8), index=multi_index)\n",
    "print (s)\n"
   ]
  },
  {
   "cell_type": "code",
   "execution_count": null,
   "metadata": {},
   "outputs": [],
   "source": [
    "gdf = pd.DataFrame({'A' : ['foo', 'bar', 'foo', 'bar',\n",
    "                          'foo', 'bar', 'foo', 'foo'],\n",
    "                    'B' : ['one', 'one', 'two', 'three',\n",
    "                           'two', 'two', 'one', 'three'],\n",
    "                    'C' : np.random.randn(8),\n",
    "                    'D' : np.random.randn(8)})\n",
    "gdf\n",
    "\n",
    "# it enables further features of the groupby method,\n",
    "# e.g. when group-by by multiple columns\n",
    "gdf.groupby(['A','B']).sum()"
   ]
  },
  {
   "cell_type": "code",
   "execution_count": null,
   "metadata": {},
   "outputs": [],
   "source": [
    "# stack() method “compresses” a level in the DataFrame’s columns\n",
    "gdf.groupby(['A','B']).sum().stack()"
   ]
  },
  {
   "cell_type": "markdown",
   "metadata": {},
   "source": [
    "## Plotting\n",
    "\n",
    "Just a preview, more on the next lab class!"
   ]
  },
  {
   "cell_type": "code",
   "execution_count": null,
   "metadata": {},
   "outputs": [],
   "source": [
    "ts = pd.Series(np.random.randn(1000), index=pd.date_range('1/1/2000', periods=1000))\n",
    "ts.cumsum().plot()"
   ]
  },
  {
   "cell_type": "code",
   "execution_count": null,
   "metadata": {},
   "outputs": [],
   "source": [
    "import matplotlib.pyplot as plt\n",
    "\n",
    "pdf=pd.DataFrame(np.random.randn(1000, 4), index=ts.index,columns=['A', 'B', 'C', 'D'])\n",
    "pdf = pdf.cumsum()\n",
    "plt.figure(); pdf.plot(); plt.legend(loc='best')"
   ]
  },
  {
   "cell_type": "code",
   "execution_count": null,
   "metadata": {},
   "outputs": [],
   "source": []
  }
 ],
 "metadata": {
  "kernelspec": {
   "display_name": "Python 3 (ipykernel)",
   "language": "python",
   "name": "python3"
  },
  "language_info": {
   "codemirror_mode": {
    "name": "ipython",
    "version": 3
   },
   "file_extension": ".py",
   "mimetype": "text/x-python",
   "name": "python",
   "nbconvert_exporter": "python",
   "pygments_lexer": "ipython3",
   "version": "3.9.20"
  }
 },
 "nbformat": 4,
 "nbformat_minor": 4
}
