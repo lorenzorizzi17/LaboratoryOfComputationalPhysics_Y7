{
 "cells": [
  {
   "cell_type": "markdown",
   "metadata": {},
   "source": [
    "1\\. Write a function that converts number representation, bin<->dec<->hex. (Clearly using the corresponding python built-in functions is not fair..)"
   ]
  },
  {
   "cell_type": "code",
   "execution_count": 67,
   "metadata": {},
   "outputs": [
    {
     "name": "stdout",
     "output_type": "stream",
     "text": [
      "4 should be 4\n",
      "105 should be 105\n",
      "256 should be 256\n",
      "53678 should be 53678\n",
      "1111011 should be 1111011\n",
      "11110001 should be 11110001\n",
      "f1 should be f1\n",
      "60d should be 60d\n",
      "1101000110101110 should be 1101000110101110\n"
     ]
    }
   ],
   "source": [
    "# input should be a string (that is exactly the return type of bin(), hex() )\n",
    "\n",
    "decode = [\"0\",\"1\",\"2\",\"3\",\"4\",\"5\",\"6\",\"7\",\"8\",\"9\",\"a\", \"b\", \"c\", \"d\", \"e\", \"f\"]\n",
    "#convert from a basis b to decimal\n",
    "def toDec(n, b):\n",
    "    res = 0\n",
    "    c = 0\n",
    "    for bit in (str(n))[::-1]:\n",
    "        res += decode.index(bit)*pow(b,c)\n",
    "        c = c+1\n",
    "    return res\n",
    "\n",
    "#convert from decimal to a generic basis b\n",
    "def fromDec(n, b):\n",
    "    res = \"\"\n",
    "    while (n != 0):\n",
    "        rn = n % b\n",
    "        n = n // b\n",
    "        res = res + decode[rn]\n",
    "    res = res\n",
    "    return res[::-1]\n",
    "\n",
    "# convert between two different basis bi, bf\n",
    "def convert(n, bi, bf):\n",
    "    return fromDec(toDec(n, bi), bf)\n",
    "\n",
    "    \n",
    "#Examples: \n",
    "print(toDec(\"100\",2), \"should be\", int(0b100))\n",
    "print(toDec(\"1101001\",2), \"should be\", 0b1101001)\n",
    "print(toDec(\"100\",16), \"should be\", 0x100)\n",
    "print(toDec(\"d1ae\",16), \"should be\", 0xd1ae)\n",
    "\n",
    "print(fromDec(123, 2), \"should be\", bin(123)[2::])\n",
    "print(fromDec(241, 2), \"should be\", bin(241)[2::])\n",
    "print(fromDec(241, 16), \"should be\", hex(241)[2::])\n",
    "print(fromDec(1549, 16), \"should be\", hex(1549)[2::])\n",
    "\n",
    "print(convert(\"d1ae\", 16, 2), \"should be\", bin(int(0xd1ae))[2::])\n"
   ]
  },
  {
   "cell_type": "markdown",
   "metadata": {},
   "source": [
    "2\\. Write a function that converts a 32 bit word into a single precision floating point (i.e. interprets the various bits as sign, mantissa and exponent)"
   ]
  },
  {
   "cell_type": "code",
   "execution_count": 73,
   "metadata": {},
   "outputs": [
    {
     "name": "stdout",
     "output_type": "stream",
     "text": [
      "1.396365943153319e-27  should be 1.396365943153319011187892E-27\n"
     ]
    }
   ],
   "source": [
    "def toFloat(word):\n",
    "    sign = word >> 31 & 0b1\n",
    "    exp = word >> 23 & 0b011111111\n",
    "    mant = word & 0b11111111111111111111111\n",
    "    #binary converter for the mantissa part\n",
    "    mantPart = 1\n",
    "    c = 1\n",
    "    for bit in str(bin(mant))[2:]:\n",
    "        mantPart = mantPart + int(bit)*pow(2,-c)\n",
    "        c = c+1\n",
    "        \n",
    "    #binary converter for the exponent part\n",
    "    expPart = 0\n",
    "    c = 0\n",
    "    for bit in str(bin(exp))[::-1][:-2]:\n",
    "        expPart = expPart + int(bit)*pow(2,c)\n",
    "        c = c+1\n",
    "    expPart = pow(2, expPart - 127)\n",
    "    # or just re-use the previous function \n",
    "    # expPart = pow(2, binToDec(exp)-127)\n",
    "    return pow(-1, sign)*expPart*mantPart\n",
    "    \n",
    "print(toFloat(0b00010010110111010100001101010101), \" should be 1.396365943153319011187892E-27\")"
   ]
  },
  {
   "cell_type": "markdown",
   "metadata": {},
   "source": [
    "3\\. Write a program to determine the underflow and overflow limits (within a factor of 2) for python on your computer. \n",
    "\n",
    "**Tips**: define two variables inizialized to 1 and halve/double them enough time to exceed the under/over-flow limits  "
   ]
  },
  {
   "cell_type": "code",
   "execution_count": 125,
   "metadata": {},
   "outputs": [
    {
     "name": "stdout",
     "output_type": "stream",
     "text": [
      "Smallest float/underflow: 5e-324\n",
      "24\n",
      "Largest float/underflow: 89884656743115795386465259539451236680898848947115328636715040578866337902750481566354238661203768010560056939935696678829394884407208311246423715319737062188883946712432742638151109800623047059726541476042502884419075341171231440736956555270413618581675255342293149119973622969239858152417678164812112068608\n"
     ]
    }
   ],
   "source": [
    "# Defining the overflow and underflow of floats\n",
    "import math\n",
    "import sys\n",
    "a, b = 1.,1.\n",
    "\n",
    "counter = 0\n",
    "while (a != 0):\n",
    "    a = a/2\n",
    "    counter = counter + 1\n",
    "    \n",
    "print(\"Smallest float/underflow:\", pow(2,-counter+1))\n",
    "print(sys.getsizeof(pow(2,-counter+1)))\n",
    "\n",
    "counter = 0\n",
    "while (b != math.inf):\n",
    "    b = b*2\n",
    "    counter = counter + 1\n",
    "    \n",
    "print(\"Largest float/underflow:\", pow(2,counter-1))\n"
   ]
  },
  {
   "cell_type": "markdown",
   "metadata": {},
   "source": [
    "4\\. Write a program to determine the machine precision\n",
    "\n",
    "**Tips**: define a new variable by adding a smaller and smaller value (proceeding similarly to prob. 2) to an original variable and check the point where the two are the same "
   ]
  },
  {
   "cell_type": "code",
   "execution_count": 135,
   "metadata": {},
   "outputs": [
    {
     "name": "stdout",
     "output_type": "stream",
     "text": [
      "1.7763568394002506e-16\n"
     ]
    }
   ],
   "source": [
    "b = 2\n",
    "epsilon = 0.1\n",
    "while (b != b+epsilon):\n",
    "    epsilon = epsilon/2\n",
    "print(epsilon)"
   ]
  },
  {
   "cell_type": "markdown",
   "metadata": {},
   "source": [
    "5\\. Write a function that takes in input three parameters $a$, $b$ and $c$ and prints out the two solutions to the quadratic equation $ax^2+bx+c=0$ using the standard formula:\n",
    "$$\n",
    "x=\\frac{-b\\pm\\sqrt{b^2-4ac}}{2a}\n",
    "$$\n",
    "\n",
    "(a) use the program to compute the solution for $a=0.001$, $b=1000$ and $c=0.001$\n",
    "\n",
    "(b) re-express the standard solution formula by multiplying top and bottom by $-b\\mp\\sqrt{b^2-4ac}$ and again find the solution for $a=0.001$, $b=1000$ and $c=0.001$. How does it compare with what previously obtained? Why?\n",
    "\n",
    "(c) write a function that compute the roots of a quadratic equation accurately in all cases"
   ]
  },
  {
   "cell_type": "code",
   "execution_count": 7,
   "metadata": {},
   "outputs": [
    {
     "name": "stdout",
     "output_type": "stream",
     "text": [
      "[-9.999894245993346e-07, -999999.999999]\n",
      "[-1.000000000001e-06, -1000010.5755125057]\n",
      "[-1.000000000001e-06, -999999.999999]\n"
     ]
    }
   ],
   "source": [
    "import math\n",
    "\n",
    "# In this case, I'm subtracting two very large numbers at the numerator for s1, the first solution. This will cause some numerical\n",
    "# problem\n",
    "def solve(a,b,c):\n",
    "    s1 = (-b + math.sqrt(b*b-4*a*c)) / (2*a)\n",
    "    s2 = -(b + math.sqrt(b*b-4*a*c)) / (2*a)\n",
    "    return [s1,s2]\n",
    "\n",
    "# By multiplying by that factor, now s1 is no more a problem. Instead, a subtraction of very large numbers occurs in s2\n",
    "def solve2(a,b,c):\n",
    "    s1 = -(2*c)/(b + math.sqrt(b*b-4*a*c))\n",
    "    s2 = (2*c)/(-b + math.sqrt(b*b-4*a*c))\n",
    "    return [s1,s2]\n",
    "\n",
    "# Combining the two methods, I get a full stable algorithm\n",
    "def stable_solve(a,b,c):\n",
    "    s1 = -(2*c)/(b + math.sqrt(b*b-4*a*c))\n",
    "    s2 = -(b + math.sqrt(b*b-4*a*c)) / (2*a)\n",
    "    return [s1,s2]\n",
    "\n",
    "print(solve(0.001, 1000, 0.001))\n",
    "print(solve2(0.001, 1000, 0.001))\n",
    "print(stable_solve(0.001,1000,0.001))"
   ]
  },
  {
   "cell_type": "markdown",
   "metadata": {},
   "source": [
    "6\\. Write a program that implements the function $f(x)=x(x−1)$\n",
    "\n",
    "(a) Calculate the derivative of the function at the point $x = 1$ using the derivative definition:\n",
    "\n",
    "$$\n",
    "\\frac{{\\rm d}f}{{\\rm d}x} = \\lim_{\\delta\\to0} \\frac{f(x+\\delta)-f(x)}{\\delta}\n",
    "$$\n",
    "\n",
    "with $\\delta = 10^{−2}$. Calculate the true value of the same derivative analytically and compare with the answer your program gives. The two will not agree perfectly. Why not?\n",
    "\n",
    "(b) Repeat the calculation for $\\delta = 10^{−4}, 10^{−6}, 10^{−8}, 10^{−10}, 10^{−12}$ and $10^{−14}$. How does the accuracy scales with $\\delta$?\n",
    "\n",
    "\n",
    "Formally, catastrophic cancellation happens because subtraction is ill-conditioned with nearby inputs"
   ]
  },
  {
   "cell_type": "code",
   "execution_count": 34,
   "metadata": {},
   "outputs": [
    {
     "data": {
      "image/png": "[encoded data removed]",
      "text/plain": [
       "<Figure size 640x480 with 1 Axes>"
      ]
     },
     "metadata": {},
     "output_type": "display_data"
    }
   ],
   "source": [
    "import matplotlib.pyplot as plt\n",
    "\n",
    "def f(x):\n",
    "    return x*(x-1)\n",
    "\n",
    "def df_exact(x):\n",
    "    return 2*x*x-1\n",
    "\n",
    "def df(x):\n",
    "    return (f(x+delta)-f(x)) / delta\n",
    "\n",
    "derivatives = []\n",
    "for i in range(2, 15):\n",
    "    delta = pow(10,-i)\n",
    "    derivatives.append(df(1))\n",
    "\n",
    "plt.plot(range(2,15), derivatives, \"or\")\n",
    "plt.show()\n",
    "\n",
    "# When delta is really small, then I'll be subtracting two quantities that are really close to each other\n",
    "# That may be a source of numerical instability"
   ]
  },
  {
   "cell_type": "markdown",
   "metadata": {},
   "source": [
    "7\\. Consider the integral of the semicircle of radius 1:\n",
    "$$\n",
    "I=\\int_{-1}^{1} \\sqrt(1-x^2) {\\rm d}x\n",
    "$$\n",
    "which it's known to be $I=\\frac{\\pi}{2}=1.57079632679...$.\n",
    "Alternatively we can use the Riemann definition of the integral:\n",
    "$$\n",
    "I=\\lim_{N\\to\\infty} \\sum_{k=1}^{N} h y_k \n",
    "$$\n",
    "\n",
    "with $h=2/N$ the width of each of the $N$ slices the domain is divided into and where\n",
    "$y_k$ is the value of the function at the $k-$th slice.\n",
    "\n",
    "(a) Write a programe to compute the integral with $N=100$. How does the result compares to the true value?\n",
    "\n",
    "(b) How much can $N$ be increased if the computation needs to be run in less than a second? What is the gain in running it for 1 minute? \n"
   ]
  },
  {
   "cell_type": "code",
   "execution_count": 63,
   "metadata": {},
   "outputs": [
    {
     "name": "stdout",
     "output_type": "stream",
     "text": [
      "1.570796326793284 ,  1.0265416931905805e-12 %\n",
      "When N = 100, the result is correct up to the third decimal digit\n"
     ]
    }
   ],
   "source": [
    "import math\n",
    "N = 100000000\n",
    "\n",
    "def f(x):\n",
    "    return math.sqrt(1-x*x)\n",
    "\n",
    "\n",
    "def integrate(N):\n",
    "    I = 0\n",
    "    for i in range(0,N):\n",
    "        I += f(-1 + 2*i/N)* 2 / N\n",
    "    return I\n",
    "\n",
    "true_value = math.pi/2\n",
    "print(integrate(N), \", \",(true_value-integrate(N))/true_value, \"%\")\n",
    "print(\"When N = 100, the result is correct up to the third decimal digit\")"
   ]
  },
  {
   "cell_type": "code",
   "execution_count": 71,
   "metadata": {},
   "outputs": [
    {
     "data": {
      "image/png": "[encoded data removed]",
      "text/plain": [
       "<Figure size 640x480 with 1 Axes>"
      ]
     },
     "metadata": {},
     "output_type": "display_data"
    }
   ],
   "source": [
    "accuracies = []\n",
    "for N in range(3,9):\n",
    "    accuracies.append((true_value-integrate(pow(10,N)))/true_value)\n",
    "\n",
    "plt.plot(range(3,9), accuracies, \"ob\")\n",
    "plt.show()"
   ]
  }
 ],
 "metadata": {
  "kernelspec": {
   "display_name": "Python 3 (ipykernel)",
   "language": "python",
   "name": "python3"
  },
  "language_info": {
   "codemirror_mode": {
    "name": "ipython",
    "version": 3
   },
   "file_extension": ".py",
   "mimetype": "text/x-python",
   "name": "python",
   "nbconvert_exporter": "python",
   "pygments_lexer": "ipython3",
   "version": "3.9.20"
  }
 },
 "nbformat": 4,
 "nbformat_minor": 4
}
