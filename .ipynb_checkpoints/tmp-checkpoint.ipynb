{
 "cells": [
  {
   "cell_type": "code",
   "execution_count": null,
   "id": "a5030ef7-a500-466e-adae-152513e9751e",
   "metadata": {},
   "outputs": [],
   "source": [
    "import numpy as np\n",
    "import matplotlib.pyplot as plt\n",
    "from math import sqrt\n",
    "\n",
    "N = 5\n",
    "T = 10\n",
    "dt = 0.01\n",
    "times = np.arange(0, T, dt)\n",
    "\n",
    "x = np.zeros( (int(T/dt),N) )\n",
    "\n",
    "\n",
    "def a(x,t):\n",
    "    return 0\n",
    "\n",
    "def sigma(x,t):\n",
    "    return 10\n",
    "\n",
    "\n",
    "def run_stochastic():\n",
    "    for i, t in enumerate(times):\n",
    "        z = np.random.normal(0,1, (N,))\n",
    "        dB = sqrt(dt) * z\n",
    "        x[i] = x[i-1] + a(x[i-1], t) * dt * np.ones((N,)) + sigma(x[i-1],t) * dB * np.ones((N,))\n",
    "    return x\n",
    "\n",
    "plt.plot(times, run_stochastic())\n",
    "plt.show()\n",
    "\n",
    "\n",
    "data =[]\n",
    "xt = run_stochastic()\n",
    "for i in range(10):\n",
    "    xt = run_stochastic()\n",
    "    for elem in xt[3:,]:\n",
    "        print(elem)\n",
    "        data.append(elem)\n",
    "plt.hist(data, bins=np.arange(-30, 30, 10), edgecolor = \"black\")"
   ]
  },
  {
   "cell_type": "code",
   "execution_count": null,
   "id": "023514ef-5fb2-4d17-af38-c1b036bb74eb",
   "metadata": {},
   "outputs": [],
   "source": []
  }
 ],
 "metadata": {
  "kernelspec": {
   "display_name": "Python 3 (ipykernel)",
   "language": "python",
   "name": "python3"
  },
  "language_info": {
   "codemirror_mode": {
    "name": "ipython",
    "version": 3
   },
   "file_extension": ".py",
   "mimetype": "text/x-python",
   "name": "python",
   "nbconvert_exporter": "python",
   "pygments_lexer": "ipython3",
   "version": "3.9.20"
  }
 },
 "nbformat": 4,
 "nbformat_minor": 5
}
