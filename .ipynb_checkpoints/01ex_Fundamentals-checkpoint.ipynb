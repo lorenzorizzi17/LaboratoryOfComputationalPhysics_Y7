{
 "cells": [
  {
   "cell_type": "markdown",
   "metadata": {},
   "source": [
    "0\\. Implement a function (whatever you want) and save it to a file (e.g. `function.py`). Import that file and use that function in this notebook.\n"
   ]
  },
  {
   "cell_type": "code",
   "execution_count": 10,
   "metadata": {},
   "outputs": [
    {
     "name": "stdout",
     "output_type": "stream",
     "text": [
      "00ex_introduction.ipynb  01_Fundamentals.ipynb\tREADME_GitInstructions.md\n",
      "00_introduction.ipynb\t function.py\t\tREADME.md\n",
      "01ex_Fundamentals.ipynb  __pycache__\n",
      "Calling function in function.py: sum is 18\n",
      "Calling function in function.py: mod is 3\n"
     ]
    }
   ],
   "source": [
    "# This is to check whether the module is is in the right directory (the working dir)\n",
    "! ls\n",
    "import function\n",
    "a = 13\n",
    "b = 5\n",
    "\n",
    "# remember to invoke the namespace of the module!\n",
    "print(\"Calling function in function.py: sum is\", function.sum(a,b))\n",
    "print(\"Calling function in function.py: mod is\", function.mod(a,b))"
   ]
  },
  {
   "cell_type": "markdown",
   "metadata": {},
   "source": [
    "1\\. Write the following as a list comprehension"
   ]
  },
  {
   "cell_type": "code",
   "execution_count": 31,
   "metadata": {},
   "outputs": [
    {
     "name": "stdout",
     "output_type": "stream",
     "text": [
      "Without list comprehension:  [(0, 0), (0, 1), (0, 2), (0, 3), (1, 0), (1, 1), (1, 2), (1, 3), (2, 0), (2, 1), (2, 2), (2, 3)]\n",
      "With list comprehension:  [(0, 0), (0, 1), (0, 2), (0, 3), (1, 0), (1, 1), (1, 2), (1, 3), (2, 0), (2, 1), (2, 2), (2, 3)]\n",
      "Without list comprehension:  [0, 4, 16]\n",
      "With list comprehension:  [0, 4, 16]\n"
     ]
    }
   ],
   "source": [
    "# 1\n",
    "ans = []\n",
    "for i in range(3):\n",
    "    for j in range(4):\n",
    "        ans.append((i, j))\n",
    "print (\"Without list comprehension: \",ans)\n",
    "\n",
    "ans1 = [(x,y) for x in range(3) for y in range(4)]\n",
    "print(\"With list comprehension: \", ans1)\n",
    "# 2\n",
    "ans = map(lambda x: x*x, filter(lambda x: x%2 == 0, range(5)))\n",
    "print (\"Without list comprehension: \",list(ans))\n",
    "ans2 = [x*x for x in range(5) if x%2 == 0]\n",
    "print(\"With list comprehension: \", list(ans2))\n"
   ]
  },
  {
   "cell_type": "markdown",
   "metadata": {},
   "source": [
    "2\\. Convert the following function into a pure function with no global variables or side effects"
   ]
  },
  {
   "cell_type": "code",
   "execution_count": 32,
   "metadata": {},
   "outputs": [
    {
     "name": "stdout",
     "output_type": "stream",
     "text": [
      "Processed list is:  [1, 2, 3, 0, 1, 2, 3, 4]\n",
      "Original list is:  [1, 2, 3]\n"
     ]
    }
   ],
   "source": [
    "import copy\n",
    "\n",
    "def f(alist, rng):\n",
    "    l = copy.copy(alist)   #l is a copy (shallow) of the argument variable. Every change on l won't affect alist\n",
    "    for i in range(rng):\n",
    "         l.append(i)\n",
    "    return l\n",
    "\n",
    "alist = [1,2,3]\n",
    "ans = f(alist,5)\n",
    "print (\"Processed list is: \", ans)\n",
    "print (\"Original list is: \", alist) # alist has been changed!"
   ]
  },
  {
   "cell_type": "markdown",
   "metadata": {},
   "source": [
    "3\\. Write a `decorator` hello that makes every wrapped function print “Hello!”, i.e. something like:\n",
    "\n",
    "```python\n",
    "@hello\n",
    "def square(x):\n",
    "    return x*x\n",
    "```\n",
    "\n"
   ]
  },
  {
   "cell_type": "code",
   "execution_count": 54,
   "metadata": {},
   "outputs": [
    {
     "name": "stdout",
     "output_type": "stream",
     "text": [
      "Hello!\n",
      "16\n",
      "Hello!\n",
      "25\n"
     ]
    }
   ],
   "source": [
    "def hello_decorator(func):\n",
    "    def wrapper(x):\n",
    "        print(\"Hello!\")\n",
    "        func(x)\n",
    "        return func(x)\n",
    "        \n",
    "    return wrapper\n",
    "    \n",
    "@hello_decorator\n",
    "def square(x):\n",
    "    return x*x\n",
    "\n",
    "\n",
    "a = (square(4))\n",
    "print(a)\n",
    "print(square(5))"
   ]
  },
  {
   "cell_type": "markdown",
   "metadata": {},
   "source": [
    "4\\. Write the factorial function so that it a) does and b) does not use recursion."
   ]
  },
  {
   "cell_type": "code",
   "execution_count": 63,
   "metadata": {},
   "outputs": [
    {
     "name": "stdout",
     "output_type": "stream",
     "text": [
      "24\n",
      "120\n",
      "24\n",
      "120\n",
      "1.23 μs ± 159 ns per loop (mean ± std. dev. of 7 runs, 1,000,000 loops each)\n",
      "719 ns ± 0.75 ns per loop (mean ± std. dev. of 7 runs, 1,000,000 loops each)\n"
     ]
    }
   ],
   "source": [
    "# without recursion\n",
    "def factorial(x):\n",
    "    c = 1\n",
    "    while (x != 0):\n",
    "        c = c*x\n",
    "        x = x-1\n",
    "    return c\n",
    "\n",
    "#with recursion\n",
    "def factorial2(x):\n",
    "    if (x == 0):\n",
    "        return 1;\n",
    "    else:\n",
    "        return x*factorial2(x-1);\n",
    "    \n",
    "\n",
    "print(factorial(4))\n",
    "print(factorial(5))\n",
    "print(factorial2(4))\n",
    "print(factorial2(5))\n",
    "\n",
    "%timeit factorial(20)\n",
    "%timeit factorial2(20)"
   ]
  },
  {
   "cell_type": "markdown",
   "metadata": {},
   "source": [
    "5\\. Use HOFs (zip in particular) to compute the weight of a circle, a disk and a sphere, assuming different radii and different densities:\n",
    "\n",
    "```python\n",
    "densities = {\"Al\":[0.5,1,2],\"Fe\":[3,4,5],\"Pb\": [15,20,30]}\n",
    "radii = [1,2,3]\n",
    "```\n",
    "\n",
    "where the entries of the dictionary's values are the linear, superficial and volumetric densities of the materials respectively.\n",
    "\n",
    "In particular define a list of three lambda functions using a comprehension that computes the circumference, the area and the volume for a given radius.\n"
   ]
  },
  {
   "cell_type": "code",
   "execution_count": 68,
   "metadata": {},
   "outputs": [
    {
     "name": "stdout",
     "output_type": "stream",
     "text": [
      "Al\n",
      "Fe\n",
      "Pb\n"
     ]
    }
   ],
   "source": [
    "from math import pi\n",
    "geometric_prop = [lambda r: 2*pi*r, lambda r: pi*r*r, lambda r: (4/3)*pi*r*r*r]\n",
    "densities = {\"Al\":[0.5,1,2],\"Fe\":[3,4,5],\"Pb\": [15,20,30]}\n",
    "radii = [1,2,3]\n",
    "\n",
    "\n",
    "for d,r,g in zip(densities, radii, geometric_prop):\n",
    "    print(d)"
   ]
  },
  {
   "cell_type": "markdown",
   "metadata": {},
   "source": [
    "6\\. Edit the class defintion to add an instance attribute of is_hungry = True to the Dog class. Then add a method called eat() which changes the value of is_hungry to False when called. Figure out the best way to feed each dog and then output “My dogs are hungry.” if all are hungry or “My dogs are not hungry.” if all are not hungry. The final output should look like this:\n",
    "\n",
    "`I have 3 dogs. \n",
    "Tom is 6. \n",
    "Fletcher is 7. \n",
    "Larry is 9. \n",
    "And they're all mammals, of course. \n",
    "My dogs are not hungry.\n",
    "`\n",
    "\n",
    "```python\n",
    "# Parent class\n",
    "class Dog:\n",
    "\n",
    "    # Class attribute\n",
    "    species = 'mammal'\n",
    "\n",
    "    # Initializer / Instance attributes\n",
    "    def __init__(self, name, age):\n",
    "        self.name = name\n",
    "        self.age = age\n",
    "\n",
    "    # instance method\n",
    "    def description(self):\n",
    "        return \"{} is {} years old\".format(self.name, self.age)\n",
    "\n",
    "    # instance method\n",
    "    def speak(self, sound):\n",
    "        return \"{} says {}\".format(self.name, sound)\n",
    "\n",
    "# Child class (inherits from Dog class)\n",
    "class RussellTerrier(Dog):\n",
    "    def run(self, speed):\n",
    "        return \"{} runs {}\".format(self.name, speed)\n",
    "\n",
    "# Child class (inherits from Dog class)\n",
    "class Bulldog(Dog):\n",
    "    def run(self, speed):\n",
    "        return \"{} runs {}\".format(self.name, speed)\n",
    "```"
   ]
  },
  {
   "cell_type": "code",
   "execution_count": 84,
   "metadata": {},
   "outputs": [
    {
     "name": "stdout",
     "output_type": "stream",
     "text": [
      "I have  3  dogs. Tom  is  6. Fletcher  is  7. Larry  is  9. And they're all mammals, of course. My dogs are not hungry.\n"
     ]
    }
   ],
   "source": [
    "class Dog:\n",
    "\n",
    "    # Class attribute\n",
    "    species = 'mammal'\n",
    "    is_hungry = True #default set to true\n",
    "\n",
    "    # Initializer / Instance attributes\n",
    "    def __init__(self, name, age):\n",
    "        self.name = name\n",
    "        self.age = age\n",
    "\n",
    "    # instance method\n",
    "    def description(self):\n",
    "        return \"{} is {} years old\".format(self.name, self.age)\n",
    "\n",
    "    # instance method\n",
    "    def speak(self, sound):\n",
    "        return \"{} says {}\".format(self.name, sound)\n",
    "\n",
    "    def eat(self):\n",
    "        self.is_hungry = False\n",
    "\n",
    "# Child class (inherits from Dog class)\n",
    "class RussellTerrier(Dog):\n",
    "    def run(self, speed):\n",
    "        return \"{} runs {}\".format(self.name, speed)\n",
    "\n",
    "# Child class (inherits from Dog class)\n",
    "class Bulldog(Dog):\n",
    "    def run(self, speed):\n",
    "        return \"{} runs {}\".format(self.name, speed)\n",
    "        \n",
    "#define my dogs and put them into a list\n",
    "tom = Dog(\"Tom\", 6)\n",
    "fletcher = Dog(\"Fletcher\", 7)\n",
    "larry = Dog(\"Larry\", 9)\n",
    "myDogs = [tom, fletcher, larry]\n",
    "for d in myDogs:\n",
    "    d.eat\n",
    "print(\"I have \" , len(myDogs),\" dogs.\", end = \" \")\n",
    "for d in myDogs:\n",
    "    print(d.name, \" is \", d.age, end = \". \")\n",
    "print(\"And they're all mammals, of course\", end = \". \")\n",
    "are_hungry = True\n",
    "for d in myDogs:\n",
    "    are_hungry = are_hungry and d.is_hungry\n",
    "if (are_hungry):\n",
    "    print(\"My dogs are not hungry.\")\n",
    "else:\n",
    "    print(\"My dogs are not hungry.\")\n"
   ]
  }
 ],
 "metadata": {
  "kernelspec": {
   "display_name": "Python 3 (ipykernel)",
   "language": "python",
   "name": "python3"
  },
  "language_info": {
   "codemirror_mode": {
    "name": "ipython",
    "version": 3
   },
   "file_extension": ".py",
   "mimetype": "text/x-python",
   "name": "python",
   "nbconvert_exporter": "python",
   "pygments_lexer": "ipython3",
   "version": "3.12.4"
  }
 },
 "nbformat": 4,
 "nbformat_minor": 4
}
