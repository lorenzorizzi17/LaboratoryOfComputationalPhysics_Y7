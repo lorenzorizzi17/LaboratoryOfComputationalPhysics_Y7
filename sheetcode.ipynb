{
 "cells": [
  {
   "cell_type": "code",
   "execution_count": 1,
   "id": "73bea42c-d145-4bab-b321-2e6b9aef99b6",
   "metadata": {},
   "outputs": [],
   "source": [
    "import numpy as np"
   ]
  },
  {
   "cell_type": "code",
   "execution_count": null,
   "id": "e12f4c03-466c-4640-b03c-07b2d14faed9",
   "metadata": {},
   "outputs": [],
   "source": []
  },
  {
   "cell_type": "code",
   "execution_count": null,
   "id": "9d89c55c-b8eb-45a9-b792-3f49765d5422",
   "metadata": {},
   "outputs": [],
   "source": []
  },
  {
   "cell_type": "code",
   "execution_count": null,
   "id": "f3b8d305-d1f0-45f3-a7ad-22724882e20e",
   "metadata": {},
   "outputs": [],
   "source": []
  },
  {
   "cell_type": "code",
   "execution_count": 23,
   "id": "f2a331bf-c403-458e-b2b9-9fa36954687e",
   "metadata": {},
   "outputs": [
    {
     "name": "stderr",
     "output_type": "stream",
     "text": [
      "IOPub data rate exceeded.\n",
      "The Jupyter server will temporarily stop sending output\n",
      "to the client in order to avoid crashing it.\n",
      "To change this limit, set the config variable\n",
      "`--ServerApp.iopub_data_rate_limit`.\n",
      "\n",
      "Current values:\n",
      "ServerApp.iopub_data_rate_limit=1000000.0 (bytes/sec)\n",
      "ServerApp.rate_limit_window=3.0 (secs)\n",
      "\n"
     ]
    }
   ],
   "source": [
    "# OSEMN chapter\n",
    "import csv\n",
    "\n",
    "# using numpy to retrieve a np.array\n",
    "data = np.loadtxt('populations.txt')\n",
    "\n",
    "# reading a text file\n",
    "file_name = \"/home/lrizzi17/LaboratoryOfComputationalPhysicsA/data/magic04.data\"\n",
    "\n",
    "with open(file_name, mode = 'r') as f:\n",
    "    # print the entire line\n",
    "    for line in f:\n",
    "        print(line)\n",
    "        \n",
    "with open(file_name, mode = 'r') as f:\n",
    "    # an alternative if it is a csv file with a delimiter\n",
    "    # csv.reader takes as input f, which is basically a collection of array of strings\n",
    "    for line in csv.reader(row for row in f if not row.startswith('#')): \n",
    "        print(line)\n",
    "    \n"
   ]
  },
  {
   "cell_type": "code",
   "execution_count": 31,
   "id": "a5be6811-73b2-4c2f-a3c2-ab047a79217b",
   "metadata": {},
   "outputs": [
    {
     "data": {
      "text/plain": [
       "2024-12-24 12:49:00   -2.268453\n",
       "2024-12-25 12:49:00   -0.535909\n",
       "2024-12-26 12:49:00    1.305498\n",
       "2024-12-27 12:49:00    0.507878\n",
       "2024-12-28 12:49:00    1.107124\n",
       "2024-12-29 12:49:00   -0.532928\n",
       "Freq: D, dtype: float64"
      ]
     },
     "execution_count": 31,
     "metadata": {},
     "output_type": "execute_result"
    }
   ],
   "source": [
    "# PANDAS chapter\n",
    "import numpy as np\n",
    "import pandas as pd\n",
    "\n",
    "# a pandas series is basically a 1d np.array with an index (a tuple!). A glorified dictionary\n",
    "# Syntax: xs = pd.Series( 1darray , index = tuple() )\n",
    "d = {'b' : 1, 'a' : 'cat', 'c' : [2,3]}\n",
    "xs = pd.Series(np.arange(10)*0.5, index=np.arange(10))\n",
    "# or xs = pd.Series(d)\n",
    "# access only the indexes/values   \n",
    "(type(xs.values))   # this is a np.array\n",
    "(type(xs.index))    # this is not a np.array, for some reasons\n",
    "# access a certain value given an index (similar to dictionary)\n",
    "xs[ 2 ] \n",
    "xs[ [2,3] ]  #using a list, basically. Returns a portion of the series!!!!!\n",
    "# same operations as np.1darray. They'll return a series as well\n",
    "xs[1:3]\n",
    "xs[::-1]\n",
    "xs = xs[xs.index%2 == 0]\n",
    "\n",
    "\n",
    "# operations on timeSeries align data:\n",
    "s = pd.Series(np.random.randn(5), index=np.arange(5))\n",
    "s = s[1:] + s[:-1]  #if missing data, then panda will simpy output NaN. Panda automatically align data\n",
    "s            # the first and last output will be put as NaN\n",
    "\n",
    "\n",
    "# more often than not, pd.Series are used when index is a time index. Two tools that must be combined\n",
    "import datetime as dt\n",
    "type(dt.date.today())    #print the date. This is a datetime.date Object!\n",
    "date = dt.datetime(2024,12,23,12,49)\n",
    "# But the most useful, a range of timestamps\n",
    "days = pd.date_range(date, periods=7, freq='D')\n",
    "seconds = pd.date_range(date, periods=3600, freq='s')   #this will output a DatetimeIndex that can be used in a pd.Series\n",
    "tseries = pd.Series(np.random.normal(10, 1, len(seconds)), index=seconds)\n",
    "tseries\n",
    "\n",
    "\n",
    "# DATAFRAME\n",
    "# a multi-dimensional pd.Series, basically.\n",
    "# a similar syntax: a np.array as values, a np.array/list/datetimeIndex as index and labels\n",
    "df = pd.DataFrame(np.random.normal(0,2,(7,4)), index = days, columns = [\"A\", \"B\", \"C\", \"D\"])\n",
    "# or using a dict, but whatever\n",
    "\n",
    "# visualization/accessing\n",
    "df.tail(3)\n",
    "df.head(3)\n",
    "df.index   # return the index (can be a DatetimeIndex, IndexObject)\n",
    "df.values  # returns the matrix (numpy array)\n",
    "#indexing/slicing\n",
    "df[\"A\"] #return the corresponsing pd.Series. Using, thus, a label (NOT AN INDEX)!\n",
    "df[0:3] #slice through the rows \n",
    "df[::-1]\n",
    "\n",
    "#loc uses indexing through the indexes (and eventually labels)\n",
    "# df.loc[ index , label ]\n",
    "df.loc[days[0]]   # this outputs a row, whereas df[label] outputs a columns. Output: a pd.Series(values at days[0], index = labels)\n",
    "df[0:1]           # this is analogous, but outputs still a DataFrame\n",
    "df.loc[:,['A','B']]  #all of the rows, but just the two columns\n",
    "df.loc[days[1], \"A\"] # a single value specified by index and label\n",
    "\n",
    "#iloc uses position, instead (of the index! and of the label)\n",
    "# df.iloc[ n.index, n.label ]\n",
    "df.iloc[0]  #equivalent to df.loc[df.index[0]]\n",
    "df.iloc[3:5, 1]  #equivalent to df.loc[ df.index[3:5], df.label[1] ]\n",
    "df.iloc[:,3] = 1 #setting using i loc\n",
    "\n",
    "#masking\n",
    "df[df[\"B\"] > 0] #select only the rows for which the values of B is greater than 0. MASKING ON COLUMN\n",
    "df[df > 0]     # masking on everything, putting NaN where necessary\n",
    "\n",
    "# adding new columns/label and applying a function\n",
    "df[\"E\"] = pd.Series(np.arange(0,7), index = df.index)\n",
    "df[\"E\"] = df[\"E\"].apply(np.cos)\n",
    "\n",
    "#dropping a column or a row via its label. Different behaviour because python sucks\n",
    "df = df.drop(columns = \"E\")\n",
    "df = df.drop(df.index[0])\n",
    "\n",
    "# OPERATIONS.\n",
    "\n",
    "#mean, as with numpy\n",
    "df.mean(axis = 1)  #axis 0 is on the columns/labels, axis 1 is on the rows/indexes"
   ]
  },
  {
   "cell_type": "code",
   "execution_count": null,
   "id": "56917936-b2a5-4e6d-b837-a2da8a07b17d",
   "metadata": {},
   "outputs": [],
   "source": []
  }
 ],
 "metadata": {
  "kernelspec": {
   "display_name": "Python 3 (ipykernel)",
   "language": "python",
   "name": "python3"
  },
  "language_info": {
   "codemirror_mode": {
    "name": "ipython",
    "version": 3
   },
   "file_extension": ".py",
   "mimetype": "text/x-python",
   "name": "python",
   "nbconvert_exporter": "python",
   "pygments_lexer": "ipython3",
   "version": "3.9.20"
  }
 },
 "nbformat": 4,
 "nbformat_minor": 5
}
