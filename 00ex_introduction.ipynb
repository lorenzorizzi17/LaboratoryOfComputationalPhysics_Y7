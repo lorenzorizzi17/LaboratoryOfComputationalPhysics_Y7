{
 "cells": [
  {
   "cell_type": "markdown",
   "metadata": {},
   "source": [
    "1. The MickeyMouse problem\n",
    "\n",
    "a) Write a program that prints the numbers from 1 to 100. But for multiples of 3 print `Mickey` instead of the corresponding number and for the multiples of 5 print `Mouse`. For numbers which are multiples of both three and five print `MickeyMouse`\n",
    "\n",
    "b) Put the result in a tuple and substitute `Mickey` with `Donald` and `Mouse` with `Duck`"
   ]
  },
  {
   "cell_type": "code",
   "execution_count": 6,
   "metadata": {},
   "outputs": [
    {
     "name": "stdout",
     "output_type": "stream",
     "text": [
      "\n",
      " List is:  [1, 2, 'Mickey', 4, 'Mouse', 'Mickey', 7, 8, 'Mickey', 'Mouse', 11, 'Mickey', 13, 14, 'MickeyMouse', 16, 17, 'Mickey', 19, 'Mouse', 'Mickey', 22, 23, 'Mickey', 'Mouse', 26, 'Mickey', 28, 29, 'MickeyMouse', 31, 32, 'Mickey', 34, 'Mouse', 'Mickey', 37, 38, 'Mickey', 'Mouse', 41, 'Mickey', 43, 44, 'MickeyMouse', 46, 47, 'Mickey', 49, 'Mouse', 'Mickey', 52, 53, 'Mickey', 'Mouse', 56, 'Mickey', 58, 59, 'MickeyMouse', 61, 62, 'Mickey', 64, 'Mouse', 'Mickey', 67, 68, 'Mickey', 'Mouse', 71, 'Mickey', 73, 74, 'MickeyMouse', 76, 77, 'Mickey', 79, 'Mouse', 'Mickey', 82, 83, 'Mickey', 'Mouse', 86, 'Mickey', 88, 89, 'MickeyMouse', 91, 92, 'Mickey', 94, 'Mouse', 'Mickey', 97, 98, 'Mickey', 'Mouse']\n",
      "\n",
      "Tuple is: \n",
      "(1, 2, 'Donald', 4, 'Duck', 'Donald', 7, 8, 'Donald', 'Duck', 11, 'Donald', 13, 14, 'DonaldDuck', 16, 17, 'Donald', 19, 'Duck', 'Donald', 22, 23, 'Donald', 'Duck', 26, 'Donald', 28, 29, 'DonaldDuck', 31, 32, 'Donald', 34, 'Duck', 'Donald', 37, 38, 'Donald', 'Duck', 41, 'Donald', 43, 44, 'DonaldDuck', 46, 47, 'Donald', 49, 'Duck', 'Donald', 52, 53, 'Donald', 'Duck', 56, 'Donald', 58, 59, 'DonaldDuck', 61, 62, 'Donald', 64, 'Duck', 'Donald', 67, 68, 'Donald', 'Duck', 71, 'Donald', 73, 74, 'DonaldDuck', 76, 77, 'Donald', 79, 'Duck', 'Donald', 82, 83, 'Donald', 'Duck', 86, 'Donald', 88, 89, 'DonaldDuck', 91, 92, 'Donald', 94, 'Duck', 'Donald', 97, 98, 'Donald', 'Duck')\n"
     ]
    }
   ],
   "source": [
    " # these exercises are the same (mixed) than that of the exam. Do them! \n",
    "l = []\n",
    "for x in range(1,101):\n",
    "    if (x%5==0 and  x%3==0):\n",
    "        l.append(\"MickeyMouse\")\n",
    "    elif ((x%5==0) and not(x%3==0)):\n",
    "        l.append(\"Mouse\")\n",
    "    elif (not(x%5==0) and (x%3==0)) :\n",
    "        l.append(\"Mickey\")\n",
    "    else:\n",
    "        l.append(x)\n",
    "\n",
    "print(\"\\n List is: \", l)\n",
    "#now substitute the values\n",
    "l = [\"Donald\" if x == \"Mickey\" else x for x in l]\n",
    "l = [\"Duck\" if x == \"Mouse\" else x for x in l]\n",
    "l = [\"DonaldDuck\" if x == \"MickeyMouse\" else x for x in l]\n",
    "\n",
    "# l = [\"Donald\" if x == \"Mickey\" else \"Duck\" if x == \"Mouse\" else \"DonaldDuck\" if x == \"MickeyMouse\" else x for x in l]\n",
    "tup = tuple(l)\n",
    "print(\"\\nTuple is: \")\n",
    "print(tup)"
   ]
  },
  {
   "cell_type": "markdown",
   "metadata": {},
   "source": [
    "2\\. The swap function\n",
    "\n",
    "Write a function that swap the values of two input variables x and y (whatever the type). Try to do that also without a temporary variable"
   ]
  },
  {
   "cell_type": "code",
   "execution_count": 8,
   "metadata": {},
   "outputs": [
    {
     "name": "stdout",
     "output_type": "stream",
     "text": [
      "5 4\n",
      "3 Paolo\n"
     ]
    }
   ],
   "source": [
    "#with swap\n",
    "def swap(x,y):\n",
    "    z = y\n",
    "    y = x\n",
    "    x = z\n",
    "    return (x,y)\n",
    "\n",
    "def swap_notmp(x,y):\n",
    "    x,y = y,x\n",
    "    return (x,y)\n",
    "    \n",
    "x,y = 4,5\n",
    "x,y = swap(x,y)\n",
    "print(x,y)\n",
    "\n",
    "s = \"Paolo\"\n",
    "d = 3\n",
    "s,d = swap_notmp(s,d)\n",
    "print(s,d)"
   ]
  },
  {
   "cell_type": "markdown",
   "metadata": {},
   "source": [
    "3\\. Computing the distance\n",
    "\n",
    "Write a function that calculates and returns the euclidean distance between two points *u* and *v*, where *u* and *v* are both 2-tuples *(x,y)*. For example, if *u=(3,0)* and *v=(0,4)*, the function should return 5"
   ]
  },
  {
   "cell_type": "code",
   "execution_count": 18,
   "metadata": {},
   "outputs": [
    {
     "name": "stdout",
     "output_type": "stream",
     "text": [
      "5.0\n"
     ]
    }
   ],
   "source": [
    "import math\n",
    "\n",
    "def dist(x : tuple,  y: tuple) -> float:\n",
    "    if len(x) != len(y):\n",
    "        return \"Error\"\n",
    "    sum2 = 0\n",
    "    for i in range(0,len(x)):\n",
    "        sum2 += (x[i]-y[i])*(x[i]-y[i])\n",
    "    return math.sqrt(sum2)\n",
    "\n",
    "\n",
    "\n",
    "x = (3,0)\n",
    "y = (0,4)\n",
    "print(dist(x,y))"
   ]
  },
  {
   "cell_type": "markdown",
   "metadata": {},
   "source": [
    "4\\. Counting letters\n",
    "\n",
    "Write a program to calculate the number of times each character occurs in a given string *s*. Ignore differneces in capitalization"
   ]
  },
  {
   "cell_type": "code",
   "execution_count": 20,
   "metadata": {},
   "outputs": [
    {
     "name": "stdout",
     "output_type": "stream",
     "text": [
      "8\n"
     ]
    }
   ],
   "source": [
    "s=\"Write a program that prints the numbers from 1 to 100. \\\n",
    "But for multiples of three print Mickey instead of the number and for the multiples of five print Mouse. \\\n",
    "For numbers which are multiples of both three and five print MickeyMouse\"\n",
    "\n",
    "\n",
    "def counter(c):\n",
    "    tot = 0\n",
    "    for char in s:\n",
    "        if char.lower() == c.lower():\n",
    "            tot+=1\n",
    "    return tot\n",
    "\n",
    "print(counter('P'))\n",
    "    "
   ]
  },
  {
   "cell_type": "markdown",
   "metadata": {},
   "source": [
    "5\\. Isolating the unique\n",
    "\n",
    "Write a function that determines and count the unique numbers in the list *l*"
   ]
  },
  {
   "cell_type": "code",
   "execution_count": 22,
   "metadata": {},
   "outputs": [
    {
     "name": "stdout",
     "output_type": "stream",
     "text": [
      "[58, 74, 96, 64, 10, 24, 19, 33, 86, 99, 18, 47, 88, 55, 54, 8, 79, 81, 57, 37, 1, 9, 95, 90, 98, 39, 16, 82, 92, 41, 30, 94, 5, 72, 87, 75, 53]\n"
     ]
    }
   ],
   "source": [
    "l = [36, 45, 58, 3, 74, 96, 64, 45, 31, 10, 24, 19, 33, 86, 99, 18, 63, 70, 85,\n",
    " 85, 63, 47, 56, 42, 70, 84, 88, 55, 20, 54, 8, 56, 51, 79, 81, 57, 37, 91,\n",
    " 1, 84, 84, 36, 66, 9, 89, 50, 42, 91, 50, 95, 90, 98, 39, 16, 82, 31, 92, 41,\n",
    " 45, 30, 66, 70, 34, 85, 94, 5, 3, 36, 72, 91, 84, 34, 87, 75, 53, 51, 20, 89, 51, 20]\n",
    "\n",
    "#a will contain the occurencies. It's a dict\n",
    "a = {}\n",
    "for x in l:\n",
    "    if x in a.keys():\n",
    "        a[x]+=1\n",
    "    else:\n",
    "        a[x]=0\n",
    "\n",
    "\n",
    "unique = [x for x in a.keys() if a[x] == 0 ]\n",
    "print(unique)\n",
    "    "
   ]
  },
  {
   "cell_type": "markdown",
   "metadata": {},
   "source": [
    "6\\. Combination of functions\n",
    "\n",
    "Write two functions - one that returns the square of a number, and one that returns the cube. Now write a third function that returns the number raised to the 6th power using the two previous functions."
   ]
  },
  {
   "cell_type": "code",
   "execution_count": 25,
   "metadata": {},
   "outputs": [
    {
     "name": "stdout",
     "output_type": "stream",
     "text": [
      "64\n"
     ]
    }
   ],
   "source": [
    "def square(x):\n",
    "    return x*x\n",
    "\n",
    "def cube(x):\n",
    "    return x*x*x\n",
    "\n",
    "def power_six(x):\n",
    "    return square(cube(x))\n",
    "\n",
    "print(power_six(2))"
   ]
  },
  {
   "cell_type": "markdown",
   "metadata": {},
   "source": [
    "7\\. Cubes\n",
    "\n",
    "Create a list of the cubes of x for x in *[0, 10]* using:\n",
    "\n",
    "a) a for loop\n",
    "\n",
    "b) a list comprehension"
   ]
  },
  {
   "cell_type": "code",
   "execution_count": 26,
   "metadata": {},
   "outputs": [
    {
     "name": "stdout",
     "output_type": "stream",
     "text": [
      "[0, 1, 8, 27, 64, 125, 216, 343, 512, 729]\n",
      "[0, 1, 8, 27, 64, 125, 216, 343, 512, 729]\n"
     ]
    }
   ],
   "source": [
    "l = []\n",
    "for i in range(0,10):\n",
    "    l.append(cube(i))\n",
    "\n",
    "print(l)\n",
    "\n",
    "\n",
    "l2 = [cube(x) for x in range(0,10)]\n",
    "print(l2)"
   ]
  },
  {
   "cell_type": "markdown",
   "metadata": {},
   "source": [
    "8\\. Nested list comprehension\n",
    "\n",
    "A Pythagorean triple is an integer solution to the Pythagorean theorem $a^2+b^2=c^2$. The first Pythagorean triple is (3,4,5). Find and put in a tuple all unique Pythagorean triples for the positive integers a, b and c less than 100."
   ]
  },
  {
   "cell_type": "code",
   "execution_count": 42,
   "metadata": {},
   "outputs": [
    {
     "name": "stdout",
     "output_type": "stream",
     "text": [
      "16.8 ms ± 430 μs per loop (mean ± std. dev. of 7 runs, 100 loops each)\n",
      "39.3 ms ± 952 μs per loop (mean ± std. dev. of 7 runs, 10 loops each)\n"
     ]
    }
   ],
   "source": [
    "\n",
    "def pyt():\n",
    "    l = []\n",
    "    for a in range(1,100):\n",
    "        for b in range(1,100):\n",
    "            s = a*a + b*b\n",
    "            for c in range(1,min(s,100)):\n",
    "                if s == c*c:\n",
    "                    l.append((a,b,c))\n",
    "    return tuple(l)\n",
    "\n",
    "def pyt_nopt():\n",
    "    l = []\n",
    "    for a in range(1,100):\n",
    "        for b in range(1,100):\n",
    "            for c in range(1,100):\n",
    "                if a*a+b*b == c*c:\n",
    "                    l.append((a,b,c))\n",
    "    return tuple(l)\n",
    "\n",
    "%timeit pyt()\n",
    "%timeit pyt_nopt()"
   ]
  },
  {
   "cell_type": "markdown",
   "metadata": {},
   "source": [
    "9\\. Normalization\n",
    "\n",
    "Write a function that takes a tuple of numbers and returns it with the entries normalized to one"
   ]
  },
  {
   "cell_type": "code",
   "execution_count": 107,
   "metadata": {},
   "outputs": [
    {
     "name": "stdout",
     "output_type": "stream",
     "text": [
      "(1, 2, 3, 4, 6)\n",
      "(0.0625, 0.125, 0.1875, 0.25, 0.375)\n"
     ]
    }
   ],
   "source": [
    "tup = (1,2,3,4,6)\n",
    "\n",
    "def norm(t):\n",
    "    counter = 0\n",
    "    for i in t:\n",
    "        counter = counter+i\n",
    "    l = []\n",
    "    for i in t:\n",
    "        l.append(i/counter)\n",
    "    return tuple(l)\n",
    "\n",
    "print(tup)\n",
    "print(norm(tup))"
   ]
  },
  {
   "cell_type": "code",
   "execution_count": null,
   "metadata": {},
   "outputs": [],
   "source": []
  }
 ],
 "metadata": {
  "kernelspec": {
   "display_name": "Python 3 (ipykernel)",
   "language": "python",
   "name": "python3"
  },
  "language_info": {
   "codemirror_mode": {
    "name": "ipython",
    "version": 3
   },
   "file_extension": ".py",
   "mimetype": "text/x-python",
   "name": "python",
   "nbconvert_exporter": "python",
   "pygments_lexer": "ipython3",
   "version": "3.12.4"
  }
 },
 "nbformat": 4,
 "nbformat_minor": 4
}
