{
 "cells": [
  {
   "cell_type": "markdown",
   "metadata": {},
   "source": [
    "1. The MickeyMouse problem\n",
    "\n",
    "a) Write a program that prints the numbers from 1 to 100. But for multiples of 3 print `Mickey` instead of the corresponding number and for the multiples of 5 print `Mouse`. For numbers which are multiples of both three and five print `MickeyMouse`\n",
    "\n",
    "b) Put the result in a tuple and substitute `Mickey` with `Donald` and `Mouse` with `Duck`"
   ]
  },
  {
   "cell_type": "code",
   "execution_count": 24,
   "metadata": {},
   "outputs": [
    {
     "name": "stdout",
     "output_type": "stream",
     "text": [
      "\n",
      " List is: \n",
      " [1, 2, 'Mickey', 4, 'Mouse', 'Mickey', 7, 8, 'Mickey', 'Mouse', 11, 'Mickey', 13, 14, 'MickeyMouse', 16, 17, 'Mickey', 19, 'Mouse', 'Mickey', 22, 23, 'Mickey', 'Mouse', 26, 'Mickey', 28, 29, 'MickeyMouse', 31, 32, 'Mickey', 34, 'Mouse', 'Mickey', 37, 38, 'Mickey', 'Mouse', 41, 'Mickey', 43, 44, 'MickeyMouse', 46, 47, 'Mickey', 49, 'Mouse', 'Mickey', 52, 53, 'Mickey', 'Mouse', 56, 'Mickey', 58, 59, 'MickeyMouse', 61, 62, 'Mickey', 64, 'Mouse', 'Mickey', 67, 68, 'Mickey', 'Mouse', 71, 'Mickey', 73, 74, 'MickeyMouse', 76, 77, 'Mickey', 79, 'Mouse', 'Mickey', 82, 83, 'Mickey', 'Mouse', 86, 'Mickey', 88, 89, 'MickeyMouse', 91, 92, 'Mickey', 94, 'Mouse', 'Mickey', 97, 98, 'Mickey']\n",
      "\n",
      "Tuple is: \n",
      "(1, 2, 'Donald', 4, 'Duck', 'Donald', 7, 8, 'Donald', 'Duck', 11, 'Donald', 13, 14, 'DonaldDuck', 16, 17, 'Donald', 19, 'Duck', 'Donald', 22, 23, 'Donald', 'Duck', 26, 'Donald', 28, 29, 'DonaldDuck', 31, 32, 'Donald', 34, 'Duck', 'Donald', 37, 38, 'Donald', 'Duck', 41, 'Donald', 43, 44, 'DonaldDuck', 46, 47, 'Donald', 49, 'Duck', 'Donald', 52, 53, 'Donald', 'Duck', 56, 'Donald', 58, 59, 'DonaldDuck', 61, 62, 'Donald', 64, 'Duck', 'Donald', 67, 68, 'Donald', 'Duck', 71, 'Donald', 73, 74, 'DonaldDuck', 76, 77, 'Donald', 79, 'Duck', 'Donald', 82, 83, 'Donald', 'Duck', 86, 'Donald', 88, 89, 'DonaldDuck', 91, 92, 'Donald', 94, 'Duck', 'Donald', 97, 98, 'Donald')\n"
     ]
    }
   ],
   "source": [
    " # these exercises are the same (mixed) than that of the exam. Do them! \n",
    "l = []\n",
    "for x in range(1,100):\n",
    "    if (x%5==0 and  x%3==0):\n",
    "        l.append(\"MickeyMouse\")\n",
    "    elif ((x%5==0) and not(x%3==0)):\n",
    "        l.append(\"Mouse\")\n",
    "    elif (not(x%5==0) and (x%3==0)) :\n",
    "        l.append(\"Mickey\")\n",
    "    else:\n",
    "        l.append(x)\n",
    "\n",
    "print(\"\\n List is: \\n\", l)\n",
    "#now substitute the values\n",
    "l = [\"Donald\" if x == \"Mickey\" else x for x in l]\n",
    "l = [\"Duck\" if x == \"Mouse\" else x for x in l]\n",
    "l = [\"DonaldDuck\" if x == \"MickeyMouse\" else x for x in l]\n",
    "tup = tuple(l)\n",
    "print(\"\\nTuple is: \")\n",
    "print(tup)"
   ]
  },
  {
   "cell_type": "markdown",
   "metadata": {},
   "source": [
    "2\\. The swap function\n",
    "\n",
    "Write a function that swap the values of two input variables x and y (whatever the type). Try to do that also without a temporary variable"
   ]
  },
  {
   "cell_type": "code",
   "execution_count": 40,
   "metadata": {},
   "outputs": [
    {
     "name": "stdout",
     "output_type": "stream",
     "text": [
      "5 4\n",
      "3 Paolo\n"
     ]
    }
   ],
   "source": [
    "#with swap\n",
    "def swap(x,y):\n",
    "    z = y\n",
    "    y = x\n",
    "    x = z\n",
    "    return (x,y)\n",
    "\n",
    "def swap_notmp(x,y):\n",
    "    \n",
    "\n",
    "\n",
    "    return (x,y)\n",
    "    \n",
    "x,y = 4,5\n",
    "x,y = swap(x,y)\n",
    "print(x,y)\n",
    "\n",
    "s = \"Paolo\"\n",
    "d = 3\n",
    "s,d = swap(s,d)\n",
    "print(s,d)"
   ]
  },
  {
   "cell_type": "markdown",
   "metadata": {},
   "source": [
    "3\\. Computing the distance\n",
    "\n",
    "Write a function that calculates and returns the euclidean distance between two points *u* and *v*, where *u* and *v* are both 2-tuples *(x,y)*. For example, if *u=(3,0)* and *v=(0,4)*, the function should return 5"
   ]
  },
  {
   "cell_type": "code",
   "execution_count": 50,
   "metadata": {},
   "outputs": [
    {
     "name": "stdout",
     "output_type": "stream",
     "text": [
      "5.0\n"
     ]
    }
   ],
   "source": [
    "import math\n",
    "\n",
    "def dist(x,y):\n",
    "    if len(x) != len(y):\n",
    "        return \"Error\"\n",
    "    sum2 = 0\n",
    "    for i in range(0,len(x)):\n",
    "        sum2 += (x[i]-y[i])*(x[i]-y[i])\n",
    "    return math.sqrt(sum2)\n",
    "\n",
    "\n",
    "\n",
    "x = (3,0)\n",
    "y = (0,4)\n",
    "print(dist(x,y))"
   ]
  },
  {
   "cell_type": "markdown",
   "metadata": {},
   "source": [
    "4\\. Counting letters\n",
    "\n",
    "Write a program to calculate the number of times each character occurs in a given string *s*. Ignore differneces in capitalization"
   ]
  },
  {
   "cell_type": "code",
   "execution_count": 64,
   "metadata": {},
   "outputs": [
    {
     "name": "stdout",
     "output_type": "stream",
     "text": [
      "8\n"
     ]
    }
   ],
   "source": [
    "s=\"Write a program that prints the numbers from 1 to 100. \\\n",
    "But for multiples of three print Mickey instead of the number and for the multiples of five print Mouse. \\\n",
    "For numbers which are multiples of both three and five print MickeyMouse\"\n",
    "\n",
    "\n",
    "def counter(c):\n",
    "    tot = 0\n",
    "    for char in s:\n",
    "        if char.lower() == c.lower():\n",
    "            tot+=1\n",
    "    return tot\n",
    "\n",
    "print(counter('p'))\n",
    "    "
   ]
  },
  {
   "cell_type": "markdown",
   "metadata": {},
   "source": [
    "5\\. Isolating the unique\n",
    "\n",
    "Write a function that determines and count the unique numbers in the list *l*"
   ]
  },
  {
   "cell_type": "code",
   "execution_count": 87,
   "metadata": {},
   "outputs": [
    {
     "name": "stdout",
     "output_type": "stream",
     "text": [
      "[58, 74, 96, 64, 10, 24, 19, 33, 86, 99, 18, 47, 88, 55, 54, 8, 79, 81, 57, 37, 1, 9, 95, 90, 98, 39, 16, 82, 92, 41, 30, 94, 5, 72, 87, 75, 53]\n"
     ]
    }
   ],
   "source": [
    "l = [36, 45, 58, 3, 74, 96, 64, 45, 31, 10, 24, 19, 33, 86, 99, 18, 63, 70, 85,\n",
    " 85, 63, 47, 56, 42, 70, 84, 88, 55, 20, 54, 8, 56, 51, 79, 81, 57, 37, 91,\n",
    " 1, 84, 84, 36, 66, 9, 89, 50, 42, 91, 50, 95, 90, 98, 39, 16, 82, 31, 92, 41,\n",
    " 45, 30, 66, 70, 34, 85, 94, 5, 3, 36, 72, 91, 84, 34, 87, 75, 53, 51, 20, 89, 51, 20]\n",
    "\n",
    "#a will contain the occurencies\n",
    "a = {}\n",
    "for x in l:\n",
    "    if x in a.keys():\n",
    "        a[x]+=1\n",
    "    else:\n",
    "        a[x] = 0\n",
    "\n",
    "\n",
    "unique = [x for x in a.keys() if a[x] == 0 ]\n",
    "print(unique)\n",
    "    "
   ]
  },
  {
   "cell_type": "markdown",
   "metadata": {},
   "source": [
    "6\\. Combination of functions\n",
    "\n",
    "Write two functions - one that returns the square of a number, and one that returns the cube. Now write a third function that returns the number raised to the 6th power using the two previous functions."
   ]
  },
  {
   "cell_type": "code",
   "execution_count": 88,
   "metadata": {},
   "outputs": [
    {
     "name": "stdout",
     "output_type": "stream",
     "text": [
      "64\n"
     ]
    }
   ],
   "source": [
    "def square(x):\n",
    "    return x*x\n",
    "\n",
    "def cube(x):\n",
    "    return x*x*x\n",
    "\n",
    "def power_six(x):\n",
    "    return square(cube(x))\n",
    "\n",
    "print(power_six(2))"
   ]
  },
  {
   "cell_type": "markdown",
   "metadata": {},
   "source": [
    "7\\. Cubes\n",
    "\n",
    "Create a list of the cubes of x for x in *[0, 10]* using:\n",
    "\n",
    "a) a for loop\n",
    "\n",
    "b) a list comprehension"
   ]
  },
  {
   "cell_type": "code",
   "execution_count": 93,
   "metadata": {},
   "outputs": [
    {
     "name": "stdout",
     "output_type": "stream",
     "text": [
      "[0, 1, 8, 27, 64, 125, 216, 343, 512, 729]\n",
      "[0, 1, 8, 27, 64, 125, 216, 343, 512, 729]\n"
     ]
    }
   ],
   "source": [
    "l = []\n",
    "for i in range(0,10):\n",
    "    l.append(cube(i))\n",
    "\n",
    "print(l)\n",
    "\n",
    "\n",
    "l2 = [cube(x) for x in range(0,10)]\n",
    "print(l2)"
   ]
  },
  {
   "cell_type": "markdown",
   "metadata": {},
   "source": [
    "8\\. Nested list comprehension\n",
    "\n",
    "A Pythagorean triple is an integer solution to the Pythagorean theorem $a^2+b^2=c^2$. The first Pythagorean triple is (3,4,5). Find and put in a tuple all unique Pythagorean triples for the positive integers a, b and c less than 100."
   ]
  },
  {
   "cell_type": "code",
   "execution_count": 97,
   "metadata": {},
   "outputs": [
    {
     "name": "stdout",
     "output_type": "stream",
     "text": [
      "((3, 4, 5), (4, 3, 5), (5, 12, 13), (6, 8, 10), (7, 24, 25), (8, 6, 10), (8, 15, 17), (9, 12, 15), (9, 40, 41), (10, 24, 26), (11, 60, 61), (12, 5, 13), (12, 9, 15), (12, 16, 20), (12, 35, 37), (13, 84, 85), (14, 48, 50), (15, 8, 17), (15, 20, 25), (15, 36, 39), (16, 12, 20), (16, 30, 34), (16, 63, 65), (18, 24, 30), (18, 80, 82), (20, 15, 25), (20, 21, 29), (20, 48, 52), (21, 20, 29), (21, 28, 35), (21, 72, 75), (24, 7, 25), (24, 10, 26), (24, 18, 30), (24, 32, 40), (24, 45, 51), (24, 70, 74), (25, 60, 65), (27, 36, 45), (28, 21, 35), (28, 45, 53), (30, 16, 34), (30, 40, 50), (30, 72, 78), (32, 24, 40), (32, 60, 68), (33, 44, 55), (33, 56, 65), (35, 12, 37), (35, 84, 91), (36, 15, 39), (36, 27, 45), (36, 48, 60), (36, 77, 85), (39, 52, 65), (39, 80, 89), (40, 9, 41), (40, 30, 50), (40, 42, 58), (40, 75, 85), (42, 40, 58), (42, 56, 70), (44, 33, 55), (45, 24, 51), (45, 28, 53), (45, 60, 75), (48, 14, 50), (48, 20, 52), (48, 36, 60), (48, 55, 73), (48, 64, 80), (51, 68, 85), (52, 39, 65), (54, 72, 90), (55, 48, 73), (56, 33, 65), (56, 42, 70), (57, 76, 95), (60, 11, 61), (60, 25, 65), (60, 32, 68), (60, 45, 75), (60, 63, 87), (63, 16, 65), (63, 60, 87), (64, 48, 80), (65, 72, 97), (68, 51, 85), (70, 24, 74), (72, 21, 75), (72, 30, 78), (72, 54, 90), (72, 65, 97), (75, 40, 85), (76, 57, 95), (77, 36, 85), (80, 18, 82), (80, 39, 89), (84, 13, 85), (84, 35, 91))\n"
     ]
    }
   ],
   "source": [
    "l = []\n",
    "for a in range(1,100):\n",
    "    for b in range(1,100):\n",
    "        for c in range(1,100):\n",
    "            if a*a+b*b == c*c:\n",
    "                l.append((a,b,c))\n",
    "l = tuple(l)   \n",
    "print(l)"
   ]
  },
  {
   "cell_type": "markdown",
   "metadata": {},
   "source": [
    "9\\. Normalization\n",
    "\n",
    "Write a function that takes a tuple of numbers and returns it with the entries normalized to one"
   ]
  },
  {
   "cell_type": "code",
   "execution_count": 107,
   "metadata": {},
   "outputs": [
    {
     "name": "stdout",
     "output_type": "stream",
     "text": [
      "(1, 2, 3, 4, 6)\n",
      "(0.0625, 0.125, 0.1875, 0.25, 0.375)\n"
     ]
    }
   ],
   "source": [
    "tup = (1,2,3,4,6)\n",
    "\n",
    "def norm(t):\n",
    "    counter = 0\n",
    "    for i in t:\n",
    "        counter = counter+i\n",
    "    l = []\n",
    "    for i in t:\n",
    "        l.append(i/counter)\n",
    "    return tuple(l)\n",
    "\n",
    "print(tup)\n",
    "print(norm(tup))"
   ]
  },
  {
   "cell_type": "code",
   "execution_count": null,
   "metadata": {},
   "outputs": [],
   "source": []
  }
 ],
 "metadata": {
  "kernelspec": {
   "display_name": "Python 3 (ipykernel)",
   "language": "python",
   "name": "python3"
  },
  "language_info": {
   "codemirror_mode": {
    "name": "ipython",
    "version": 3
   },
   "file_extension": ".py",
   "mimetype": "text/x-python",
   "name": "python",
   "nbconvert_exporter": "python",
   "pygments_lexer": "ipython3",
   "version": "3.9.20"
  }
 },
 "nbformat": 4,
 "nbformat_minor": 4
}
