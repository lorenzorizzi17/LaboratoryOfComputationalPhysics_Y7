{
 "cells": [
  {
   "cell_type": "markdown",
   "metadata": {},
   "source": [
    "1\\. Write a function that converts number representation, bin<->dec<->hex. (Clearly using the corresponding python built-in functions is not fair..)"
   ]
  },
  {
   "cell_type": "code",
   "execution_count": 42,
   "metadata": {},
   "outputs": [],
   "source": [
    "distances = np.array([0, 198, 303, 736, 871, 1175, 1475, 1544, 1913, 2448])\n",
    "\n",
    "matrix = np.fromfunction(lambda i, j : abs(distances[i.astype(int)] - distances[j.astype(int)]), (10,10))"
   ]
  },
  {
   "cell_type": "markdown",
   "metadata": {},
   "source": [
    "2\\. Write a function that converts a 32 bit word into a single precision floating point (i.e. interprets the various bits as sign, mantissa and exponent)"
   ]
  },
  {
   "cell_type": "code",
   "execution_count": 60,
   "metadata": {},
   "outputs": [
    {
     "data": {
      "text/plain": [
       "1.7417465869584703e-07"
      ]
     },
     "execution_count": 60,
     "metadata": {},
     "output_type": "execute_result"
    }
   ],
   "source": [
    "def convertFloat(string : str) -> float:\n",
    "    if len((string)) != 32:\n",
    "        return \"Error\"\n",
    "    sign = string[0]\n",
    "    mantissa = string[9:32]\n",
    "    exponent = toDecimal(string[1:9],2) - 127\n",
    "    decimal_part = 0\n",
    "    for i,char in enumerate(mantissa):\n",
    "        decimal_part += pow(2,-i-1) * int(char)\n",
    "    return pow(1,int(sign)) * pow(2, exponent) * (1+decimal_part)\n",
    "\n",
    "\n",
    "convertFloat(\"00110100001110110000010011000100\")"
   ]
  },
  {
   "cell_type": "code",
   "execution_count": null,
   "metadata": {},
   "outputs": [],
   "source": [
    "import pandas as pd\n",
    "from scipy.optimize import curve_fit\n",
    "from math import pi\n",
    "\n",
    "max_temp = np.array([17,  19,  21,  28,  33,  38, 37,  37,  31,  23,  19,  18])\n",
    "min_temp = np.array([-62, -59, -56, -46, -32, -18, -9, -13, -25, -46, -52, -58])\n",
    "month = np.arange(0,12) + 1\n",
    "fig, ax = plt.subplots(figsize=(10,8))\n",
    "\n",
    "ax.plot(month, max_temp, \"ro\")\n",
    "ax.plot(month, min_temp, \"bo\")\n",
    "\n",
    "def f(x : float, A: float, omega: float, phi : float, B : float):\n",
    "    return A*np.cos(omega*x+phi) + B\n",
    "\n",
    "par_min, cov_min = curve_fit(f, month, min_temp, p0 = [(np.max(min_temp)-np.min(min_temp))/2, 2*pi/12, pi, np.mean(min_temp)])\n",
    "par_max, cov_max = curve_fit(f, month, max_temp, p0 = [(np.max(max_temp)-np.min(max_temp))/2, 2*pi/12, pi, np.mean(max_temp)])\n",
    "\n",
    "support = np.linspace(1,12,100)\n",
    "\n",
    "ax.plot(support, f(support, par_min[0], par_min[1], par_min[2], par_min[3]))\n",
    "ax.plot(support, f(support, par_max[0], par_max[1], par_max[2], par_max[3]))\n",
    "\n",
    "print(par_min[2], np.sqrt(cov_min[2,2]))\n",
    "print(par_max[2], np.sqrt(cov_max[2,2]))"
   ]
  },
  {
   "cell_type": "markdown",
   "metadata": {},
   "source": [
    "3\\. **2D minimization of a six-hump camelback function**\n",
    "\n",
    "$$\n",
    "f(x,y) = \\left(4-2.1x^2+\\frac{x^4}{3} \\right) x^2 +xy + (4y^2 -4)y^2\n",
    "$$\n",
    "\n",
    "has multiple global and local minima. Find the global minima of this function.\n",
    "\n",
    "Hints:\n",
    "\n",
    "* Variables can be restricted to $-2 < x < 2$ and $-1 < y < 1$.\n",
    "* Use numpy.meshgrid() and pylab.imshow() to find visually the regions.\n",
    "* Use scipy.optimize.minimize(), optionally trying out several of its methods.\n",
    "\n",
    "How many global minima are there, and what is the function value at those points? What happens for an initial guess of $(x, y) = (0, 0)$ ?\n"
   ]
  },
  {
   "cell_type": "code",
   "execution_count": null,
   "metadata": {},
   "outputs": [],
   "source": [
    "from scipy.optimize import minimize\n",
    "\n",
    "def f(l):\n",
    "    x = l[0]\n",
    "    y = l[1] \n",
    "    return (4 - 2.1*x*x + pow(x,4)/3)*x*x + x*y + (4*y*y -4)*y*y \n",
    "\n",
    "X = np.linspace(-2,2,200)\n",
    "Y = np.linspace(-1,1,200)\n",
    "Z = (np.meshgrid(X,Y))\n",
    "\n",
    "fig, ax = plt.subplots(figsize=(12,6))\n",
    "im = ax.imshow(f(Z),cmap = \"inferno\", extent = ([-2,2,-1,1]))\n",
    "fig.colorbar(im)\n",
    "ax.set_title(\"Plot of the 2d function\")\n",
    "\n",
    "\n",
    "def f_opt(x, y):\n",
    "    return (4 - 2.1*x*x + pow(x,4)/3)*x*x + x*y + (4*y*y -4)*y*y \n",
    "\n",
    "# to find all minima,\n",
    "N = 10\n",
    "initial_guess = np.array([(i/10,j/10) for i in range(-2*N,2*N,1) for j in range(-1*N,1*N,1)] )\n",
    "minima = [minimize(f, x0 = initial_guess[i]).x for i in range(len(initial_guess))]\n",
    "\n",
    "for i in range(len(minima)):\n",
    "    ax.scatter(initial_guess[i][0],initial_guess[i][1], c = \"y\", s = 1)\n",
    "    ax.scatter(minima[i][0], minima[i][1], c = \"g\")\n",
    "ax.scatter(minima[:-1][0],minima[:-1][1],c = \"g\", label =\"converging minima points\")\n",
    "ax.scatter(initial_guess[0][0],initial_guess[0][1], c = \"y\", label =\"starting points\")\n",
    "ax.legend(loc = \"best\")\n",
    "\n",
    "fig.tight_layout()\n",
    "plt.show()"
   ]
  }
 ],
 "metadata": {
  "kernelspec": {
   "display_name": "Python 3 (ipykernel)",
   "language": "python",
   "name": "python3"
  },
  "language_info": {
   "codemirror_mode": {
    "name": "ipython",
    "version": 3
   },
   "file_extension": ".py",
   "mimetype": "text/x-python",
   "name": "python",
   "nbconvert_exporter": "python",
   "pygments_lexer": "ipython3",
   "version": "3.9.20"
  }
 },
 "nbformat": 4,
 "nbformat_minor": 4
}
